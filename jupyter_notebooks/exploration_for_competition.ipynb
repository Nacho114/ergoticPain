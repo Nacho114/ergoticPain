{
 "cells": [
  {
   "cell_type": "code",
   "execution_count": 1,
   "metadata": {},
   "outputs": [],
   "source": [
    "import numpy as np\n",
    "import matplotlib.pyplot as plt\n",
    "%matplotlib inline"
   ]
  },
  {
   "cell_type": "code",
   "execution_count": 2,
   "metadata": {},
   "outputs": [],
   "source": [
    "'''\n",
    "Returns the sum of 2 vectors of not necesseraly the same length by appending 0's to the shorter vector.\n",
    "'''\n",
    "def sum_two_vec_pad(a, b):\n",
    "    if len(a) < len(b):\n",
    "        c = b.copy()\n",
    "        c[:len(a)] += a\n",
    "    else:\n",
    "        c = a.copy()\n",
    "        c[:len(b)] += b\n",
    "    return c\n",
    "\n",
    "'''\n",
    "returns the energy for an estimated weight vector omega, with data (X, Y)\n",
    "'''\n",
    "def energy(w, X, Y):\n",
    "    Y_est = np.sign(np.dot(X, w))\n",
    "    return 0.5 * np.sum((Y - Y_est)**2)\n",
    "\n",
    "def accept_prob(wp, w, beta, X, Y):\n",
    "    return min(1, np.exp(-beta*(energy(wp, X, Y) - energy(w, X, Y))))\n",
    "\n",
    "def accept_prob_with_energy(wp, w, beta, X, Y):\n",
    "    next_energy = energy(wp, X, Y)\n",
    "    return (min(1, np.exp(-beta*(next_energy - energy(w, X, Y)))), next_energy)\n",
    "\n",
    "def accept_prob_with_energy_using_energy(wp, prev_energy, beta, X, Y):\n",
    "    next_energy = energy(wp, X, Y)\n",
    "    return (min(1.0, np.exp(-beta*(next_energy - prev_energy))), next_energy)\n",
    "\n",
    "def overlap(wp, w):\n",
    "    return 1.0 / (w.shape[0]) * np.dot(w, wp)\n",
    "\n",
    "def delta_energy_fast(w, wp, idx, X, Y):\n",
    "    Xw = np.dot(X, w)\n",
    "    w_tmp = np.zeros(w.shape[0])\n",
    "    w_tmp[idx] = wp[idx] - w[idx] \n",
    "    Xwp = Xw + np.dot(X, w_tmp)\n",
    "    Y_est = np.sign(Xw)\n",
    "    Y_estp = np.sign(Xwp)\n",
    "    return 0.5 * np.sum((Y - Y_estp)**2),  0.5*np.sum((Y - Y_est)**2)\n",
    "\n",
    "def accept_prob_fast(wp, w, beta, X, Y, idx):\n",
    "    e_next, e = delta_energy_fast(w, wp, idx, X, Y)\n",
    "    return min(1, np.exp(-beta*(e_next - e))), e_next"
   ]
  },
  {
   "cell_type": "code",
   "execution_count": 60,
   "metadata": {},
   "outputs": [],
   "source": [
    "def metropolis_fastest(w_init, beta, beta_pace, X, Y, epsilon=0):\n",
    "\n",
    "    N = w_init.shape[0]\n",
    "    w = np.copy(w_init)\n",
    "\n",
    "    energy_record = np.array([])\n",
    "    current_energy = energy(w, X, Y)\n",
    "    energy_record = np.append(energy_record, current_energy)\n",
    "   \n",
    "    while (current_energy > epsilon):\n",
    "    \n",
    "        index_rand = np.random.randint(0, N)\n",
    "        wp = np.copy(w)\n",
    "        wp[index_rand] = -1 * wp[index_rand]\n",
    "        \n",
    "        accept_probability, next_energy = accept_prob_with_energy_using_energy(wp, current_energy, beta, X, Y)\n",
    "        if np.random.uniform() < accept_probability:\n",
    "            # accept the move, update the weights and the current energy\n",
    "            w = wp \n",
    "            current_energy = next_energy\n",
    "        \n",
    "        energy_record= np.append(energy_record, current_energy)\n",
    "        beta = beta * beta_pace\n",
    "        \n",
    "    return w, energy_record\n",
    "\n",
    "def metropolis_mult_fastest(nb_runs, beta, beta_pace, N, M, epsilon=0):\n",
    "    energy_record_acc = np.zeros(N)\n",
    "\n",
    "    for k in range(0, nb_runs):\n",
    "        w = 2 * np.random.random_integers(0, 1, N) - 1\n",
    "        X = np.random.randn(M, N)\n",
    "        Y = np.sign(np.dot(X, w))\n",
    "        w_init =  2 * np.random.randint(0, 2, N) - 1\n",
    "        _, energy_record = metropolis_fastest(w_init, beta, beta_pace, X, Y, epsilon)\n",
    "        energy_record_acc = sum_two_vec_pad(energy_record_acc, energy_record)\n",
    "        \n",
    "\n",
    "    return energy_record_acc / nb_runs"
   ]
  },
  {
   "cell_type": "code",
   "execution_count": 51,
   "metadata": {},
   "outputs": [],
   "source": [
    "np.random.seed(2121)"
   ]
  },
  {
   "cell_type": "code",
   "execution_count": 78,
   "metadata": {},
   "outputs": [
    {
     "name": "stderr",
     "output_type": "stream",
     "text": [
      "/usr/local/lib/python2.7/site-packages/ipykernel_launcher.py:31: DeprecationWarning: This function is deprecated. Please call randint(0, 1 + 1) instead\n"
     ]
    },
    {
     "name": "stdout",
     "output_type": "stream",
     "text": [
      "0.28\n"
     ]
    },
    {
     "data": {
      "image/png": "[encoded data removed]",
      "text/plain": [
       "<matplotlib.figure.Figure at 0x10c5fca90>"
      ]
     },
     "metadata": {},
     "output_type": "display_data"
    }
   ],
   "source": [
    "nb_runs = 20\n",
    "\n",
    "# alpha and beta in [0.5, 5], for 'interesting' results as per paper.\n",
    "N = 40\n",
    "M = 250\n",
    "beta = 0.3\n",
    "beta_pace = 1.001\n",
    "\n",
    "# Tests for part 1.\n",
    "import timeit\n",
    "start_time = timeit.default_timer()\n",
    "\n",
    "part1_1 = metropolis_mult_fastest(nb_runs, beta, beta_pace, N, M, epsilon=0)\n",
    "plt.plot(part1_1);\n",
    "elapsed = timeit.default_timer() - start_time\n",
    "print(round(elapsed, 2))"
   ]
  },
  {
   "cell_type": "markdown",
   "metadata": {},
   "source": [
    "# Observations\n",
    "\n",
    "With smaller N (e.g. N = 40), a higher pace is faster.\n",
    "For beta_pace = 1.001, convergence will be quite fast for N = 40, but slow for N = 60"
   ]
  },
  {
   "cell_type": "code",
   "execution_count": null,
   "metadata": {},
   "outputs": [],
   "source": []
  },
  {
   "cell_type": "markdown",
   "metadata": {},
   "source": [
    "# Quadratic multiplicative cooling\n",
    "\n",
    "\n"
   ]
  },
  {
   "cell_type": "code",
   "execution_count": 70,
   "metadata": {},
   "outputs": [],
   "source": [
    "def metropolis_quad_cooling(w_init, beta_init, lamb, X, Y, epsilon=0):\n",
    "\n",
    "    N = w_init.shape[0]\n",
    "    w = np.copy(w_init)\n",
    "\n",
    "    energy_record = np.array([])\n",
    "    current_energy = energy(w, X, Y)\n",
    "    energy_record = np.append(energy_record, current_energy)\n",
    "    \n",
    " \n",
    "    k = 0\n",
    "    while (current_energy > epsilon):\n",
    "    \n",
    "        index_rand = np.random.randint(0, N)\n",
    "        wp = np.copy(w)\n",
    "        wp[index_rand] = -1 * wp[index_rand]\n",
    "        \n",
    "        accept_probability, next_energy = accept_prob_with_energy_using_energy(wp, current_energy, beta, X, Y)\n",
    "        if np.random.uniform() < accept_probability:\n",
    "            # accept the move, update the weights and the current energy\n",
    "            w = wp \n",
    "            current_energy = next_energy\n",
    "        \n",
    "        energy_record= np.append(energy_record, current_energy)\n",
    "        beta = beta_init * (1 + lamb*k*k)\n",
    "        k += 1\n",
    "        \n",
    "    return w, energy_record\n",
    "\n",
    "def metropolis_mult_quad_cooling(nb_runs, beta_init, lamb, N, M, epsilon=0):\n",
    "    energy_record_acc = np.zeros(N)\n",
    "\n",
    "    for k in range(0, nb_runs):\n",
    "        w = 2 * np.random.random_integers(0, 1, N) - 1\n",
    "        X = np.random.randn(M, N)\n",
    "        Y = np.sign(np.dot(X, w))\n",
    "        w_init =  2 * np.random.randint(0, 2, N) - 1\n",
    "        _, energy_record = metropolis_fastest(w_init, beta_init, lamb, X, Y, epsilon)\n",
    "        energy_record_acc = sum_two_vec_pad(energy_record_acc, energy_record)\n",
    "        \n",
    "\n",
    "    return energy_record_acc / nb_runs"
   ]
  },
  {
   "cell_type": "code",
   "execution_count": 77,
   "metadata": {},
   "outputs": [
    {
     "name": "stderr",
     "output_type": "stream",
     "text": [
      "/usr/local/lib/python2.7/site-packages/ipykernel_launcher.py:34: DeprecationWarning: This function is deprecated. Please call randint(0, 1 + 1) instead\n"
     ]
    },
    {
     "name": "stdout",
     "output_type": "stream",
     "text": [
      "0.22\n"
     ]
    },
    {
     "data": {
      "image/png": "[encoded data removed]",
      "text/plain": [
       "<matplotlib.figure.Figure at 0x10e5bf8d0>"
      ]
     },
     "metadata": {},
     "output_type": "display_data"
    }
   ],
   "source": [
    "nb_runs = 20\n",
    "\n",
    "# alpha and beta in [0.5, 5], for 'interesting' results as per paper.\n",
    "N = 40\n",
    "M = 250\n",
    "beta_init = 0.8\n",
    "lamb = 0.999\n",
    "\n",
    "# Tests for part 1.\n",
    "import timeit\n",
    "start_time = timeit.default_timer()\n",
    "\n",
    "part1_1 = metropolis_mult_quad_cooling(nb_runs, beta_init, lamb, N, M, epsilon=0)\n",
    "plt.plot(part1_1);\n",
    "elapsed = timeit.default_timer() - start_time\n",
    "print(round(elapsed, 2))"
   ]
  },
  {
   "cell_type": "code",
   "execution_count": null,
   "metadata": {},
   "outputs": [],
   "source": []
  }
 ],
 "metadata": {
  "kernelspec": {
   "display_name": "Python 3",
   "language": "python",
   "name": "python3"
  },
  "language_info": {
   "codemirror_mode": {
    "name": "ipython",
    "version": 2
   },
   "file_extension": ".py",
   "mimetype": "text/x-python",
   "name": "python",
   "nbconvert_exporter": "python",
   "pygments_lexer": "ipython2",
   "version": "2.7.14"
  }
 },
 "nbformat": 4,
 "nbformat_minor": 2
}
