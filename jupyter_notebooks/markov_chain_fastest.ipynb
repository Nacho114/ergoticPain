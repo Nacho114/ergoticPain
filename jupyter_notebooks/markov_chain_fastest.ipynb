{
 "cells": [
  {
   "cell_type": "code",
   "execution_count": 8,
   "metadata": {},
   "outputs": [],
   "source": [
    "import numpy as np\n",
    "import matplotlib.pyplot as plt\n",
    "%matplotlib inline"
   ]
  },
  {
   "cell_type": "code",
   "execution_count": 171,
   "metadata": {},
   "outputs": [],
   "source": [
    "'''\n",
    "Returns the sum of 2 vectors of not necesseraly the same length by appending 0's to the shorter vector.\n",
    "'''\n",
    "def sum_two_vec_pad(a, b):\n",
    "    if len(a) < len(b):\n",
    "        c = b.copy()\n",
    "        c[:len(a)] += a\n",
    "    else:\n",
    "        c = a.copy()\n",
    "        c[:len(b)] += b\n",
    "    return c\n",
    "\n",
    "'''\n",
    "returns the energy for an estimated weight vector omega, with data (X, Y)\n",
    "'''\n",
    "def energy(w, X, Y):\n",
    "    Y_est = np.sign(np.dot(X, w))\n",
    "    return 0.5 * np.sum((Y - Y_est)**2)\n",
    "\n",
    "def accept_prob(wp, w, beta, X, Y):\n",
    "    return min(1, np.exp(-beta*(energy(wp, X, Y) - energy(w, X, Y))))\n",
    "\n",
    "def accept_prob_with_energy(wp, w, beta, X, Y):\n",
    "    next_energy = energy(wp, X, Y)\n",
    "    return (min(1, np.exp(-beta*(next_energy - energy(w, X, Y)))), next_energy)\n",
    "\n",
    "def accept_prob_with_energy_using_energy(wp, prev_energy, beta, X, Y):\n",
    "    next_energy = energy(wp, X, Y)\n",
    "    return (min(1.0, np.exp(-beta*(next_energy - prev_energy))), next_energy)\n",
    "\n",
    "def overlap(wp, w):\n",
    "    return 1.0 / (w.shape[0]) * np.dot(w, wp)"
   ]
  },
  {
   "cell_type": "code",
   "execution_count": 10,
   "metadata": {},
   "outputs": [],
   "source": [
    "def delta_energy_fast(w, wp, idx, X, Y):\n",
    "    Xw = np.dot(X, w)\n",
    "    w_tmp = np.zeros(w.shape[0])\n",
    "    w_tmp[idx] = wp[idx] - w[idx] \n",
    "    Xwp = Xw + np.dot(X, w_tmp)\n",
    "    Y_est = np.sign(Xw)\n",
    "    Y_estp = np.sign(Xwp)\n",
    "    return 0.5 * np.sum((Y - Y_estp)**2),  0.5*np.sum((Y - Y_est)**2)\n",
    "\n",
    "\n",
    "def accept_prob_fast(wp, w, beta, X, Y, idx):\n",
    "    e_next, e = delta_energy_fast(w, wp, idx, X, Y)\n",
    "    return min(1, np.exp(-beta*(e_next - e))), e_next"
   ]
  },
  {
   "cell_type": "code",
   "execution_count": 132,
   "metadata": {},
   "outputs": [],
   "source": [
    "np.random.seed(2121)"
   ]
  },
  {
   "cell_type": "code",
   "execution_count": 12,
   "metadata": {},
   "outputs": [
    {
     "data": {
      "text/plain": [
       "array([-1, -1, -1,  1, -1,  1])"
      ]
     },
     "execution_count": 12,
     "metadata": {},
     "output_type": "execute_result"
    }
   ],
   "source": [
    "2*np.random.randint(0, 2, 6) -1"
   ]
  },
  {
   "cell_type": "code",
   "execution_count": 13,
   "metadata": {},
   "outputs": [
    {
     "data": {
      "text/plain": [
       "array([-1,  1,  1, -1, -1,  1])"
      ]
     },
     "execution_count": 13,
     "metadata": {},
     "output_type": "execute_result"
    }
   ],
   "source": [
    "2*np.random.randint(0, 2, 6) -1"
   ]
  },
  {
   "cell_type": "code",
   "execution_count": 14,
   "metadata": {},
   "outputs": [
    {
     "data": {
      "text/plain": [
       "array([-1, -1,  1, -1, -1, -1])"
      ]
     },
     "execution_count": 14,
     "metadata": {},
     "output_type": "execute_result"
    }
   ],
   "source": [
    "2*np.random.randint(0, 2, 6) -1"
   ]
  },
  {
   "cell_type": "code",
   "execution_count": 15,
   "metadata": {},
   "outputs": [],
   "source": [
    "def metropolis(w_init, beta, X, Y, epsilon=0):\n",
    "\n",
    "    N = w_init.shape[0]\n",
    "    w = np.copy(w_init)\n",
    "    wp = np.copy(w)\n",
    "\n",
    "    energy_record = np.array([])\n",
    "    energy_record = np.append(energy_record, energy(w_init, X, Y))\n",
    "\n",
    "    while (energy(w, X, Y) > epsilon):\n",
    "\n",
    "        index_rand = np.random.randint(0, N)\n",
    "        wp = np.copy(w)\n",
    "        wp[index_rand] = -1 * wp[index_rand]\n",
    "\n",
    "        if np.random.uniform() < accept_prob(wp, w, beta, X, Y):\n",
    "            w = np.copy(wp)\n",
    "\n",
    "        energy_record= np.append(energy_record, energy(w, X, Y))\n",
    "\n",
    "    return w, energy_record"
   ]
  },
  {
   "cell_type": "code",
   "execution_count": 16,
   "metadata": {},
   "outputs": [],
   "source": [
    "# Multiple runs of the metropolis algorithm\n",
    "def metropolis_mult(nb_runs, beta, X, Y, epsilon=0):\n",
    "    N = X.shape[1]\n",
    "    # why of size N\n",
    "    # Because we want to see the avg energy as in every dimension\n",
    "    energy_record_acc = np.zeros(N)\n",
    "\n",
    "    for k in range(0, nb_runs):\n",
    "        w_init =  2 * np.random.randint(0, 2, N) - 1\n",
    "        _, energy_record = metropolis(w_init, beta, X, Y, epsilon)\n",
    "        #print(energy_record, \" at run \", k)\n",
    "        energy_record_acc = sum_two_vec_pad(energy_record_acc, energy_record)\n",
    "\n",
    "\n",
    "    return energy_record_acc / nb_runs"
   ]
  },
  {
   "cell_type": "code",
   "execution_count": 17,
   "metadata": {},
   "outputs": [],
   "source": [
    "###\n",
    "\n",
    "### Part 1\n",
    "\n",
    "###\n",
    "\n",
    "\n",
    "################ 1.\n",
    "\n",
    "\n",
    "def metropolis_fast(w_init, beta, X, Y, epsilon=0):\n",
    "\n",
    "    N = w_init.shape[0]\n",
    "    w = np.copy(w_init)\n",
    "\n",
    "    energy_record = np.array([])\n",
    "    current_energy = energy(w, X, Y)\n",
    "    energy_record = np.append(energy_record, current_energy)\n",
    "\n",
    "    while (current_energy > epsilon):\n",
    "\n",
    "        index_rand = np.random.randint(0, N)\n",
    "        wp = np.copy(w)\n",
    "        wp[index_rand] = -1 * wp[index_rand]\n",
    "\n",
    "        if np.random.uniform() < accept_prob(wp, w, beta, X, Y):\n",
    "            # accept the move, update the weights and the current energy\n",
    "            # TODO: we can also optimize this as accept prob inherently computes this energy\n",
    "            w = wp \n",
    "            current_energy = energy(w, X, Y)\n",
    "        \n",
    "        energy_record= np.append(energy_record, current_energy)\n",
    "\n",
    "    return w, energy_record\n",
    "\n",
    "def metropolis_mult_fast(nb_runs, beta, X, Y, epsilon=0):\n",
    "    N = X.shape[1]\n",
    "    # why of size N\n",
    "    energy_record_acc = np.zeros(N)\n",
    "\n",
    "    for k in range(0, nb_runs):\n",
    "        w_init =  2 * np.random.randint(0, 2, N) - 1\n",
    "        _, energy_record = metropolis_fast(w_init, beta, X, Y, epsilon)\n",
    "        #print(energy_record, \" at run \", k)\n",
    "        energy_record_acc = sum_two_vec_pad(energy_record_acc, energy_record)\n",
    "\n",
    "\n",
    "    return energy_record_acc / nb_runs"
   ]
  },
  {
   "cell_type": "code",
   "execution_count": 18,
   "metadata": {},
   "outputs": [],
   "source": [
    "def metropolis_fast1(w_init, beta, X, Y, epsilon=0):\n",
    "\n",
    "    N = w_init.shape[0]\n",
    "    w = np.copy(w_init)\n",
    "\n",
    "    energy_record = np.array([])\n",
    "    current_energy = energy(w, X, Y)\n",
    "    energy_record = np.append(energy_record, current_energy)\n",
    "\n",
    "    while (current_energy > epsilon):\n",
    "\n",
    "        index_rand = np.random.randint(0, N)\n",
    "        wp = np.copy(w)\n",
    "        wp[index_rand] = -1 * wp[index_rand]\n",
    "        \n",
    "        accept_probability, next_energy = accept_prob_with_energy(wp, w, beta, X, Y)\n",
    "        if np.random.uniform() < accept_probability:\n",
    "            # accept the move, update the weights and the current energy\n",
    "            # TODO: we can also optimize this as accept prob inherently computes this energy\n",
    "            w = wp \n",
    "            current_energy = next_energy\n",
    "        \n",
    "        energy_record= np.append(energy_record, current_energy)\n",
    "\n",
    "    return w, energy_record\n",
    "\n",
    "def metropolis_mult_fast1(nb_runs, beta, X, Y, epsilon=0):\n",
    "    N = X.shape[1]\n",
    "    # why of size N\n",
    "    energy_record_acc = np.zeros(N)\n",
    "\n",
    "    for k in range(0, nb_runs):\n",
    "        w_init =  2 * np.random.randint(0, 2, N) - 1\n",
    "        _, energy_record = metropolis_fast1(w_init, beta, X, Y, epsilon)\n",
    "        #print(energy_record, \" at run \", k)\n",
    "        energy_record_acc = sum_two_vec_pad(energy_record_acc, energy_record)\n",
    "\n",
    "\n",
    "    return energy_record_acc / nb_runs"
   ]
  },
  {
   "cell_type": "code",
   "execution_count": 34,
   "metadata": {},
   "outputs": [],
   "source": [
    "def metropolis_fastest(w_init, beta, X, Y, epsilon=0):\n",
    "\n",
    "    N = w_init.shape[0]\n",
    "    w = np.copy(w_init)\n",
    "\n",
    "    energy_record = np.array([])\n",
    "    current_energy = energy(w, X, Y)\n",
    "    energy_record = np.append(energy_record, current_energy)\n",
    "    ctr = 0\n",
    "    while (current_energy > epsilon):\n",
    "        ctr +=1\n",
    "        index_rand = np.random.randint(0, N)\n",
    "        wp = np.copy(w)\n",
    "        wp[index_rand] = -1 * wp[index_rand]\n",
    "        \n",
    "        accept_probability, next_energy = accept_prob_with_energy_using_energy(wp, current_energy, beta, X, Y)\n",
    "        if np.random.uniform() < accept_probability:\n",
    "            # accept the move, update the weights and the current energy\n",
    "            w = wp \n",
    "            current_energy = next_energy\n",
    "        \n",
    "        energy_record= np.append(energy_record, current_energy)\n",
    "        \n",
    "    return w, energy_record, ctr\n",
    "\n",
    "def metropolis_mult_fastest(nb_runs, beta, X, Y, epsilon=0):\n",
    "    N = X.shape[1]\n",
    "    # why of size N\n",
    "    energy_record_acc = np.zeros(N)\n",
    "\n",
    "    for k in range(0, nb_runs):\n",
    "        w_init =  2 * np.random.randint(0, 2, N) - 1\n",
    "        _, energy_record, ctr = metropolis_fastest(w_init, beta, X, Y, epsilon)\n",
    "        energy_record_acc = sum_two_vec_pad(energy_record_acc, energy_record)\n",
    "        \n",
    "\n",
    "    return energy_record_acc / nb_runs"
   ]
  },
  {
   "cell_type": "code",
   "execution_count": 20,
   "metadata": {},
   "outputs": [],
   "source": [
    "def metropolis_faster(w_init, beta, X, Y, epsilon=0):\n",
    "\n",
    "    N = w_init.shape[0]\n",
    "    w = np.copy(w_init)\n",
    "\n",
    "    energy_record = np.array([])\n",
    "    current_energy = energy(w, X, Y)\n",
    "    energy_record = np.append(energy_record, current_energy)\n",
    "    \n",
    "    while (current_energy > epsilon):\n",
    "\n",
    "        index_rand = np.random.randint(0, N)\n",
    "        wp = np.copy(w)\n",
    "        wp[index_rand] = -1 * wp[index_rand]\n",
    "        accept_probability, next_energy = accept_prob_fast(wp, w, beta, X, Y, index_rand)\n",
    "        if np.random.uniform() < accept_probability:\n",
    "            # accept the move, update the weights and the current energy\n",
    "            w = wp \n",
    "            current_energy = next_energy\n",
    "        \n",
    "        energy_record= np.append(energy_record, current_energy)\n",
    "\n",
    "    return w, energy_record\n",
    "\n",
    "def metropolis_mult_faster(nb_runs, beta, X, Y, epsilon=0):\n",
    "    N = X.shape[1]\n",
    "    # why of size N\n",
    "    energy_record_acc = np.zeros(N)\n",
    "\n",
    "    for k in range(0, nb_runs):\n",
    "        w_init =  2 * np.random.randint(0, 2, N) - 1\n",
    "        _, energy_record = metropolis_faster(w_init, beta, X, Y, epsilon)\n",
    "        #print(energy_record, \" at run \", k)\n",
    "        energy_record_acc = sum_two_vec_pad(energy_record_acc, energy_record)\n",
    "\n",
    "\n",
    "    return energy_record_acc / nb_runs"
   ]
  },
  {
   "cell_type": "code",
   "execution_count": 21,
   "metadata": {},
   "outputs": [
    {
     "name": "stderr",
     "output_type": "stream",
     "text": [
      "/mlodata1/sidak/anaconda/envs/python3.6/lib/python3.6/site-packages/ipykernel_launcher.py:7: DeprecationWarning: This function is deprecated. Please call randint(0, 1 + 1) instead\n",
      "  import sys\n"
     ]
    }
   ],
   "source": [
    "# alpha and beta in [0.5, 5], for 'interesting' results as per paper.\n",
    "N = 40\n",
    "M = 200\n",
    "alpha = M / N\n",
    "beta = 0.2\n",
    "\n",
    "w = 2 * np.random.random_integers(0, 1, N) - 1\n",
    "\n",
    "# drawn randomly from normal/gaussian distribution of 0 mean & unit variance\n",
    "# matrix of shape (200, 40)\n",
    "X = np.random.randn(M, N)\n",
    "\n",
    "# vector of shape (200, )\n",
    "Y = np.sign(np.dot(X, w))\n"
   ]
  },
  {
   "cell_type": "code",
   "execution_count": 22,
   "metadata": {},
   "outputs": [],
   "source": [
    "nb_runs = 10\n"
   ]
  },
  {
   "cell_type": "code",
   "execution_count": 75,
   "metadata": {},
   "outputs": [
    {
     "name": "stdout",
     "output_type": "stream",
     "text": [
      "24.704967570956796\n"
     ]
    },
    {
     "data": {
      "image/png": "[encoded data removed]",
      "text/plain": [
       "<matplotlib.figure.Figure at 0x7f6d99bd0710>"
      ]
     },
     "metadata": {},
     "output_type": "display_data"
    }
   ],
   "source": [
    "# Tests for part 1.\n",
    "import timeit\n",
    "start_time = timeit.default_timer()\n",
    "\n",
    "\n",
    "part1_1 = metropolis_mult_fast(nb_runs, beta, X, Y, epsilon=0)\n",
    "plt.plot(part1_1);\n",
    "elapsed = timeit.default_timer() - start_time\n",
    "print(elapsed)"
   ]
  },
  {
   "cell_type": "code",
   "execution_count": 76,
   "metadata": {},
   "outputs": [
    {
     "name": "stdout",
     "output_type": "stream",
     "text": [
      "35.081297509837896\n"
     ]
    },
    {
     "data": {
      "image/png": "[encoded data removed]",
      "text/plain": [
       "<matplotlib.figure.Figure at 0x7f6d99eecb00>"
      ]
     },
     "metadata": {},
     "output_type": "display_data"
    }
   ],
   "source": [
    "# Tests for part 1.\n",
    "import timeit\n",
    "start_time = timeit.default_timer()\n",
    "\n",
    "part1_1 = metropolis_mult(nb_runs, beta, X, Y, epsilon=0)\n",
    "plt.plot(part1_1);\n",
    "elapsed = timeit.default_timer() - start_time\n",
    "print(elapsed)"
   ]
  },
  {
   "cell_type": "code",
   "execution_count": 77,
   "metadata": {},
   "outputs": [
    {
     "name": "stdout",
     "output_type": "stream",
     "text": [
      "17.854145042132586\n"
     ]
    },
    {
     "data": {
      "image/png": "[encoded data removed]",
      "text/plain": [
       "<matplotlib.figure.Figure at 0x7f6d99bcf908>"
      ]
     },
     "metadata": {},
     "output_type": "display_data"
    }
   ],
   "source": [
    "# Tests for part 1.\n",
    "import timeit\n",
    "start_time = timeit.default_timer()\n",
    "\n",
    "part1_1 = metropolis_mult_faster(nb_runs, beta, X, Y, epsilon=0)\n",
    "plt.plot(part1_1);\n",
    "elapsed = timeit.default_timer() - start_time\n",
    "print(elapsed)"
   ]
  },
  {
   "cell_type": "code",
   "execution_count": 78,
   "metadata": {},
   "outputs": [
    {
     "name": "stdout",
     "output_type": "stream",
     "text": [
      "28.527957543265074\n"
     ]
    },
    {
     "data": {
      "image/png": "[encoded data removed]",
      "text/plain": [
       "<matplotlib.figure.Figure at 0x7f6d99d38828>"
      ]
     },
     "metadata": {},
     "output_type": "display_data"
    }
   ],
   "source": [
    "# Tests for part 1.\n",
    "import timeit\n",
    "start_time = timeit.default_timer()\n",
    "\n",
    "part1_1 = metropolis_mult_fast1(nb_runs, beta, X, Y, epsilon=0)\n",
    "plt.plot(part1_1);\n",
    "elapsed = timeit.default_timer() - start_time\n",
    "print(elapsed)"
   ]
  },
  {
   "cell_type": "code",
   "execution_count": 33,
   "metadata": {
    "scrolled": true
   },
   "outputs": [
    {
     "name": "stdout",
     "output_type": "stream",
     "text": [
      "1.2162778479978442\n"
     ]
    },
    {
     "data": {
      "image/png": "[encoded data removed]",
      "text/plain": [
       "<matplotlib.figure.Figure at 0x7f0eee97a0f0>"
      ]
     },
     "metadata": {},
     "output_type": "display_data"
    }
   ],
   "source": [
    "# Tests for part 1.\n",
    "import timeit\n",
    "start_time = timeit.default_timer()\n",
    "\n",
    "part1_1 = metropolis_mult_fastest(nb_runs, beta, X, Y, epsilon=0)\n",
    "plt.plot(part1_1);\n",
    "elapsed = timeit.default_timer() - start_time\n",
    "print(elapsed)"
   ]
  },
  {
   "cell_type": "code",
   "execution_count": 86,
   "metadata": {},
   "outputs": [
    {
     "name": "stdout",
     "output_type": "stream",
     "text": [
      "1.525174472015351\n"
     ]
    },
    {
     "data": {
      "image/png": "[encoded data removed]",
      "text/plain": [
       "<matplotlib.figure.Figure at 0x7f6d99a6a5c0>"
      ]
     },
     "metadata": {},
     "output_type": "display_data"
    }
   ],
   "source": [
    "# Tests for part 1.\n",
    "import timeit\n",
    "start_time = timeit.default_timer()\n",
    "\n",
    "part1_1 = metropolis_mult_fastest(nb_runs, beta, X, Y, epsilon=0)\n",
    "plt.plot(part1_1);\n",
    "elapsed = timeit.default_timer() - start_time\n",
    "print(elapsed)"
   ]
  },
  {
   "cell_type": "markdown",
   "metadata": {},
   "source": [
    "The reason we have to do such a sum_two_vec_pad is because in the end we want to obtain how the energy trends on average over the nb_runs. Also, it makes sense to use a 0 padding corresponding to the iterations for which we don't have values returned Metropolis. This is because the Metropolis would have converged and the energy would be 0 for those later iterations! \n",
    "\n",
    "Some inspection done earlier:\n",
    "\n",
    "len of energy record at run  k : 0  is  971  and metropolis ran for ctr:  970\n",
    "len of energy_record_acc is before k is  40\n",
    "len of energy_record_acc is after k is  971\n",
    "len of energy record at run  k : 1  is  1913  and metropolis ran for ctr:  1912\n",
    "len of energy_record_acc is before k is  971\n",
    "len of energy_record_acc is after k is  1913\n",
    "len of energy record at run  k : 2  is  4769  and metropolis ran for ctr:  4768\n",
    "len of energy_record_acc is before k is  1913\n",
    "len of energy_record_acc is after k is  4769\n",
    "len of energy record at run  k : 3  is  336  and metropolis ran for ctr:  335\n",
    "len of energy_record_acc is before k is  4769\n",
    "len of energy_record_acc is after k is  4769\n",
    "len of energy record at run  k : 4  is  1376  and metropolis ran for ctr:  1375\n",
    "len of energy_record_acc is before k is  4769\n",
    "len of energy_record_acc is after k is  4769\n",
    "len of energy record at run  k : 5  is  2436  and metropolis ran for ctr:  2435\n",
    "len of energy_record_acc is before k is  4769\n",
    "len of energy_record_acc is after k is  4769\n",
    "len of energy record at run  k : 6  is  4352  and metropolis ran for ctr:  4351\n",
    "len of energy_record_acc is before k is  4769\n",
    "len of energy_record_acc is after k is  4769\n",
    "len of energy record at run  k : 7  is  3649  and metropolis ran for ctr:  3648\n",
    "len of energy_record_acc is before k is  4769\n",
    "len of energy_record_acc is after k is  4769\n",
    "len of energy record at run  k : 8  is  1965  and metropolis ran for ctr:  1964\n",
    "len of energy_record_acc is before k is  4769\n",
    "len of energy_record_acc is after k is  4769\n",
    "len of energy record at run  k : 9  is  1996  and metropolis ran for ctr:  1995\n",
    "len of energy_record_acc is before k is  4769\n",
    "len of energy_record_acc is after k is  4769"
   ]
  },
  {
   "cell_type": "code",
   "execution_count": 35,
   "metadata": {},
   "outputs": [],
   "source": [
    "###\n",
    "\n",
    "### Part 1\n",
    "\n",
    "###\n",
    "\n",
    "\n",
    "################ 2.\n",
    "\n",
    "def metropolis2(w_init, beta, X, Y, T=10):\n",
    "\n",
    "    N = w_init.shape[0]\n",
    "    M = X.shape[0]\n",
    "    w = np.copy(w_init)\n",
    "    wp = np.copy(w)\n",
    "\n",
    "    for _ in range(0, T):\n",
    "\n",
    "        index_rand = np.random.randint(0, N)\n",
    "        wp = np.copy(w)\n",
    "        wp[index_rand] = -1 * wp[index_rand]\n",
    "\n",
    "        if np.random.uniform() < accept_prob(wp, w, beta, X, Y):\n",
    "            w = np.copy(wp)\n",
    "\n",
    "    energy_record = energy(w, X, Y)\n",
    "\n",
    "    return (1.0/M) * energy_record\n",
    "\n",
    "def metropolis_mult2(nb_runs, N, alpha_list, beta, T):\n",
    "\n",
    "    normalized_energies_per_alpha = np.array([])\n",
    "\n",
    "    for alpha in alpha_list:\n",
    "\n",
    "        M = int(round(alpha * N))\n",
    "\n",
    "        energy_record_acc = np.zeros(nb_runs)\n",
    "        \n",
    "        for i in range(nb_runs):\n",
    "\n",
    "            w = 2 * np.random.random_integers(0, 1, N) - 1\n",
    "            X = np.random.randn(M, N)\n",
    "            Y = np.sign(np.dot(X, w))\n",
    "\n",
    "            w_init = 2 * np.random.random_integers(0, 1, N) - 1\n",
    "\n",
    "            energy_record_acc[i] = metropolis2(w_init, beta, X, Y, T)\n",
    "\n",
    "        normalized_energies_per_alpha = np.append(normalized_energies_per_alpha, np.mean(energy_record_acc))\n",
    "\n",
    "    return normalized_energies_per_alpha"
   ]
  },
  {
   "cell_type": "code",
   "execution_count": 49,
   "metadata": {},
   "outputs": [
    {
     "name": "stderr",
     "output_type": "stream",
     "text": [
      "/mlodata1/sidak/anaconda/envs/python3.6/lib/python3.6/site-packages/ipykernel_launcher.py:42: DeprecationWarning: This function is deprecated. Please call randint(0, 1 + 1) instead\n",
      "/mlodata1/sidak/anaconda/envs/python3.6/lib/python3.6/site-packages/ipykernel_launcher.py:46: DeprecationWarning: This function is deprecated. Please call randint(0, 1 + 1) instead\n"
     ]
    },
    {
     "data": {
      "image/png": "[encoded data removed]",
      "text/plain": [
       "<matplotlib.figure.Figure at 0x7f0eeea4ef60>"
      ]
     },
     "metadata": {},
     "output_type": "display_data"
    }
   ],
   "source": [
    "################\n",
    "\n",
    "# Tests for part 2.\n",
    "\n",
    "# alpha and beta in [0.5, 5], for 'interesting' results as per paper.\n",
    "N = 40\n",
    "beta = 0.4\n",
    "\n",
    "alpha_list = np.linspace(0.5,5,10)\n",
    "T = 300\n",
    "nb_runs = 50\n",
    "part1_2 = metropolis_mult2(nb_runs, N, alpha_list, beta, T)\n",
    "\n",
    "plt.plot(alpha_list, part1_2);"
   ]
  },
  {
   "cell_type": "code",
   "execution_count": 50,
   "metadata": {},
   "outputs": [],
   "source": [
    "###\n",
    "\n",
    "### Part 1\n",
    "\n",
    "###\n",
    "\n",
    "\n",
    "################ 3.\n",
    "\n",
    "def metropolis3(w_init, beta, X, Y, epsilon=0):\n",
    "\n",
    "    N = w_init.shape[0]\n",
    "    w = np.copy(w_init)\n",
    "    wp = np.copy(w)\n",
    "\n",
    "    while (energy(w, X, Y) > epsilon):\n",
    "\n",
    "        index_rand = np.random.randint(0, N)\n",
    "        wp = np.copy(w)\n",
    "        wp[index_rand] = -1 * wp[index_rand]\n",
    "\n",
    "        if np.random.uniform() < accept_prob(wp, w, beta, X, Y):\n",
    "            w = np.copy(wp)\n",
    "\n",
    "    return w\n",
    "\n",
    "def metropolis_mult3(nb_runs, N, alpha_list, beta, epsilon=0):\n",
    "\n",
    "    overlap_per_alpha = np.array([])\n",
    "\n",
    "    for alpha in alpha_list:\n",
    "\n",
    "        M = int(round(alpha * N))\n",
    "\n",
    "        overlap_acc = np.zeros(nb_runs)\n",
    "        \n",
    "        for i in range(nb_runs):\n",
    "\n",
    "            w = 2 * np.random.random_integers(0, 1, N) - 1\n",
    "            X = np.random.randn(M, N)\n",
    "            Y = np.sign(np.dot(X, w))\n",
    "\n",
    "            w_init = 2 * np.random.random_integers(0, 1, N) - 1\n",
    "            \n",
    "            wp = metropolis3(w_init, beta, X, Y, epsilon)\n",
    "            \n",
    "            overlap_acc[i] = overlap(wp, w)\n",
    "\n",
    "        overlap_per_alpha = np.append(overlap_per_alpha, np.mean(overlap_acc))\n",
    "\n",
    "    return overlap_per_alpha"
   ]
  },
  {
   "cell_type": "code",
   "execution_count": 51,
   "metadata": {},
   "outputs": [
    {
     "name": "stderr",
     "output_type": "stream",
     "text": [
      "/mlodata1/sidak/anaconda/envs/python3.6/lib/python3.6/site-packages/ipykernel_launcher.py:39: DeprecationWarning: This function is deprecated. Please call randint(0, 1 + 1) instead\n",
      "/mlodata1/sidak/anaconda/envs/python3.6/lib/python3.6/site-packages/ipykernel_launcher.py:43: DeprecationWarning: This function is deprecated. Please call randint(0, 1 + 1) instead\n"
     ]
    },
    {
     "data": {
      "image/png": "[encoded data removed]",
      "text/plain": [
       "<matplotlib.figure.Figure at 0x7f0eee741e80>"
      ]
     },
     "metadata": {},
     "output_type": "display_data"
    }
   ],
   "source": [
    "################\n",
    "\n",
    "# Tests for part 3.\n",
    "\n",
    "# alpha and beta in [0.5, 5], for 'interesting' results as per paper.\n",
    "N = 20\n",
    "beta = 1\n",
    "\n",
    "alpha_list = np.linspace(0.5,5,20)\n",
    "nb_runs = 50\n",
    "part1_3 = metropolis_mult3(nb_runs, N, alpha_list, beta)\n",
    "\n",
    "plt.plot(alpha_list, part1_3);"
   ]
  },
  {
   "cell_type": "code",
   "execution_count": 53,
   "metadata": {},
   "outputs": [],
   "source": [
    "###\n",
    "\n",
    "### Part 2\n",
    "\n",
    "###\n",
    "\n",
    "\n",
    "################ 1.\n",
    "\n",
    "def metropolis4(w_init, beta_init, pace, step, is_pace, X, Y, T):\n",
    "\n",
    "    N = w_init.shape[0]\n",
    "    M = X.shape[0]\n",
    "    w = np.copy(w_init)\n",
    "    wp = np.copy(w)\n",
    "    \n",
    "    beta = beta_init\n",
    "    \n",
    "    for _ in range(0, T):\n",
    "\n",
    "        index_rand = np.random.randint(0, N)\n",
    "        wp = np.copy(w)\n",
    "        wp[index_rand] = -1 * wp[index_rand]\n",
    "\n",
    "        if np.random.uniform() < accept_prob(wp, w, beta, X, Y):\n",
    "            w = np.copy(wp)\n",
    "        \n",
    "        if is_pace:\n",
    "            beta *= pace\n",
    "        else:\n",
    "            beta += step\n",
    "    \n",
    "    energy_record = energy(w, X, Y)\n",
    "    \n",
    "    return w, (1.0/M) * energy_record\n",
    "\n",
    "\n",
    "def metropolis_mult4(nb_runs, N, alpha_list, beta_init, pace, step, is_pace, T):\n",
    "    \n",
    "    normalized_energies_per_alpha = np.array([])\n",
    "    overlap_per_alpha = np.array([])\n",
    "\n",
    "    for alpha in alpha_list:\n",
    "\n",
    "        M = int(round(alpha * N))\n",
    "\n",
    "        overlap_acc = np.zeros(nb_runs)\n",
    "        energy_record_acc = np.zeros(nb_runs)\n",
    "        \n",
    "        for i in range(nb_runs):\n",
    "\n",
    "            w = 2 * np.random.random_integers(0, 1, N) - 1\n",
    "            X = np.random.randn(M, N)\n",
    "            Y = np.sign(np.dot(X, w))\n",
    "\n",
    "            w_init = 2 * np.random.random_integers(0, 1, N) - 1\n",
    "            \n",
    "            wp, energy_record = metropolis4(w_init, beta_init, pace, step, is_pace, X, Y, T)\n",
    "            \n",
    "            energy_record_acc[i] = energy_record\n",
    "            overlap_acc[i] = overlap(wp, w)\n",
    "\n",
    "        overlap_per_alpha = np.append(overlap_per_alpha, np.mean(overlap_acc))\n",
    "        normalized_energies_per_alpha = np.append(normalized_energies_per_alpha, np.mean(energy_record_acc))\n",
    "        \n",
    "    return normalized_energies_per_alpha, overlap_per_alpha"
   ]
  },
  {
   "cell_type": "code",
   "execution_count": 84,
   "metadata": {},
   "outputs": [
    {
     "name": "stderr",
     "output_type": "stream",
     "text": [
      "/mlodata1/sidak/anaconda/envs/python3.6/lib/python3.6/site-packages/ipykernel_launcher.py:52: DeprecationWarning: This function is deprecated. Please call randint(0, 1 + 1) instead\n",
      "/mlodata1/sidak/anaconda/envs/python3.6/lib/python3.6/site-packages/ipykernel_launcher.py:56: DeprecationWarning: This function is deprecated. Please call randint(0, 1 + 1) instead\n"
     ]
    }
   ],
   "source": [
    "################\n",
    "\n",
    "# Tests for part 1 and part 2\n",
    "\n",
    "# alpha and beta in [0.5, 5], for 'interesting' results as per paper.\n",
    "N = 20\n",
    "beta_init = 0.35\n",
    "pace = 1.002\n",
    "step = 0.1\n",
    "is_pace = True\n",
    "alpha_list = np.linspace(0.5,5,20)\n",
    "nb_runs = 50\n",
    "T = 200\n",
    "part2_1, part2_2 = metropolis_mult4(nb_runs, N, alpha_list, beta_init, pace, step, is_pace, T)"
   ]
  },
  {
   "cell_type": "code",
   "execution_count": 85,
   "metadata": {},
   "outputs": [
    {
     "data": {
      "image/png": "[encoded data removed]",
      "text/plain": [
       "<matplotlib.figure.Figure at 0x7f0eee7a7e10>"
      ]
     },
     "metadata": {},
     "output_type": "display_data"
    }
   ],
   "source": [
    "plt.plot(alpha_list, part2_1);"
   ]
  },
  {
   "cell_type": "code",
   "execution_count": 86,
   "metadata": {},
   "outputs": [
    {
     "data": {
      "image/png": "[encoded data removed]",
      "text/plain": [
       "<matplotlib.figure.Figure at 0x7f0eee7bf518>"
      ]
     },
     "metadata": {},
     "output_type": "display_data"
    }
   ],
   "source": [
    "plt.plot(alpha_list, part2_2);"
   ]
  },
  {
   "cell_type": "code",
   "execution_count": 87,
   "metadata": {},
   "outputs": [
    {
     "name": "stderr",
     "output_type": "stream",
     "text": [
      "/mlodata1/sidak/anaconda/envs/python3.6/lib/python3.6/site-packages/ipykernel_launcher.py:52: DeprecationWarning: This function is deprecated. Please call randint(0, 1 + 1) instead\n",
      "/mlodata1/sidak/anaconda/envs/python3.6/lib/python3.6/site-packages/ipykernel_launcher.py:56: DeprecationWarning: This function is deprecated. Please call randint(0, 1 + 1) instead\n"
     ]
    },
    {
     "data": {
      "text/plain": [
       "[<matplotlib.lines.Line2D at 0x7f0eee6c36d8>]"
      ]
     },
     "execution_count": 87,
     "metadata": {},
     "output_type": "execute_result"
    },
    {
     "data": {
      "image/png": "[encoded data removed]",
      "text/plain": [
       "<matplotlib.figure.Figure at 0x7f0eee85e2e8>"
      ]
     },
     "metadata": {},
     "output_type": "display_data"
    }
   ],
   "source": [
    "################\n",
    "\n",
    "# Tests for part 1 and part 2\n",
    "\n",
    "# alpha and beta in [0.5, 5], for 'interesting' results as per paper.\n",
    "N = 20\n",
    "\n",
    "pace = 1.002\n",
    "step = 0.1\n",
    "is_pace = True\n",
    "alpha_list = np.linspace(0.5,5,20)\n",
    "nb_runs = 50\n",
    "T = 200\n",
    "beta_init = 0.3\n",
    "a_part2_1, a_part2_2 = metropolis_mult4(nb_runs, N, alpha_list, beta_init, pace, step, is_pace, T)\n",
    "beta_init = 0.35\n",
    "b_part2_1, b_part2_2 = metropolis_mult4(nb_runs, N, alpha_list, beta_init, pace, step, is_pace, T)\n",
    "beta_init = 0.4\n",
    "c_part2_1, c_part2_2 = metropolis_mult4(nb_runs, N, alpha_list, beta_init, pace, step, is_pace, T)\n"
   ]
  },
  {
   "cell_type": "code",
   "execution_count": 96,
   "metadata": {},
   "outputs": [
    {
     "data": {
      "text/plain": [
       "[<matplotlib.lines.Line2D at 0x7f0eede806d8>]"
      ]
     },
     "execution_count": 96,
     "metadata": {},
     "output_type": "execute_result"
    },
    {
     "data": {
      "image/png": "[encoded data removed]",
      "text/plain": [
       "<matplotlib.figure.Figure at 0x7f0eedd93320>"
      ]
     },
     "metadata": {},
     "output_type": "display_data"
    }
   ],
   "source": [
    "plt.plot(alpha_list, a_part2_2, 'r')\n",
    "plt.plot(alpha_list, b_part2_2, 'g')\n",
    "plt.plot(alpha_list, c_part2_2, 'b')\n",
    "plt.plot(alpha_list, d_part2_2, 'y')\n",
    "plt.plot(alpha_list, e_part2_2, 'm')"
   ]
  },
  {
   "cell_type": "code",
   "execution_count": 95,
   "metadata": {},
   "outputs": [
    {
     "data": {
      "text/plain": [
       "[<matplotlib.lines.Line2D at 0x7f0eedd71390>]"
      ]
     },
     "execution_count": 95,
     "metadata": {},
     "output_type": "execute_result"
    },
    {
     "data": {
      "image/png": "[encoded data removed]",
      "text/plain": [
       "<matplotlib.figure.Figure at 0x7f0eedece208>"
      ]
     },
     "metadata": {},
     "output_type": "display_data"
    }
   ],
   "source": [
    "plt.plot(alpha_list, a_part2_1, 'r')\n",
    "plt.plot(alpha_list, b_part2_1, 'g')\n",
    "plt.plot(alpha_list, c_part2_1, 'b')\n",
    "plt.plot(alpha_list, d_part2_1, 'y')\n",
    "plt.plot(alpha_list, e_part2_1, 'm')"
   ]
  },
  {
   "cell_type": "code",
   "execution_count": 97,
   "metadata": {},
   "outputs": [
    {
     "data": {
      "text/plain": [
       "[<matplotlib.lines.Line2D at 0x7f0eede240b8>]"
      ]
     },
     "execution_count": 97,
     "metadata": {},
     "output_type": "execute_result"
    },
    {
     "data": {
      "image/png": "[encoded data removed]",
      "text/plain": [
       "<matplotlib.figure.Figure at 0x7f0eeded1e80>"
      ]
     },
     "metadata": {},
     "output_type": "display_data"
    }
   ],
   "source": [
    "plt.plot(alpha_list, d_part2_1, 'y')\n"
   ]
  },
  {
   "cell_type": "code",
   "execution_count": 89,
   "metadata": {},
   "outputs": [
    {
     "name": "stderr",
     "output_type": "stream",
     "text": [
      "/mlodata1/sidak/anaconda/envs/python3.6/lib/python3.6/site-packages/ipykernel_launcher.py:52: DeprecationWarning: This function is deprecated. Please call randint(0, 1 + 1) instead\n",
      "/mlodata1/sidak/anaconda/envs/python3.6/lib/python3.6/site-packages/ipykernel_launcher.py:56: DeprecationWarning: This function is deprecated. Please call randint(0, 1 + 1) instead\n"
     ]
    }
   ],
   "source": [
    "beta_init = 0.45\n",
    "d_part2_1, d_part2_2 = metropolis_mult4(nb_runs, N, alpha_list, beta_init, pace, step, is_pace, T)\n"
   ]
  },
  {
   "cell_type": "code",
   "execution_count": 94,
   "metadata": {},
   "outputs": [
    {
     "name": "stderr",
     "output_type": "stream",
     "text": [
      "/mlodata1/sidak/anaconda/envs/python3.6/lib/python3.6/site-packages/ipykernel_launcher.py:52: DeprecationWarning: This function is deprecated. Please call randint(0, 1 + 1) instead\n",
      "/mlodata1/sidak/anaconda/envs/python3.6/lib/python3.6/site-packages/ipykernel_launcher.py:56: DeprecationWarning: This function is deprecated. Please call randint(0, 1 + 1) instead\n"
     ]
    }
   ],
   "source": [
    "beta_init = 0.5\n",
    "e_part2_1, e_part2_2 = metropolis_mult4(nb_runs, N, alpha_list, beta_init, pace, step, is_pace, T)\n"
   ]
  },
  {
   "cell_type": "markdown",
   "metadata": {
    "collapsed": true
   },
   "source": [
    "### Grid Search Setting\n",
    "Beta : 0.1, 0.3, 0.5, 0.9\n",
    "Pace : 1.002, 1.001, 1.0002\n",
    "N : 40, 60, 75, 100\n",
    "alphas = 0. 5 : 5.0, 7.0, 10\n",
    "\n",
    "500-600 times \n",
    "\n",
    "In each of the nb_runs = 50\n",
    "\n",
    "Nb_runs = 50, 40, 30, 20 respectively for the N (i.e. the dimension) \n",
    "\n",
    "Put a time limit of 5 hrs\n",
    "\n",
    "The objective is to get the lowest possible energy and best possible overlap at the end. \n",
    "In this part, they also require to plot the averaged normalized enerygy as a function of alpha! \n",
    "\n",
    "\n"
   ]
  },
  {
   "cell_type": "code",
   "execution_count": 98,
   "metadata": {},
   "outputs": [
    {
     "data": {
      "text/plain": [
       "'/mlodata1/sidak/projects/markov_chains/ergoticPain'"
      ]
     },
     "execution_count": 98,
     "metadata": {},
     "output_type": "execute_result"
    }
   ],
   "source": [
    "pwd"
   ]
  },
  {
   "cell_type": "code",
   "execution_count": 100,
   "metadata": {},
   "outputs": [],
   "source": [
    "beta_values = [0.1, 0.3, 0.4, 0.7, 0.9]\n"
   ]
  },
  {
   "cell_type": "code",
   "execution_count": 101,
   "metadata": {},
   "outputs": [],
   "source": [
    "pace_values = [1.0002, 1.001, 1.002]\n"
   ]
  },
  {
   "cell_type": "code",
   "execution_count": 175,
   "metadata": {},
   "outputs": [],
   "source": [
    "schedule_values = [1, 10]"
   ]
  },
  {
   "cell_type": "code",
   "execution_count": 103,
   "metadata": {},
   "outputs": [],
   "source": [
    "N_values = [40, 60, 75, 100]"
   ]
  },
  {
   "cell_type": "code",
   "execution_count": 102,
   "metadata": {},
   "outputs": [],
   "source": [
    "from multiprocessing import Pool\n"
   ]
  },
  {
   "cell_type": "code",
   "execution_count": 104,
   "metadata": {},
   "outputs": [],
   "source": [
    "nb_runs_values = [50, 40, 30, 20]"
   ]
  },
  {
   "cell_type": "code",
   "execution_count": 148,
   "metadata": {},
   "outputs": [],
   "source": [
    "problems = map(lambda x,y:(x,y), N_values, nb_runs_values)"
   ]
  },
  {
   "cell_type": "code",
   "execution_count": 149,
   "metadata": {},
   "outputs": [],
   "source": [
    "problem_list = list(problems)"
   ]
  },
  {
   "cell_type": "code",
   "execution_count": 150,
   "metadata": {},
   "outputs": [
    {
     "data": {
      "text/plain": [
       "[(40, 50), (60, 40), (75, 30), (100, 20)]"
      ]
     },
     "execution_count": 150,
     "metadata": {},
     "output_type": "execute_result"
    }
   ],
   "source": [
    "problem_list"
   ]
  },
  {
   "cell_type": "code",
   "execution_count": 119,
   "metadata": {},
   "outputs": [],
   "source": [
    "time_limit = 5*60*60 # 5 hrs"
   ]
  },
  {
   "cell_type": "code",
   "execution_count": 120,
   "metadata": {},
   "outputs": [],
   "source": [
    "alpha_values = np.linspace(0.5, 5, 10)"
   ]
  },
  {
   "cell_type": "code",
   "execution_count": 121,
   "metadata": {},
   "outputs": [
    {
     "data": {
      "text/plain": [
       "array([ 0.5,  1. ,  1.5,  2. ,  2.5,  3. ,  3.5,  4. ,  4.5,  5. ])"
      ]
     },
     "execution_count": 121,
     "metadata": {},
     "output_type": "execute_result"
    }
   ],
   "source": [
    "alpha_values"
   ]
  },
  {
   "cell_type": "code",
   "execution_count": 123,
   "metadata": {},
   "outputs": [],
   "source": [
    "alpha_values = np.append(alpha_values, [7.0, 10.0])"
   ]
  },
  {
   "cell_type": "code",
   "execution_count": 124,
   "metadata": {},
   "outputs": [
    {
     "data": {
      "text/plain": [
       "array([  0.5,   1. ,   1.5,   2. ,   2.5,   3. ,   3.5,   4. ,   4.5,\n",
       "         5. ,   7. ,  10. ])"
      ]
     },
     "execution_count": 124,
     "metadata": {},
     "output_type": "execute_result"
    }
   ],
   "source": [
    "alpha_values"
   ]
  },
  {
   "cell_type": "code",
   "execution_count": 125,
   "metadata": {},
   "outputs": [],
   "source": [
    "M_values = {}"
   ]
  },
  {
   "cell_type": "code",
   "execution_count": 129,
   "metadata": {},
   "outputs": [],
   "source": [
    "for n in N_values:\n",
    "    M_values[n] = np.asarray(n*alpha_values, dtype=int)"
   ]
  },
  {
   "cell_type": "code",
   "execution_count": 130,
   "metadata": {},
   "outputs": [
    {
     "data": {
      "text/plain": [
       "{40: array([ 20,  40,  60,  80, 100, 120, 140, 160, 180, 200, 280, 400]),\n",
       " 60: array([ 30,  60,  90, 120, 150, 180, 210, 240, 270, 300, 420, 600]),\n",
       " 75: array([ 37,  75, 112, 150, 187, 225, 262, 300, 337, 375, 525, 750]),\n",
       " 100: array([  50,  100,  150,  200,  250,  300,  350,  400,  450,  500,  700,\n",
       "        1000])}"
      ]
     },
     "execution_count": 130,
     "metadata": {},
     "output_type": "execute_result"
    }
   ],
   "source": [
    "M_values"
   ]
  },
  {
   "cell_type": "code",
   "execution_count": 131,
   "metadata": {},
   "outputs": [
    {
     "name": "stdout",
     "output_type": "stream",
     "text": [
      "<built-in method seed of mtrand.RandomState object at 0x7f0efa5df1f8>\n"
     ]
    }
   ],
   "source": [
    "print(np.random)"
   ]
  },
  {
   "cell_type": "markdown",
   "metadata": {},
   "source": [
    "Contents of the parameter dictionary for a problem:\n",
    "beta, pace, N (and thus nb_runs), M_values "
   ]
  },
  {
   "cell_type": "code",
   "execution_count": 179,
   "metadata": {},
   "outputs": [],
   "source": [
    "grid_points=[]\n",
    "for prob in problem_list:\n",
    "    gp_N = prob[0]\n",
    "    gp_nb_runs = prob[1]\n",
    "    gp_M = M_values[gp_N]\n",
    "    for gp_beta in beta_values:\n",
    "        for gp_pace in pace_values:\n",
    "            for gp_schedule in schedule_values:\n",
    "                parameter = {}\n",
    "                parameter['N'] = gp_N\n",
    "                parameter['nb_runs'] = gp_nb_runs\n",
    "                parameter['beta'] = gp_beta\n",
    "                parameter['pace'] = gp_pace\n",
    "                parameter['M'] = gp_M\n",
    "                parameter['schedule'] = gp_schedule\n",
    "                grid_points.append(parameter)"
   ]
  },
  {
   "cell_type": "code",
   "execution_count": 180,
   "metadata": {},
   "outputs": [
    {
     "data": {
      "text/plain": [
       "120"
      ]
     },
     "execution_count": 180,
     "metadata": {},
     "output_type": "execute_result"
    }
   ],
   "source": [
    "len(grid_points)"
   ]
  },
  {
   "cell_type": "code",
   "execution_count": 181,
   "metadata": {},
   "outputs": [
    {
     "data": {
      "text/plain": [
       "[{'M': array([ 20,  40,  60,  80, 100, 120, 140, 160, 180, 200, 280, 400]),\n",
       "  'N': 40,\n",
       "  'beta': 0.1,\n",
       "  'nb_runs': 50,\n",
       "  'pace': 1.0002,\n",
       "  'schedule': 1},\n",
       " {'M': array([ 20,  40,  60,  80, 100, 120, 140, 160, 180, 200, 280, 400]),\n",
       "  'N': 40,\n",
       "  'beta': 0.1,\n",
       "  'nb_runs': 50,\n",
       "  'pace': 1.0002,\n",
       "  'schedule': 10},\n",
       " {'M': array([ 20,  40,  60,  80, 100, 120, 140, 160, 180, 200, 280, 400]),\n",
       "  'N': 40,\n",
       "  'beta': 0.1,\n",
       "  'nb_runs': 50,\n",
       "  'pace': 1.001,\n",
       "  'schedule': 1},\n",
       " {'M': array([ 20,  40,  60,  80, 100, 120, 140, 160, 180, 200, 280, 400]),\n",
       "  'N': 40,\n",
       "  'beta': 0.1,\n",
       "  'nb_runs': 50,\n",
       "  'pace': 1.001,\n",
       "  'schedule': 10},\n",
       " {'M': array([ 20,  40,  60,  80, 100, 120, 140, 160, 180, 200, 280, 400]),\n",
       "  'N': 40,\n",
       "  'beta': 0.1,\n",
       "  'nb_runs': 50,\n",
       "  'pace': 1.002,\n",
       "  'schedule': 1},\n",
       " {'M': array([ 20,  40,  60,  80, 100, 120, 140, 160, 180, 200, 280, 400]),\n",
       "  'N': 40,\n",
       "  'beta': 0.1,\n",
       "  'nb_runs': 50,\n",
       "  'pace': 1.002,\n",
       "  'schedule': 10},\n",
       " {'M': array([ 20,  40,  60,  80, 100, 120, 140, 160, 180, 200, 280, 400]),\n",
       "  'N': 40,\n",
       "  'beta': 0.3,\n",
       "  'nb_runs': 50,\n",
       "  'pace': 1.0002,\n",
       "  'schedule': 1},\n",
       " {'M': array([ 20,  40,  60,  80, 100, 120, 140, 160, 180, 200, 280, 400]),\n",
       "  'N': 40,\n",
       "  'beta': 0.3,\n",
       "  'nb_runs': 50,\n",
       "  'pace': 1.0002,\n",
       "  'schedule': 10},\n",
       " {'M': array([ 20,  40,  60,  80, 100, 120, 140, 160, 180, 200, 280, 400]),\n",
       "  'N': 40,\n",
       "  'beta': 0.3,\n",
       "  'nb_runs': 50,\n",
       "  'pace': 1.001,\n",
       "  'schedule': 1},\n",
       " {'M': array([ 20,  40,  60,  80, 100, 120, 140, 160, 180, 200, 280, 400]),\n",
       "  'N': 40,\n",
       "  'beta': 0.3,\n",
       "  'nb_runs': 50,\n",
       "  'pace': 1.001,\n",
       "  'schedule': 10},\n",
       " {'M': array([ 20,  40,  60,  80, 100, 120, 140, 160, 180, 200, 280, 400]),\n",
       "  'N': 40,\n",
       "  'beta': 0.3,\n",
       "  'nb_runs': 50,\n",
       "  'pace': 1.002,\n",
       "  'schedule': 1},\n",
       " {'M': array([ 20,  40,  60,  80, 100, 120, 140, 160, 180, 200, 280, 400]),\n",
       "  'N': 40,\n",
       "  'beta': 0.3,\n",
       "  'nb_runs': 50,\n",
       "  'pace': 1.002,\n",
       "  'schedule': 10},\n",
       " {'M': array([ 20,  40,  60,  80, 100, 120, 140, 160, 180, 200, 280, 400]),\n",
       "  'N': 40,\n",
       "  'beta': 0.4,\n",
       "  'nb_runs': 50,\n",
       "  'pace': 1.0002,\n",
       "  'schedule': 1},\n",
       " {'M': array([ 20,  40,  60,  80, 100, 120, 140, 160, 180, 200, 280, 400]),\n",
       "  'N': 40,\n",
       "  'beta': 0.4,\n",
       "  'nb_runs': 50,\n",
       "  'pace': 1.0002,\n",
       "  'schedule': 10},\n",
       " {'M': array([ 20,  40,  60,  80, 100, 120, 140, 160, 180, 200, 280, 400]),\n",
       "  'N': 40,\n",
       "  'beta': 0.4,\n",
       "  'nb_runs': 50,\n",
       "  'pace': 1.001,\n",
       "  'schedule': 1},\n",
       " {'M': array([ 20,  40,  60,  80, 100, 120, 140, 160, 180, 200, 280, 400]),\n",
       "  'N': 40,\n",
       "  'beta': 0.4,\n",
       "  'nb_runs': 50,\n",
       "  'pace': 1.001,\n",
       "  'schedule': 10},\n",
       " {'M': array([ 20,  40,  60,  80, 100, 120, 140, 160, 180, 200, 280, 400]),\n",
       "  'N': 40,\n",
       "  'beta': 0.4,\n",
       "  'nb_runs': 50,\n",
       "  'pace': 1.002,\n",
       "  'schedule': 1},\n",
       " {'M': array([ 20,  40,  60,  80, 100, 120, 140, 160, 180, 200, 280, 400]),\n",
       "  'N': 40,\n",
       "  'beta': 0.4,\n",
       "  'nb_runs': 50,\n",
       "  'pace': 1.002,\n",
       "  'schedule': 10},\n",
       " {'M': array([ 20,  40,  60,  80, 100, 120, 140, 160, 180, 200, 280, 400]),\n",
       "  'N': 40,\n",
       "  'beta': 0.7,\n",
       "  'nb_runs': 50,\n",
       "  'pace': 1.0002,\n",
       "  'schedule': 1},\n",
       " {'M': array([ 20,  40,  60,  80, 100, 120, 140, 160, 180, 200, 280, 400]),\n",
       "  'N': 40,\n",
       "  'beta': 0.7,\n",
       "  'nb_runs': 50,\n",
       "  'pace': 1.0002,\n",
       "  'schedule': 10},\n",
       " {'M': array([ 20,  40,  60,  80, 100, 120, 140, 160, 180, 200, 280, 400]),\n",
       "  'N': 40,\n",
       "  'beta': 0.7,\n",
       "  'nb_runs': 50,\n",
       "  'pace': 1.001,\n",
       "  'schedule': 1},\n",
       " {'M': array([ 20,  40,  60,  80, 100, 120, 140, 160, 180, 200, 280, 400]),\n",
       "  'N': 40,\n",
       "  'beta': 0.7,\n",
       "  'nb_runs': 50,\n",
       "  'pace': 1.001,\n",
       "  'schedule': 10},\n",
       " {'M': array([ 20,  40,  60,  80, 100, 120, 140, 160, 180, 200, 280, 400]),\n",
       "  'N': 40,\n",
       "  'beta': 0.7,\n",
       "  'nb_runs': 50,\n",
       "  'pace': 1.002,\n",
       "  'schedule': 1},\n",
       " {'M': array([ 20,  40,  60,  80, 100, 120, 140, 160, 180, 200, 280, 400]),\n",
       "  'N': 40,\n",
       "  'beta': 0.7,\n",
       "  'nb_runs': 50,\n",
       "  'pace': 1.002,\n",
       "  'schedule': 10},\n",
       " {'M': array([ 20,  40,  60,  80, 100, 120, 140, 160, 180, 200, 280, 400]),\n",
       "  'N': 40,\n",
       "  'beta': 0.9,\n",
       "  'nb_runs': 50,\n",
       "  'pace': 1.0002,\n",
       "  'schedule': 1},\n",
       " {'M': array([ 20,  40,  60,  80, 100, 120, 140, 160, 180, 200, 280, 400]),\n",
       "  'N': 40,\n",
       "  'beta': 0.9,\n",
       "  'nb_runs': 50,\n",
       "  'pace': 1.0002,\n",
       "  'schedule': 10},\n",
       " {'M': array([ 20,  40,  60,  80, 100, 120, 140, 160, 180, 200, 280, 400]),\n",
       "  'N': 40,\n",
       "  'beta': 0.9,\n",
       "  'nb_runs': 50,\n",
       "  'pace': 1.001,\n",
       "  'schedule': 1},\n",
       " {'M': array([ 20,  40,  60,  80, 100, 120, 140, 160, 180, 200, 280, 400]),\n",
       "  'N': 40,\n",
       "  'beta': 0.9,\n",
       "  'nb_runs': 50,\n",
       "  'pace': 1.001,\n",
       "  'schedule': 10},\n",
       " {'M': array([ 20,  40,  60,  80, 100, 120, 140, 160, 180, 200, 280, 400]),\n",
       "  'N': 40,\n",
       "  'beta': 0.9,\n",
       "  'nb_runs': 50,\n",
       "  'pace': 1.002,\n",
       "  'schedule': 1},\n",
       " {'M': array([ 20,  40,  60,  80, 100, 120, 140, 160, 180, 200, 280, 400]),\n",
       "  'N': 40,\n",
       "  'beta': 0.9,\n",
       "  'nb_runs': 50,\n",
       "  'pace': 1.002,\n",
       "  'schedule': 10},\n",
       " {'M': array([ 30,  60,  90, 120, 150, 180, 210, 240, 270, 300, 420, 600]),\n",
       "  'N': 60,\n",
       "  'beta': 0.1,\n",
       "  'nb_runs': 40,\n",
       "  'pace': 1.0002,\n",
       "  'schedule': 1},\n",
       " {'M': array([ 30,  60,  90, 120, 150, 180, 210, 240, 270, 300, 420, 600]),\n",
       "  'N': 60,\n",
       "  'beta': 0.1,\n",
       "  'nb_runs': 40,\n",
       "  'pace': 1.0002,\n",
       "  'schedule': 10},\n",
       " {'M': array([ 30,  60,  90, 120, 150, 180, 210, 240, 270, 300, 420, 600]),\n",
       "  'N': 60,\n",
       "  'beta': 0.1,\n",
       "  'nb_runs': 40,\n",
       "  'pace': 1.001,\n",
       "  'schedule': 1},\n",
       " {'M': array([ 30,  60,  90, 120, 150, 180, 210, 240, 270, 300, 420, 600]),\n",
       "  'N': 60,\n",
       "  'beta': 0.1,\n",
       "  'nb_runs': 40,\n",
       "  'pace': 1.001,\n",
       "  'schedule': 10},\n",
       " {'M': array([ 30,  60,  90, 120, 150, 180, 210, 240, 270, 300, 420, 600]),\n",
       "  'N': 60,\n",
       "  'beta': 0.1,\n",
       "  'nb_runs': 40,\n",
       "  'pace': 1.002,\n",
       "  'schedule': 1},\n",
       " {'M': array([ 30,  60,  90, 120, 150, 180, 210, 240, 270, 300, 420, 600]),\n",
       "  'N': 60,\n",
       "  'beta': 0.1,\n",
       "  'nb_runs': 40,\n",
       "  'pace': 1.002,\n",
       "  'schedule': 10},\n",
       " {'M': array([ 30,  60,  90, 120, 150, 180, 210, 240, 270, 300, 420, 600]),\n",
       "  'N': 60,\n",
       "  'beta': 0.3,\n",
       "  'nb_runs': 40,\n",
       "  'pace': 1.0002,\n",
       "  'schedule': 1},\n",
       " {'M': array([ 30,  60,  90, 120, 150, 180, 210, 240, 270, 300, 420, 600]),\n",
       "  'N': 60,\n",
       "  'beta': 0.3,\n",
       "  'nb_runs': 40,\n",
       "  'pace': 1.0002,\n",
       "  'schedule': 10},\n",
       " {'M': array([ 30,  60,  90, 120, 150, 180, 210, 240, 270, 300, 420, 600]),\n",
       "  'N': 60,\n",
       "  'beta': 0.3,\n",
       "  'nb_runs': 40,\n",
       "  'pace': 1.001,\n",
       "  'schedule': 1},\n",
       " {'M': array([ 30,  60,  90, 120, 150, 180, 210, 240, 270, 300, 420, 600]),\n",
       "  'N': 60,\n",
       "  'beta': 0.3,\n",
       "  'nb_runs': 40,\n",
       "  'pace': 1.001,\n",
       "  'schedule': 10},\n",
       " {'M': array([ 30,  60,  90, 120, 150, 180, 210, 240, 270, 300, 420, 600]),\n",
       "  'N': 60,\n",
       "  'beta': 0.3,\n",
       "  'nb_runs': 40,\n",
       "  'pace': 1.002,\n",
       "  'schedule': 1},\n",
       " {'M': array([ 30,  60,  90, 120, 150, 180, 210, 240, 270, 300, 420, 600]),\n",
       "  'N': 60,\n",
       "  'beta': 0.3,\n",
       "  'nb_runs': 40,\n",
       "  'pace': 1.002,\n",
       "  'schedule': 10},\n",
       " {'M': array([ 30,  60,  90, 120, 150, 180, 210, 240, 270, 300, 420, 600]),\n",
       "  'N': 60,\n",
       "  'beta': 0.4,\n",
       "  'nb_runs': 40,\n",
       "  'pace': 1.0002,\n",
       "  'schedule': 1},\n",
       " {'M': array([ 30,  60,  90, 120, 150, 180, 210, 240, 270, 300, 420, 600]),\n",
       "  'N': 60,\n",
       "  'beta': 0.4,\n",
       "  'nb_runs': 40,\n",
       "  'pace': 1.0002,\n",
       "  'schedule': 10},\n",
       " {'M': array([ 30,  60,  90, 120, 150, 180, 210, 240, 270, 300, 420, 600]),\n",
       "  'N': 60,\n",
       "  'beta': 0.4,\n",
       "  'nb_runs': 40,\n",
       "  'pace': 1.001,\n",
       "  'schedule': 1},\n",
       " {'M': array([ 30,  60,  90, 120, 150, 180, 210, 240, 270, 300, 420, 600]),\n",
       "  'N': 60,\n",
       "  'beta': 0.4,\n",
       "  'nb_runs': 40,\n",
       "  'pace': 1.001,\n",
       "  'schedule': 10},\n",
       " {'M': array([ 30,  60,  90, 120, 150, 180, 210, 240, 270, 300, 420, 600]),\n",
       "  'N': 60,\n",
       "  'beta': 0.4,\n",
       "  'nb_runs': 40,\n",
       "  'pace': 1.002,\n",
       "  'schedule': 1},\n",
       " {'M': array([ 30,  60,  90, 120, 150, 180, 210, 240, 270, 300, 420, 600]),\n",
       "  'N': 60,\n",
       "  'beta': 0.4,\n",
       "  'nb_runs': 40,\n",
       "  'pace': 1.002,\n",
       "  'schedule': 10},\n",
       " {'M': array([ 30,  60,  90, 120, 150, 180, 210, 240, 270, 300, 420, 600]),\n",
       "  'N': 60,\n",
       "  'beta': 0.7,\n",
       "  'nb_runs': 40,\n",
       "  'pace': 1.0002,\n",
       "  'schedule': 1},\n",
       " {'M': array([ 30,  60,  90, 120, 150, 180, 210, 240, 270, 300, 420, 600]),\n",
       "  'N': 60,\n",
       "  'beta': 0.7,\n",
       "  'nb_runs': 40,\n",
       "  'pace': 1.0002,\n",
       "  'schedule': 10},\n",
       " {'M': array([ 30,  60,  90, 120, 150, 180, 210, 240, 270, 300, 420, 600]),\n",
       "  'N': 60,\n",
       "  'beta': 0.7,\n",
       "  'nb_runs': 40,\n",
       "  'pace': 1.001,\n",
       "  'schedule': 1},\n",
       " {'M': array([ 30,  60,  90, 120, 150, 180, 210, 240, 270, 300, 420, 600]),\n",
       "  'N': 60,\n",
       "  'beta': 0.7,\n",
       "  'nb_runs': 40,\n",
       "  'pace': 1.001,\n",
       "  'schedule': 10},\n",
       " {'M': array([ 30,  60,  90, 120, 150, 180, 210, 240, 270, 300, 420, 600]),\n",
       "  'N': 60,\n",
       "  'beta': 0.7,\n",
       "  'nb_runs': 40,\n",
       "  'pace': 1.002,\n",
       "  'schedule': 1},\n",
       " {'M': array([ 30,  60,  90, 120, 150, 180, 210, 240, 270, 300, 420, 600]),\n",
       "  'N': 60,\n",
       "  'beta': 0.7,\n",
       "  'nb_runs': 40,\n",
       "  'pace': 1.002,\n",
       "  'schedule': 10},\n",
       " {'M': array([ 30,  60,  90, 120, 150, 180, 210, 240, 270, 300, 420, 600]),\n",
       "  'N': 60,\n",
       "  'beta': 0.9,\n",
       "  'nb_runs': 40,\n",
       "  'pace': 1.0002,\n",
       "  'schedule': 1},\n",
       " {'M': array([ 30,  60,  90, 120, 150, 180, 210, 240, 270, 300, 420, 600]),\n",
       "  'N': 60,\n",
       "  'beta': 0.9,\n",
       "  'nb_runs': 40,\n",
       "  'pace': 1.0002,\n",
       "  'schedule': 10},\n",
       " {'M': array([ 30,  60,  90, 120, 150, 180, 210, 240, 270, 300, 420, 600]),\n",
       "  'N': 60,\n",
       "  'beta': 0.9,\n",
       "  'nb_runs': 40,\n",
       "  'pace': 1.001,\n",
       "  'schedule': 1},\n",
       " {'M': array([ 30,  60,  90, 120, 150, 180, 210, 240, 270, 300, 420, 600]),\n",
       "  'N': 60,\n",
       "  'beta': 0.9,\n",
       "  'nb_runs': 40,\n",
       "  'pace': 1.001,\n",
       "  'schedule': 10},\n",
       " {'M': array([ 30,  60,  90, 120, 150, 180, 210, 240, 270, 300, 420, 600]),\n",
       "  'N': 60,\n",
       "  'beta': 0.9,\n",
       "  'nb_runs': 40,\n",
       "  'pace': 1.002,\n",
       "  'schedule': 1},\n",
       " {'M': array([ 30,  60,  90, 120, 150, 180, 210, 240, 270, 300, 420, 600]),\n",
       "  'N': 60,\n",
       "  'beta': 0.9,\n",
       "  'nb_runs': 40,\n",
       "  'pace': 1.002,\n",
       "  'schedule': 10},\n",
       " {'M': array([ 37,  75, 112, 150, 187, 225, 262, 300, 337, 375, 525, 750]),\n",
       "  'N': 75,\n",
       "  'beta': 0.1,\n",
       "  'nb_runs': 30,\n",
       "  'pace': 1.0002,\n",
       "  'schedule': 1},\n",
       " {'M': array([ 37,  75, 112, 150, 187, 225, 262, 300, 337, 375, 525, 750]),\n",
       "  'N': 75,\n",
       "  'beta': 0.1,\n",
       "  'nb_runs': 30,\n",
       "  'pace': 1.0002,\n",
       "  'schedule': 10},\n",
       " {'M': array([ 37,  75, 112, 150, 187, 225, 262, 300, 337, 375, 525, 750]),\n",
       "  'N': 75,\n",
       "  'beta': 0.1,\n",
       "  'nb_runs': 30,\n",
       "  'pace': 1.001,\n",
       "  'schedule': 1},\n",
       " {'M': array([ 37,  75, 112, 150, 187, 225, 262, 300, 337, 375, 525, 750]),\n",
       "  'N': 75,\n",
       "  'beta': 0.1,\n",
       "  'nb_runs': 30,\n",
       "  'pace': 1.001,\n",
       "  'schedule': 10},\n",
       " {'M': array([ 37,  75, 112, 150, 187, 225, 262, 300, 337, 375, 525, 750]),\n",
       "  'N': 75,\n",
       "  'beta': 0.1,\n",
       "  'nb_runs': 30,\n",
       "  'pace': 1.002,\n",
       "  'schedule': 1},\n",
       " {'M': array([ 37,  75, 112, 150, 187, 225, 262, 300, 337, 375, 525, 750]),\n",
       "  'N': 75,\n",
       "  'beta': 0.1,\n",
       "  'nb_runs': 30,\n",
       "  'pace': 1.002,\n",
       "  'schedule': 10},\n",
       " {'M': array([ 37,  75, 112, 150, 187, 225, 262, 300, 337, 375, 525, 750]),\n",
       "  'N': 75,\n",
       "  'beta': 0.3,\n",
       "  'nb_runs': 30,\n",
       "  'pace': 1.0002,\n",
       "  'schedule': 1},\n",
       " {'M': array([ 37,  75, 112, 150, 187, 225, 262, 300, 337, 375, 525, 750]),\n",
       "  'N': 75,\n",
       "  'beta': 0.3,\n",
       "  'nb_runs': 30,\n",
       "  'pace': 1.0002,\n",
       "  'schedule': 10},\n",
       " {'M': array([ 37,  75, 112, 150, 187, 225, 262, 300, 337, 375, 525, 750]),\n",
       "  'N': 75,\n",
       "  'beta': 0.3,\n",
       "  'nb_runs': 30,\n",
       "  'pace': 1.001,\n",
       "  'schedule': 1},\n",
       " {'M': array([ 37,  75, 112, 150, 187, 225, 262, 300, 337, 375, 525, 750]),\n",
       "  'N': 75,\n",
       "  'beta': 0.3,\n",
       "  'nb_runs': 30,\n",
       "  'pace': 1.001,\n",
       "  'schedule': 10},\n",
       " {'M': array([ 37,  75, 112, 150, 187, 225, 262, 300, 337, 375, 525, 750]),\n",
       "  'N': 75,\n",
       "  'beta': 0.3,\n",
       "  'nb_runs': 30,\n",
       "  'pace': 1.002,\n",
       "  'schedule': 1},\n",
       " {'M': array([ 37,  75, 112, 150, 187, 225, 262, 300, 337, 375, 525, 750]),\n",
       "  'N': 75,\n",
       "  'beta': 0.3,\n",
       "  'nb_runs': 30,\n",
       "  'pace': 1.002,\n",
       "  'schedule': 10},\n",
       " {'M': array([ 37,  75, 112, 150, 187, 225, 262, 300, 337, 375, 525, 750]),\n",
       "  'N': 75,\n",
       "  'beta': 0.4,\n",
       "  'nb_runs': 30,\n",
       "  'pace': 1.0002,\n",
       "  'schedule': 1},\n",
       " {'M': array([ 37,  75, 112, 150, 187, 225, 262, 300, 337, 375, 525, 750]),\n",
       "  'N': 75,\n",
       "  'beta': 0.4,\n",
       "  'nb_runs': 30,\n",
       "  'pace': 1.0002,\n",
       "  'schedule': 10},\n",
       " {'M': array([ 37,  75, 112, 150, 187, 225, 262, 300, 337, 375, 525, 750]),\n",
       "  'N': 75,\n",
       "  'beta': 0.4,\n",
       "  'nb_runs': 30,\n",
       "  'pace': 1.001,\n",
       "  'schedule': 1},\n",
       " {'M': array([ 37,  75, 112, 150, 187, 225, 262, 300, 337, 375, 525, 750]),\n",
       "  'N': 75,\n",
       "  'beta': 0.4,\n",
       "  'nb_runs': 30,\n",
       "  'pace': 1.001,\n",
       "  'schedule': 10},\n",
       " {'M': array([ 37,  75, 112, 150, 187, 225, 262, 300, 337, 375, 525, 750]),\n",
       "  'N': 75,\n",
       "  'beta': 0.4,\n",
       "  'nb_runs': 30,\n",
       "  'pace': 1.002,\n",
       "  'schedule': 1},\n",
       " {'M': array([ 37,  75, 112, 150, 187, 225, 262, 300, 337, 375, 525, 750]),\n",
       "  'N': 75,\n",
       "  'beta': 0.4,\n",
       "  'nb_runs': 30,\n",
       "  'pace': 1.002,\n",
       "  'schedule': 10},\n",
       " {'M': array([ 37,  75, 112, 150, 187, 225, 262, 300, 337, 375, 525, 750]),\n",
       "  'N': 75,\n",
       "  'beta': 0.7,\n",
       "  'nb_runs': 30,\n",
       "  'pace': 1.0002,\n",
       "  'schedule': 1},\n",
       " {'M': array([ 37,  75, 112, 150, 187, 225, 262, 300, 337, 375, 525, 750]),\n",
       "  'N': 75,\n",
       "  'beta': 0.7,\n",
       "  'nb_runs': 30,\n",
       "  'pace': 1.0002,\n",
       "  'schedule': 10},\n",
       " {'M': array([ 37,  75, 112, 150, 187, 225, 262, 300, 337, 375, 525, 750]),\n",
       "  'N': 75,\n",
       "  'beta': 0.7,\n",
       "  'nb_runs': 30,\n",
       "  'pace': 1.001,\n",
       "  'schedule': 1},\n",
       " {'M': array([ 37,  75, 112, 150, 187, 225, 262, 300, 337, 375, 525, 750]),\n",
       "  'N': 75,\n",
       "  'beta': 0.7,\n",
       "  'nb_runs': 30,\n",
       "  'pace': 1.001,\n",
       "  'schedule': 10},\n",
       " {'M': array([ 37,  75, 112, 150, 187, 225, 262, 300, 337, 375, 525, 750]),\n",
       "  'N': 75,\n",
       "  'beta': 0.7,\n",
       "  'nb_runs': 30,\n",
       "  'pace': 1.002,\n",
       "  'schedule': 1},\n",
       " {'M': array([ 37,  75, 112, 150, 187, 225, 262, 300, 337, 375, 525, 750]),\n",
       "  'N': 75,\n",
       "  'beta': 0.7,\n",
       "  'nb_runs': 30,\n",
       "  'pace': 1.002,\n",
       "  'schedule': 10},\n",
       " {'M': array([ 37,  75, 112, 150, 187, 225, 262, 300, 337, 375, 525, 750]),\n",
       "  'N': 75,\n",
       "  'beta': 0.9,\n",
       "  'nb_runs': 30,\n",
       "  'pace': 1.0002,\n",
       "  'schedule': 1},\n",
       " {'M': array([ 37,  75, 112, 150, 187, 225, 262, 300, 337, 375, 525, 750]),\n",
       "  'N': 75,\n",
       "  'beta': 0.9,\n",
       "  'nb_runs': 30,\n",
       "  'pace': 1.0002,\n",
       "  'schedule': 10},\n",
       " {'M': array([ 37,  75, 112, 150, 187, 225, 262, 300, 337, 375, 525, 750]),\n",
       "  'N': 75,\n",
       "  'beta': 0.9,\n",
       "  'nb_runs': 30,\n",
       "  'pace': 1.001,\n",
       "  'schedule': 1},\n",
       " {'M': array([ 37,  75, 112, 150, 187, 225, 262, 300, 337, 375, 525, 750]),\n",
       "  'N': 75,\n",
       "  'beta': 0.9,\n",
       "  'nb_runs': 30,\n",
       "  'pace': 1.001,\n",
       "  'schedule': 10},\n",
       " {'M': array([ 37,  75, 112, 150, 187, 225, 262, 300, 337, 375, 525, 750]),\n",
       "  'N': 75,\n",
       "  'beta': 0.9,\n",
       "  'nb_runs': 30,\n",
       "  'pace': 1.002,\n",
       "  'schedule': 1},\n",
       " {'M': array([ 37,  75, 112, 150, 187, 225, 262, 300, 337, 375, 525, 750]),\n",
       "  'N': 75,\n",
       "  'beta': 0.9,\n",
       "  'nb_runs': 30,\n",
       "  'pace': 1.002,\n",
       "  'schedule': 10},\n",
       " {'M': array([  50,  100,  150,  200,  250,  300,  350,  400,  450,  500,  700,\n",
       "         1000]),\n",
       "  'N': 100,\n",
       "  'beta': 0.1,\n",
       "  'nb_runs': 20,\n",
       "  'pace': 1.0002,\n",
       "  'schedule': 1},\n",
       " {'M': array([  50,  100,  150,  200,  250,  300,  350,  400,  450,  500,  700,\n",
       "         1000]),\n",
       "  'N': 100,\n",
       "  'beta': 0.1,\n",
       "  'nb_runs': 20,\n",
       "  'pace': 1.0002,\n",
       "  'schedule': 10},\n",
       " {'M': array([  50,  100,  150,  200,  250,  300,  350,  400,  450,  500,  700,\n",
       "         1000]),\n",
       "  'N': 100,\n",
       "  'beta': 0.1,\n",
       "  'nb_runs': 20,\n",
       "  'pace': 1.001,\n",
       "  'schedule': 1},\n",
       " {'M': array([  50,  100,  150,  200,  250,  300,  350,  400,  450,  500,  700,\n",
       "         1000]),\n",
       "  'N': 100,\n",
       "  'beta': 0.1,\n",
       "  'nb_runs': 20,\n",
       "  'pace': 1.001,\n",
       "  'schedule': 10},\n",
       " {'M': array([  50,  100,  150,  200,  250,  300,  350,  400,  450,  500,  700,\n",
       "         1000]),\n",
       "  'N': 100,\n",
       "  'beta': 0.1,\n",
       "  'nb_runs': 20,\n",
       "  'pace': 1.002,\n",
       "  'schedule': 1},\n",
       " {'M': array([  50,  100,  150,  200,  250,  300,  350,  400,  450,  500,  700,\n",
       "         1000]),\n",
       "  'N': 100,\n",
       "  'beta': 0.1,\n",
       "  'nb_runs': 20,\n",
       "  'pace': 1.002,\n",
       "  'schedule': 10},\n",
       " {'M': array([  50,  100,  150,  200,  250,  300,  350,  400,  450,  500,  700,\n",
       "         1000]),\n",
       "  'N': 100,\n",
       "  'beta': 0.3,\n",
       "  'nb_runs': 20,\n",
       "  'pace': 1.0002,\n",
       "  'schedule': 1},\n",
       " {'M': array([  50,  100,  150,  200,  250,  300,  350,  400,  450,  500,  700,\n",
       "         1000]),\n",
       "  'N': 100,\n",
       "  'beta': 0.3,\n",
       "  'nb_runs': 20,\n",
       "  'pace': 1.0002,\n",
       "  'schedule': 10},\n",
       " {'M': array([  50,  100,  150,  200,  250,  300,  350,  400,  450,  500,  700,\n",
       "         1000]),\n",
       "  'N': 100,\n",
       "  'beta': 0.3,\n",
       "  'nb_runs': 20,\n",
       "  'pace': 1.001,\n",
       "  'schedule': 1},\n",
       " {'M': array([  50,  100,  150,  200,  250,  300,  350,  400,  450,  500,  700,\n",
       "         1000]),\n",
       "  'N': 100,\n",
       "  'beta': 0.3,\n",
       "  'nb_runs': 20,\n",
       "  'pace': 1.001,\n",
       "  'schedule': 10},\n",
       " {'M': array([  50,  100,  150,  200,  250,  300,  350,  400,  450,  500,  700,\n",
       "         1000]),\n",
       "  'N': 100,\n",
       "  'beta': 0.3,\n",
       "  'nb_runs': 20,\n",
       "  'pace': 1.002,\n",
       "  'schedule': 1},\n",
       " {'M': array([  50,  100,  150,  200,  250,  300,  350,  400,  450,  500,  700,\n",
       "         1000]),\n",
       "  'N': 100,\n",
       "  'beta': 0.3,\n",
       "  'nb_runs': 20,\n",
       "  'pace': 1.002,\n",
       "  'schedule': 10},\n",
       " {'M': array([  50,  100,  150,  200,  250,  300,  350,  400,  450,  500,  700,\n",
       "         1000]),\n",
       "  'N': 100,\n",
       "  'beta': 0.4,\n",
       "  'nb_runs': 20,\n",
       "  'pace': 1.0002,\n",
       "  'schedule': 1},\n",
       " {'M': array([  50,  100,  150,  200,  250,  300,  350,  400,  450,  500,  700,\n",
       "         1000]),\n",
       "  'N': 100,\n",
       "  'beta': 0.4,\n",
       "  'nb_runs': 20,\n",
       "  'pace': 1.0002,\n",
       "  'schedule': 10},\n",
       " {'M': array([  50,  100,  150,  200,  250,  300,  350,  400,  450,  500,  700,\n",
       "         1000]),\n",
       "  'N': 100,\n",
       "  'beta': 0.4,\n",
       "  'nb_runs': 20,\n",
       "  'pace': 1.001,\n",
       "  'schedule': 1},\n",
       " {'M': array([  50,  100,  150,  200,  250,  300,  350,  400,  450,  500,  700,\n",
       "         1000]),\n",
       "  'N': 100,\n",
       "  'beta': 0.4,\n",
       "  'nb_runs': 20,\n",
       "  'pace': 1.001,\n",
       "  'schedule': 10},\n",
       " {'M': array([  50,  100,  150,  200,  250,  300,  350,  400,  450,  500,  700,\n",
       "         1000]),\n",
       "  'N': 100,\n",
       "  'beta': 0.4,\n",
       "  'nb_runs': 20,\n",
       "  'pace': 1.002,\n",
       "  'schedule': 1},\n",
       " {'M': array([  50,  100,  150,  200,  250,  300,  350,  400,  450,  500,  700,\n",
       "         1000]),\n",
       "  'N': 100,\n",
       "  'beta': 0.4,\n",
       "  'nb_runs': 20,\n",
       "  'pace': 1.002,\n",
       "  'schedule': 10},\n",
       " {'M': array([  50,  100,  150,  200,  250,  300,  350,  400,  450,  500,  700,\n",
       "         1000]),\n",
       "  'N': 100,\n",
       "  'beta': 0.7,\n",
       "  'nb_runs': 20,\n",
       "  'pace': 1.0002,\n",
       "  'schedule': 1},\n",
       " {'M': array([  50,  100,  150,  200,  250,  300,  350,  400,  450,  500,  700,\n",
       "         1000]),\n",
       "  'N': 100,\n",
       "  'beta': 0.7,\n",
       "  'nb_runs': 20,\n",
       "  'pace': 1.0002,\n",
       "  'schedule': 10},\n",
       " {'M': array([  50,  100,  150,  200,  250,  300,  350,  400,  450,  500,  700,\n",
       "         1000]),\n",
       "  'N': 100,\n",
       "  'beta': 0.7,\n",
       "  'nb_runs': 20,\n",
       "  'pace': 1.001,\n",
       "  'schedule': 1},\n",
       " {'M': array([  50,  100,  150,  200,  250,  300,  350,  400,  450,  500,  700,\n",
       "         1000]),\n",
       "  'N': 100,\n",
       "  'beta': 0.7,\n",
       "  'nb_runs': 20,\n",
       "  'pace': 1.001,\n",
       "  'schedule': 10},\n",
       " {'M': array([  50,  100,  150,  200,  250,  300,  350,  400,  450,  500,  700,\n",
       "         1000]),\n",
       "  'N': 100,\n",
       "  'beta': 0.7,\n",
       "  'nb_runs': 20,\n",
       "  'pace': 1.002,\n",
       "  'schedule': 1},\n",
       " {'M': array([  50,  100,  150,  200,  250,  300,  350,  400,  450,  500,  700,\n",
       "         1000]),\n",
       "  'N': 100,\n",
       "  'beta': 0.7,\n",
       "  'nb_runs': 20,\n",
       "  'pace': 1.002,\n",
       "  'schedule': 10},\n",
       " {'M': array([  50,  100,  150,  200,  250,  300,  350,  400,  450,  500,  700,\n",
       "         1000]),\n",
       "  'N': 100,\n",
       "  'beta': 0.9,\n",
       "  'nb_runs': 20,\n",
       "  'pace': 1.0002,\n",
       "  'schedule': 1},\n",
       " {'M': array([  50,  100,  150,  200,  250,  300,  350,  400,  450,  500,  700,\n",
       "         1000]),\n",
       "  'N': 100,\n",
       "  'beta': 0.9,\n",
       "  'nb_runs': 20,\n",
       "  'pace': 1.0002,\n",
       "  'schedule': 10},\n",
       " {'M': array([  50,  100,  150,  200,  250,  300,  350,  400,  450,  500,  700,\n",
       "         1000]),\n",
       "  'N': 100,\n",
       "  'beta': 0.9,\n",
       "  'nb_runs': 20,\n",
       "  'pace': 1.001,\n",
       "  'schedule': 1},\n",
       " {'M': array([  50,  100,  150,  200,  250,  300,  350,  400,  450,  500,  700,\n",
       "         1000]),\n",
       "  'N': 100,\n",
       "  'beta': 0.9,\n",
       "  'nb_runs': 20,\n",
       "  'pace': 1.001,\n",
       "  'schedule': 10},\n",
       " {'M': array([  50,  100,  150,  200,  250,  300,  350,  400,  450,  500,  700,\n",
       "         1000]),\n",
       "  'N': 100,\n",
       "  'beta': 0.9,\n",
       "  'nb_runs': 20,\n",
       "  'pace': 1.002,\n",
       "  'schedule': 1},\n",
       " {'M': array([  50,  100,  150,  200,  250,  300,  350,  400,  450,  500,  700,\n",
       "         1000]),\n",
       "  'N': 100,\n",
       "  'beta': 0.9,\n",
       "  'nb_runs': 20,\n",
       "  'pace': 1.002,\n",
       "  'schedule': 10}]"
      ]
     },
     "execution_count": 181,
     "metadata": {},
     "output_type": "execute_result"
    }
   ],
   "source": [
    "grid_points"
   ]
  },
  {
   "cell_type": "code",
   "execution_count": 197,
   "metadata": {},
   "outputs": [],
   "source": [
    "dict_str = str(grid_points[2])"
   ]
  },
  {
   "cell_type": "code",
   "execution_count": 198,
   "metadata": {},
   "outputs": [
    {
     "data": {
      "text/plain": [
       "\"{'N': 40, 'nb_runs': 50, 'beta': 0.1, 'pace': 1.001, 'M': array([ 20,  40,  60,  80, 100, 120, 140, 160, 180, 200, 280, 400]), 'schedule': 1}\""
      ]
     },
     "execution_count": 198,
     "metadata": {},
     "output_type": "execute_result"
    }
   ],
   "source": [
    "dict_str"
   ]
  },
  {
   "cell_type": "code",
   "execution_count": 199,
   "metadata": {},
   "outputs": [],
   "source": [
    "dict_str = dict_str.replace(' ', '_')"
   ]
  },
  {
   "cell_type": "code",
   "execution_count": 200,
   "metadata": {},
   "outputs": [
    {
     "data": {
      "text/plain": [
       "\"{'N':_40,_'nb_runs':_50,_'beta':_0.1,_'pace':_1.001,_'M':_array([_20,__40,__60,__80,_100,_120,_140,_160,_180,_200,_280,_400]),_'schedule':_1}\""
      ]
     },
     "execution_count": 200,
     "metadata": {},
     "output_type": "execute_result"
    }
   ],
   "source": [
    "dict_str"
   ]
  },
  {
   "cell_type": "code",
   "execution_count": 201,
   "metadata": {},
   "outputs": [
    {
     "data": {
      "text/plain": [
       "'{N:_40,_nb_runs:_50,_beta:_0.1,_pace:_1.001,_M:_array([_20,__40,__60,__80,_100,_120,_140,_160,_180,_200,_280,_400]),_schedule:_1}'"
      ]
     },
     "execution_count": 201,
     "metadata": {},
     "output_type": "execute_result"
    }
   ],
   "source": [
    "dict_str = dict_str.replace('\\'', '')\n",
    "dict_str"
   ]
  },
  {
   "cell_type": "code",
   "execution_count": 202,
   "metadata": {},
   "outputs": [
    {
     "data": {
      "text/plain": [
       "'N:_40,_nb_runs:_50,_beta:_0.1,_pace:_1.001,_M:_array([_20,__40,__60,__80,_100,_120,_140,_160,_180,_200,_280,_400]),_schedule:_1'"
      ]
     },
     "execution_count": 202,
     "metadata": {},
     "output_type": "execute_result"
    }
   ],
   "source": [
    "dict_str = dict_str.replace('{', '')\n",
    "dict_str = dict_str.replace('}', '')\n",
    "\n",
    "dict_str"
   ]
  },
  {
   "cell_type": "code",
   "execution_count": 204,
   "metadata": {},
   "outputs": [
    {
     "data": {
      "text/plain": [
       "'N:_40,_nb_runs:_50,_beta:_0.1,_pace:_1.001,_M:_array(_20,__40,__60,__80,_100,_120,_140,_160,_180,_200,_280,_400),_schedule:_1'"
      ]
     },
     "execution_count": 204,
     "metadata": {},
     "output_type": "execute_result"
    }
   ],
   "source": [
    "dict_str = dict_str.replace('[', '')\n",
    "dict_str = dict_str.replace(']', '')\n",
    "\n",
    "dict_str"
   ]
  },
  {
   "cell_type": "code",
   "execution_count": 205,
   "metadata": {},
   "outputs": [],
   "source": [
    "def conv_dict_to_str(parameter):\n",
    "    parameter.pop('M')\n",
    "    dict_str = str(parameter)\n",
    "    dict_str = dict_str.replace(' ', '_')\n",
    "    dict_str = dict_str.replace('\\'', '')\n",
    "    dict_str = dict_str.replace('{', '')\n",
    "    dict_str = dict_str.replace('}', '')\n",
    "    return dict_str\n"
   ]
  },
  {
   "cell_type": "code",
   "execution_count": 206,
   "metadata": {},
   "outputs": [
    {
     "data": {
      "text/plain": [
       "'N:_40,_nb_runs:_50,_beta:_0.1,_pace:_1.001,_schedule:_1'"
      ]
     },
     "execution_count": 206,
     "metadata": {},
     "output_type": "execute_result"
    }
   ],
   "source": [
    "conv_dict_to_str(grid_points[2])"
   ]
  },
  {
   "cell_type": "markdown",
   "metadata": {},
   "source": [
    "While plotting, take care to plot versus alpha not M"
   ]
  },
  {
   "cell_type": "code",
   "execution_count": 190,
   "metadata": {},
   "outputs": [],
   "source": [
    "lst = list(range(0, 20))"
   ]
  },
  {
   "cell_type": "code",
   "execution_count": 192,
   "metadata": {},
   "outputs": [
    {
     "data": {
      "text/plain": [
       "[True,\n",
       " False,\n",
       " False,\n",
       " False,\n",
       " False,\n",
       " False,\n",
       " False,\n",
       " False,\n",
       " False,\n",
       " False,\n",
       " True,\n",
       " False,\n",
       " False,\n",
       " False,\n",
       " False,\n",
       " False,\n",
       " False,\n",
       " False,\n",
       " False,\n",
       " False]"
      ]
     },
     "execution_count": 192,
     "metadata": {},
     "output_type": "execute_result"
    }
   ],
   "source": [
    "[ x%10==0 for x in lst]"
   ]
  },
  {
   "cell_type": "code",
   "execution_count": 195,
   "metadata": {},
   "outputs": [],
   "source": [
    "alpha_list1 = M_values[40]/float(40)"
   ]
  },
  {
   "cell_type": "code",
   "execution_count": 196,
   "metadata": {},
   "outputs": [
    {
     "data": {
      "text/plain": [
       "array([  0.5,   1. ,   1.5,   2. ,   2.5,   3. ,   3.5,   4. ,   4.5,\n",
       "         5. ,   7. ,  10. ])"
      ]
     },
     "execution_count": 196,
     "metadata": {},
     "output_type": "execute_result"
    }
   ],
   "source": [
    "alpha_list1"
   ]
  },
  {
   "cell_type": "code",
   "execution_count": 230,
   "metadata": {},
   "outputs": [],
   "source": [
    "def metropolis_sim_anneal_fastest(w_init, beta_init, beta_pace, X, Y, schedule = 1, epsilon=1e-7, max_iter=1000000):\n",
    "    M = X.shape[0] # number of samples\n",
    "    N = w_init.shape[0] # number of dimensions\n",
    "    w_est = np.copy(w_init) \n",
    "    beta = beta_init\n",
    "\n",
    "    energy_record = np.array([])\n",
    "    current_energy = energy(w_est, X, Y)\n",
    "    energy_record = np.append(energy_record, current_energy)\n",
    "    ctr = 0\n",
    "    print(\"yo inside simul anneal\")\n",
    "    while ((current_energy/M > epsilon) or ctr<max_iter):\n",
    "        ctr +=1\n",
    "        index_rand = np.random.randint(0, N)\n",
    "        wp = np.copy(w_est)\n",
    "        wp[index_rand] = -1 * wp[index_rand]\n",
    "\n",
    "        accept_probability, next_energy = accept_prob_with_energy_using_energy(wp, current_energy, beta, X, Y)\n",
    "        if np.random.uniform() < accept_probability:\n",
    "            # accept the move, update the weights and the current energy\n",
    "            w_est = wp \n",
    "            current_energy = next_energy\n",
    "        if(ctr%schedule == 0):\n",
    "            beta = beta * beta_pace\n",
    "\n",
    "        energy_record= np.append(energy_record, current_energy)\n",
    "\n",
    "    return w_est, energy_record, (1.0/M) * current_energy, ctr, beta\n"
   ]
  },
  {
   "cell_type": "code",
   "execution_count": 261,
   "metadata": {},
   "outputs": [],
   "source": [
    "def mkdir(path):\n",
    "    print(\"Path for mkdir is \", path)\n",
    "    if not os.path.exists(path):\n",
    "        os.makedirs(path)\n"
   ]
  },
  {
   "cell_type": "code",
   "execution_count": 293,
   "metadata": {},
   "outputs": [],
   "source": [
    "def run_metropolis_mult(parameter_dict):\n",
    "    N = parameter_dict['N']\n",
    "    nb_runs = parameter_dict['nb_runs']\n",
    "    beta = parameter_dict['beta']\n",
    "    pace = parameter_dict['pace']\n",
    "    M_values = parameter_dict['M']\n",
    "    print(M_values)\n",
    "    schedule = parameter_dict['schedule']\n",
    "    print(\"yo parameters are \", parameter_dict)\n",
    "    \n",
    "    normalized_energies_per_alpha = np.array([])\n",
    "    overlap_per_alpha = np.array([])\n",
    "    avg_beta_last_per_alpha = np.array([])\n",
    "    avg_iter_done_per_alpha = np.array([])\n",
    "    \n",
    "    alpha_list = M_values/float(N)\n",
    "    root_folder = '/home/ssingh/markov_chain/ergoticPain/grid_search/'\n",
    "    print(\"bitch1\")\n",
    "    #os.makedirs(\"oopsie\", exist_ok = True)\n",
    "    #mkdir(root_folder)\n",
    "    print(\"bitch2\")\n",
    "    foldername = root_folder + conv_dict_to_str(parameter_dict) + '/'\n",
    "    mkdir(foldername)\n",
    "    print(\"the m_valuyes are \", M_values)\n",
    "    for M in M_values:\n",
    "\n",
    "        overlap_acc = np.zeros(nb_runs)\n",
    "        normalized_energy_record_acc = np.zeros(nb_runs)\n",
    "        iter_done_acc = np.zeros(nb_runs)\n",
    "        beta_last_acc = np.zeros(nb_runs)\n",
    "        energy_record_acc = np.zeros(N)\n",
    "        for i in range(nb_runs):\n",
    "\n",
    "            w = 2 * np.random.random_integers(0, 1, N) - 1\n",
    "            X = np.random.randn(M, N)\n",
    "            Y = np.sign(np.dot(X, w))\n",
    "\n",
    "            w_init = 2 * np.random.random_integers(0, 1, N) - 1\n",
    "            # the energy record is probably just the very last value\n",
    "            # we should also save the averaged curves and then the averaged last value\n",
    "            w_est, energy_record, normalized_energy_last, iter_done, beta_last = metropolis_sim_anneal_fastest(w_init, beta, pace, X, Y, schedule)\n",
    "            \n",
    "            energy_record_acc = sum_two_vec_pad(energy_record_acc, energy_record)\n",
    "\n",
    "            normalized_energy_record_acc[i] = normalized_energy_last\n",
    "            overlap_acc[i] = overlap(w_est, w)\n",
    "            iter_done_acc[i] = iter_done\n",
    "            beta_last_acc[i] = beta_last\n",
    "\n",
    "        \n",
    "        overlap_per_alpha = np.append(overlap_per_alpha, np.mean(overlap_acc))\n",
    "        avg_beta_last_per_alpha = np.append(avg_beta_last_per_alpha, np.mean(beta_last_acc))\n",
    "        avg_iter_done_per_alpha = np.append(avg_iter_done_per_alpha, np.mean(iter_done_acc))\n",
    "        normalized_energies_per_alpha = np.append(normalized_energies_per_alpha, np.mean(normalized_energy_record_acc))\n",
    "        \n",
    "        #save the plot for accumulated energy record across all nb_runs\n",
    "        plt.plot(energy_record_acc)\n",
    "        plt.savefig(foldername + 'energy_record_acc_' + M + '.png')\n",
    "        plt.close()\n",
    "        np.save(foldername + 'energy_record_acc_' + M, energy_record_acc)\n",
    "    \n",
    "\n",
    "    #save the plot for each of the alpha's  \n",
    "    plt.plot(alpha_list, normalized_energies_per_alpha)\n",
    "    plt.savefig(foldername + 'normalized_energies_per_alpha.png')\n",
    "    plt.close()\n",
    "    plt.plot(alpha_list, overlap_per_alpha)\n",
    "    plt.savefig(foldername + 'overlap_per_alpha.png')\n",
    "    plt.close()\n",
    "\n",
    "    # serialize the various values produced! \n",
    "    np.save(foldername + 'normalized_energies_per_alpha', normalized_energies_per_alpha)\n",
    "    np.save(foldername + 'overlap_per_alpha', overlap_per_alpha)\n",
    "    np.save(foldername + 'avg_beta_last_per_alpha', avg_beta_last_per_alpha)\n",
    "    np.save(foldername + 'avg_iter_done_per_alpha', avg_iter_done_per_alpha)\n",
    "    \n",
    "    return normalized_energies_per_alpha, overlap_per_alpha, avg_beta_last_per_alpha, avg_iter_done_per_alpha\n"
   ]
  },
  {
   "cell_type": "code",
   "execution_count": 299,
   "metadata": {},
   "outputs": [],
   "source": [
    "num_cores = 40"
   ]
  },
  {
   "cell_type": "code",
   "execution_count": 300,
   "metadata": {},
   "outputs": [
    {
     "ename": "OSError",
     "evalue": "[Errno 24] Too many open files",
     "output_type": "error",
     "traceback": [
      "\u001b[0;31m---------------------------------------------------------------------------\u001b[0m",
      "\u001b[0;31mOSError\u001b[0m                                   Traceback (most recent call last)",
      "\u001b[0;32m<ipython-input-300-71a6963e27d2>\u001b[0m in \u001b[0;36m<module>\u001b[0;34m()\u001b[0m\n\u001b[0;32m----> 1\u001b[0;31m \u001b[0mpool\u001b[0m \u001b[0;34m=\u001b[0m \u001b[0mPool\u001b[0m\u001b[0;34m(\u001b[0m\u001b[0mnum_cores\u001b[0m\u001b[0;34m)\u001b[0m\u001b[0;34m\u001b[0m\u001b[0m\n\u001b[0m",
      "\u001b[0;32m/mlodata1/sidak/anaconda/envs/python3.6/lib/python3.6/multiprocessing/context.py\u001b[0m in \u001b[0;36mPool\u001b[0;34m(self, processes, initializer, initargs, maxtasksperchild)\u001b[0m\n\u001b[1;32m    117\u001b[0m         \u001b[0;32mfrom\u001b[0m \u001b[0;34m.\u001b[0m\u001b[0mpool\u001b[0m \u001b[0;32mimport\u001b[0m \u001b[0mPool\u001b[0m\u001b[0;34m\u001b[0m\u001b[0m\n\u001b[1;32m    118\u001b[0m         return Pool(processes, initializer, initargs, maxtasksperchild,\n\u001b[0;32m--> 119\u001b[0;31m                     context=self.get_context())\n\u001b[0m\u001b[1;32m    120\u001b[0m \u001b[0;34m\u001b[0m\u001b[0m\n\u001b[1;32m    121\u001b[0m     \u001b[0;32mdef\u001b[0m \u001b[0mRawValue\u001b[0m\u001b[0;34m(\u001b[0m\u001b[0mself\u001b[0m\u001b[0;34m,\u001b[0m \u001b[0mtypecode_or_type\u001b[0m\u001b[0;34m,\u001b[0m \u001b[0;34m*\u001b[0m\u001b[0margs\u001b[0m\u001b[0;34m)\u001b[0m\u001b[0;34m:\u001b[0m\u001b[0;34m\u001b[0m\u001b[0m\n",
      "\u001b[0;32m/mlodata1/sidak/anaconda/envs/python3.6/lib/python3.6/multiprocessing/pool.py\u001b[0m in \u001b[0;36m__init__\u001b[0;34m(self, processes, initializer, initargs, maxtasksperchild, context)\u001b[0m\n\u001b[1;32m    154\u001b[0m                  maxtasksperchild=None, context=None):\n\u001b[1;32m    155\u001b[0m         \u001b[0mself\u001b[0m\u001b[0;34m.\u001b[0m\u001b[0m_ctx\u001b[0m \u001b[0;34m=\u001b[0m \u001b[0mcontext\u001b[0m \u001b[0;32mor\u001b[0m \u001b[0mget_context\u001b[0m\u001b[0;34m(\u001b[0m\u001b[0;34m)\u001b[0m\u001b[0;34m\u001b[0m\u001b[0m\n\u001b[0;32m--> 156\u001b[0;31m         \u001b[0mself\u001b[0m\u001b[0;34m.\u001b[0m\u001b[0m_setup_queues\u001b[0m\u001b[0;34m(\u001b[0m\u001b[0;34m)\u001b[0m\u001b[0;34m\u001b[0m\u001b[0m\n\u001b[0m\u001b[1;32m    157\u001b[0m         \u001b[0mself\u001b[0m\u001b[0;34m.\u001b[0m\u001b[0m_taskqueue\u001b[0m \u001b[0;34m=\u001b[0m \u001b[0mqueue\u001b[0m\u001b[0;34m.\u001b[0m\u001b[0mQueue\u001b[0m\u001b[0;34m(\u001b[0m\u001b[0;34m)\u001b[0m\u001b[0;34m\u001b[0m\u001b[0m\n\u001b[1;32m    158\u001b[0m         \u001b[0mself\u001b[0m\u001b[0;34m.\u001b[0m\u001b[0m_cache\u001b[0m \u001b[0;34m=\u001b[0m \u001b[0;34m{\u001b[0m\u001b[0;34m}\u001b[0m\u001b[0;34m\u001b[0m\u001b[0m\n",
      "\u001b[0;32m/mlodata1/sidak/anaconda/envs/python3.6/lib/python3.6/multiprocessing/pool.py\u001b[0m in \u001b[0;36m_setup_queues\u001b[0;34m(self)\u001b[0m\n\u001b[1;32m    247\u001b[0m \u001b[0;34m\u001b[0m\u001b[0m\n\u001b[1;32m    248\u001b[0m     \u001b[0;32mdef\u001b[0m \u001b[0m_setup_queues\u001b[0m\u001b[0;34m(\u001b[0m\u001b[0mself\u001b[0m\u001b[0;34m)\u001b[0m\u001b[0;34m:\u001b[0m\u001b[0;34m\u001b[0m\u001b[0m\n\u001b[0;32m--> 249\u001b[0;31m         \u001b[0mself\u001b[0m\u001b[0;34m.\u001b[0m\u001b[0m_inqueue\u001b[0m \u001b[0;34m=\u001b[0m \u001b[0mself\u001b[0m\u001b[0;34m.\u001b[0m\u001b[0m_ctx\u001b[0m\u001b[0;34m.\u001b[0m\u001b[0mSimpleQueue\u001b[0m\u001b[0;34m(\u001b[0m\u001b[0;34m)\u001b[0m\u001b[0;34m\u001b[0m\u001b[0m\n\u001b[0m\u001b[1;32m    250\u001b[0m         \u001b[0mself\u001b[0m\u001b[0;34m.\u001b[0m\u001b[0m_outqueue\u001b[0m \u001b[0;34m=\u001b[0m \u001b[0mself\u001b[0m\u001b[0;34m.\u001b[0m\u001b[0m_ctx\u001b[0m\u001b[0;34m.\u001b[0m\u001b[0mSimpleQueue\u001b[0m\u001b[0;34m(\u001b[0m\u001b[0;34m)\u001b[0m\u001b[0;34m\u001b[0m\u001b[0m\n\u001b[1;32m    251\u001b[0m         \u001b[0mself\u001b[0m\u001b[0;34m.\u001b[0m\u001b[0m_quick_put\u001b[0m \u001b[0;34m=\u001b[0m \u001b[0mself\u001b[0m\u001b[0;34m.\u001b[0m\u001b[0m_inqueue\u001b[0m\u001b[0;34m.\u001b[0m\u001b[0m_writer\u001b[0m\u001b[0;34m.\u001b[0m\u001b[0msend\u001b[0m\u001b[0;34m\u001b[0m\u001b[0m\n",
      "\u001b[0;32m/mlodata1/sidak/anaconda/envs/python3.6/lib/python3.6/multiprocessing/context.py\u001b[0m in \u001b[0;36mSimpleQueue\u001b[0;34m(self)\u001b[0m\n\u001b[1;32m    110\u001b[0m         \u001b[0;34m'''Returns a queue object'''\u001b[0m\u001b[0;34m\u001b[0m\u001b[0m\n\u001b[1;32m    111\u001b[0m         \u001b[0;32mfrom\u001b[0m \u001b[0;34m.\u001b[0m\u001b[0mqueues\u001b[0m \u001b[0;32mimport\u001b[0m \u001b[0mSimpleQueue\u001b[0m\u001b[0;34m\u001b[0m\u001b[0m\n\u001b[0;32m--> 112\u001b[0;31m         \u001b[0;32mreturn\u001b[0m \u001b[0mSimpleQueue\u001b[0m\u001b[0;34m(\u001b[0m\u001b[0mctx\u001b[0m\u001b[0;34m=\u001b[0m\u001b[0mself\u001b[0m\u001b[0;34m.\u001b[0m\u001b[0mget_context\u001b[0m\u001b[0;34m(\u001b[0m\u001b[0;34m)\u001b[0m\u001b[0;34m)\u001b[0m\u001b[0;34m\u001b[0m\u001b[0m\n\u001b[0m\u001b[1;32m    113\u001b[0m \u001b[0;34m\u001b[0m\u001b[0m\n\u001b[1;32m    114\u001b[0m     def Pool(self, processes=None, initializer=None, initargs=(),\n",
      "\u001b[0;32m/mlodata1/sidak/anaconda/envs/python3.6/lib/python3.6/multiprocessing/queues.py\u001b[0m in \u001b[0;36m__init__\u001b[0;34m(self, ctx)\u001b[0m\n\u001b[1;32m    312\u001b[0m \u001b[0;34m\u001b[0m\u001b[0m\n\u001b[1;32m    313\u001b[0m     \u001b[0;32mdef\u001b[0m \u001b[0m__init__\u001b[0m\u001b[0;34m(\u001b[0m\u001b[0mself\u001b[0m\u001b[0;34m,\u001b[0m \u001b[0;34m*\u001b[0m\u001b[0;34m,\u001b[0m \u001b[0mctx\u001b[0m\u001b[0;34m)\u001b[0m\u001b[0;34m:\u001b[0m\u001b[0;34m\u001b[0m\u001b[0m\n\u001b[0;32m--> 314\u001b[0;31m         \u001b[0mself\u001b[0m\u001b[0;34m.\u001b[0m\u001b[0m_reader\u001b[0m\u001b[0;34m,\u001b[0m \u001b[0mself\u001b[0m\u001b[0;34m.\u001b[0m\u001b[0m_writer\u001b[0m \u001b[0;34m=\u001b[0m \u001b[0mconnection\u001b[0m\u001b[0;34m.\u001b[0m\u001b[0mPipe\u001b[0m\u001b[0;34m(\u001b[0m\u001b[0mduplex\u001b[0m\u001b[0;34m=\u001b[0m\u001b[0;32mFalse\u001b[0m\u001b[0;34m)\u001b[0m\u001b[0;34m\u001b[0m\u001b[0m\n\u001b[0m\u001b[1;32m    315\u001b[0m         \u001b[0mself\u001b[0m\u001b[0;34m.\u001b[0m\u001b[0m_rlock\u001b[0m \u001b[0;34m=\u001b[0m \u001b[0mctx\u001b[0m\u001b[0;34m.\u001b[0m\u001b[0mLock\u001b[0m\u001b[0;34m(\u001b[0m\u001b[0;34m)\u001b[0m\u001b[0;34m\u001b[0m\u001b[0m\n\u001b[1;32m    316\u001b[0m         \u001b[0mself\u001b[0m\u001b[0;34m.\u001b[0m\u001b[0m_poll\u001b[0m \u001b[0;34m=\u001b[0m \u001b[0mself\u001b[0m\u001b[0;34m.\u001b[0m\u001b[0m_reader\u001b[0m\u001b[0;34m.\u001b[0m\u001b[0mpoll\u001b[0m\u001b[0;34m\u001b[0m\u001b[0m\n",
      "\u001b[0;32m/mlodata1/sidak/anaconda/envs/python3.6/lib/python3.6/multiprocessing/connection.py\u001b[0m in \u001b[0;36mPipe\u001b[0;34m(duplex)\u001b[0m\n\u001b[1;32m    510\u001b[0m             \u001b[0mc2\u001b[0m \u001b[0;34m=\u001b[0m \u001b[0mConnection\u001b[0m\u001b[0;34m(\u001b[0m\u001b[0ms2\u001b[0m\u001b[0;34m.\u001b[0m\u001b[0mdetach\u001b[0m\u001b[0;34m(\u001b[0m\u001b[0;34m)\u001b[0m\u001b[0;34m)\u001b[0m\u001b[0;34m\u001b[0m\u001b[0m\n\u001b[1;32m    511\u001b[0m         \u001b[0;32melse\u001b[0m\u001b[0;34m:\u001b[0m\u001b[0;34m\u001b[0m\u001b[0m\n\u001b[0;32m--> 512\u001b[0;31m             \u001b[0mfd1\u001b[0m\u001b[0;34m,\u001b[0m \u001b[0mfd2\u001b[0m \u001b[0;34m=\u001b[0m \u001b[0mos\u001b[0m\u001b[0;34m.\u001b[0m\u001b[0mpipe\u001b[0m\u001b[0;34m(\u001b[0m\u001b[0;34m)\u001b[0m\u001b[0;34m\u001b[0m\u001b[0m\n\u001b[0m\u001b[1;32m    513\u001b[0m             \u001b[0mc1\u001b[0m \u001b[0;34m=\u001b[0m \u001b[0mConnection\u001b[0m\u001b[0;34m(\u001b[0m\u001b[0mfd1\u001b[0m\u001b[0;34m,\u001b[0m \u001b[0mwritable\u001b[0m\u001b[0;34m=\u001b[0m\u001b[0;32mFalse\u001b[0m\u001b[0;34m)\u001b[0m\u001b[0;34m\u001b[0m\u001b[0m\n\u001b[1;32m    514\u001b[0m             \u001b[0mc2\u001b[0m \u001b[0;34m=\u001b[0m \u001b[0mConnection\u001b[0m\u001b[0;34m(\u001b[0m\u001b[0mfd2\u001b[0m\u001b[0;34m,\u001b[0m \u001b[0mreadable\u001b[0m\u001b[0;34m=\u001b[0m\u001b[0;32mFalse\u001b[0m\u001b[0;34m)\u001b[0m\u001b[0;34m\u001b[0m\u001b[0m\n",
      "\u001b[0;31mOSError\u001b[0m: [Errno 24] Too many open files"
     ]
    }
   ],
   "source": [
    "pool = Pool(num_cores)\n"
   ]
  },
  {
   "cell_type": "code",
   "execution_count": 297,
   "metadata": {},
   "outputs": [
    {
     "ename": "ValueError",
     "evalue": "Pool not running",
     "output_type": "error",
     "traceback": [
      "\u001b[0;31m---------------------------------------------------------------------------\u001b[0m",
      "\u001b[0;31mValueError\u001b[0m                                Traceback (most recent call last)",
      "\u001b[0;32m<ipython-input-297-3bdff5e4213f>\u001b[0m in \u001b[0;36m<module>\u001b[0;34m()\u001b[0m\n\u001b[0;32m----> 1\u001b[0;31m \u001b[0mans\u001b[0m \u001b[0;34m=\u001b[0m \u001b[0mpool\u001b[0m\u001b[0;34m.\u001b[0m\u001b[0mmap\u001b[0m\u001b[0;34m(\u001b[0m\u001b[0mrun_metropolis_mult\u001b[0m\u001b[0;34m,\u001b[0m \u001b[0mgrid_points\u001b[0m\u001b[0;34m[\u001b[0m\u001b[0;34m:\u001b[0m\u001b[0;36m2\u001b[0m\u001b[0;34m]\u001b[0m\u001b[0;34m)\u001b[0m\u001b[0;34m\u001b[0m\u001b[0m\n\u001b[0m",
      "\u001b[0;32m/mlodata1/sidak/anaconda/envs/python3.6/lib/python3.6/multiprocessing/pool.py\u001b[0m in \u001b[0;36mmap\u001b[0;34m(self, func, iterable, chunksize)\u001b[0m\n\u001b[1;32m    264\u001b[0m         \u001b[0;32min\u001b[0m \u001b[0ma\u001b[0m \u001b[0mlist\u001b[0m \u001b[0mthat\u001b[0m \u001b[0;32mis\u001b[0m \u001b[0mreturned\u001b[0m\u001b[0;34m.\u001b[0m\u001b[0;34m\u001b[0m\u001b[0m\n\u001b[1;32m    265\u001b[0m         '''\n\u001b[0;32m--> 266\u001b[0;31m         \u001b[0;32mreturn\u001b[0m \u001b[0mself\u001b[0m\u001b[0;34m.\u001b[0m\u001b[0m_map_async\u001b[0m\u001b[0;34m(\u001b[0m\u001b[0mfunc\u001b[0m\u001b[0;34m,\u001b[0m \u001b[0miterable\u001b[0m\u001b[0;34m,\u001b[0m \u001b[0mmapstar\u001b[0m\u001b[0;34m,\u001b[0m \u001b[0mchunksize\u001b[0m\u001b[0;34m)\u001b[0m\u001b[0;34m.\u001b[0m\u001b[0mget\u001b[0m\u001b[0;34m(\u001b[0m\u001b[0;34m)\u001b[0m\u001b[0;34m\u001b[0m\u001b[0m\n\u001b[0m\u001b[1;32m    267\u001b[0m \u001b[0;34m\u001b[0m\u001b[0m\n\u001b[1;32m    268\u001b[0m     \u001b[0;32mdef\u001b[0m \u001b[0mstarmap\u001b[0m\u001b[0;34m(\u001b[0m\u001b[0mself\u001b[0m\u001b[0;34m,\u001b[0m \u001b[0mfunc\u001b[0m\u001b[0;34m,\u001b[0m \u001b[0miterable\u001b[0m\u001b[0;34m,\u001b[0m \u001b[0mchunksize\u001b[0m\u001b[0;34m=\u001b[0m\u001b[0;32mNone\u001b[0m\u001b[0;34m)\u001b[0m\u001b[0;34m:\u001b[0m\u001b[0;34m\u001b[0m\u001b[0m\n",
      "\u001b[0;32m/mlodata1/sidak/anaconda/envs/python3.6/lib/python3.6/multiprocessing/pool.py\u001b[0m in \u001b[0;36m_map_async\u001b[0;34m(self, func, iterable, mapper, chunksize, callback, error_callback)\u001b[0m\n\u001b[1;32m    372\u001b[0m         '''\n\u001b[1;32m    373\u001b[0m         \u001b[0;32mif\u001b[0m \u001b[0mself\u001b[0m\u001b[0;34m.\u001b[0m\u001b[0m_state\u001b[0m \u001b[0;34m!=\u001b[0m \u001b[0mRUN\u001b[0m\u001b[0;34m:\u001b[0m\u001b[0;34m\u001b[0m\u001b[0m\n\u001b[0;32m--> 374\u001b[0;31m             \u001b[0;32mraise\u001b[0m \u001b[0mValueError\u001b[0m\u001b[0;34m(\u001b[0m\u001b[0;34m\"Pool not running\"\u001b[0m\u001b[0;34m)\u001b[0m\u001b[0;34m\u001b[0m\u001b[0m\n\u001b[0m\u001b[1;32m    375\u001b[0m         \u001b[0;32mif\u001b[0m \u001b[0;32mnot\u001b[0m \u001b[0mhasattr\u001b[0m\u001b[0;34m(\u001b[0m\u001b[0miterable\u001b[0m\u001b[0;34m,\u001b[0m \u001b[0;34m'__len__'\u001b[0m\u001b[0;34m)\u001b[0m\u001b[0;34m:\u001b[0m\u001b[0;34m\u001b[0m\u001b[0m\n\u001b[1;32m    376\u001b[0m             \u001b[0miterable\u001b[0m \u001b[0;34m=\u001b[0m \u001b[0mlist\u001b[0m\u001b[0;34m(\u001b[0m\u001b[0miterable\u001b[0m\u001b[0;34m)\u001b[0m\u001b[0;34m\u001b[0m\u001b[0m\n",
      "\u001b[0;31mValueError\u001b[0m: Pool not running"
     ]
    }
   ],
   "source": [
    "ans = pool.map(run_metropolis_mult, grid_points[:2])\n"
   ]
  },
  {
   "cell_type": "code",
   "execution_count": 275,
   "metadata": {},
   "outputs": [],
   "source": [
    "ans.wait()\n"
   ]
  },
  {
   "cell_type": "code",
   "execution_count": 287,
   "metadata": {},
   "outputs": [
    {
     "name": "stdout",
     "output_type": "stream",
     "text": [
      "total 688\r\n",
      "drwxr-sr-x 6 ssingh mlologins   4096 Dec 17 03:21 \u001b[0m\u001b[01;34m.\u001b[0m/\r\n",
      "drwxr-sr-x 3 ssingh mlologins   4096 Dec 16 01:54 \u001b[01;34m..\u001b[0m/\r\n",
      "drwxr-sr-x 8 ssingh mlologins   4096 Dec 17 03:30 \u001b[01;34m.git\u001b[0m/\r\n",
      "-rw-r--r-- 1 ssingh mlologins      6 Dec 16 01:54 .gitignore\r\n",
      "drwxr-sr-x 2 ssingh mlologins   4096 Dec 17 03:04 \u001b[01;34mgrid_search\u001b[0m/\r\n",
      "-rw-r--r-- 1 ssingh mlologins   6589 Dec 17 03:30 grid_search.py\r\n",
      "drwxr-sr-x 2 ssingh mlologins   4096 Dec 17 01:29 \u001b[01;34m.ipynb_checkpoints\u001b[0m/\r\n",
      "-rw-r--r-- 1 ssingh mlologins 264092 Dec 17 01:29 markov_chain_fastest-Copy1.ipynb\r\n",
      "-rwxr-xr-x 1 ssingh mlologins 305927 Dec 17 03:21 \u001b[01;32mmarkov_chain_fastest.ipynb\u001b[0m*\r\n",
      "-rw-r--r-- 1 ssingh mlologins  76420 Dec 16 01:54 markov_chain.ipynb\r\n",
      "drwxr-sr-x 2 ssingh mlologins   4096 Dec 17 03:16 \u001b[01;34mooposei\u001b[0m/\r\n",
      "-rw-r--r-- 1 ssingh mlologins    148 Dec 16 01:54 README.md\r\n",
      "-rw-r--r-- 1 ssingh mlologins   3458 Dec 16 01:54 test.py\r\n",
      "-rw-r--r-- 1 ssingh mlologins     49 Dec 17 03:16 tmp.py\r\n"
     ]
    }
   ],
   "source": [
    "ls -la"
   ]
  },
  {
   "cell_type": "code",
   "execution_count": 220,
   "metadata": {},
   "outputs": [
    {
     "data": {
      "text/plain": [
       "[{'M': array([ 20,  40,  60,  80, 100, 120, 140, 160, 180, 200, 280, 400]),\n",
       "  'N': 40,\n",
       "  'beta': 0.1,\n",
       "  'nb_runs': 50,\n",
       "  'pace': 1.0002,\n",
       "  'schedule': 1},\n",
       " {'M': array([ 20,  40,  60,  80, 100, 120, 140, 160, 180, 200, 280, 400]),\n",
       "  'N': 40,\n",
       "  'beta': 0.1,\n",
       "  'nb_runs': 50,\n",
       "  'pace': 1.0002,\n",
       "  'schedule': 10}]"
      ]
     },
     "execution_count": 220,
     "metadata": {},
     "output_type": "execute_result"
    }
   ],
   "source": [
    " grid_points[:2]"
   ]
  },
  {
   "cell_type": "code",
   "execution_count": 224,
   "metadata": {},
   "outputs": [
    {
     "name": "stdout",
     "output_type": "stream",
     "text": [
      "total 672\r\n",
      "drwxr-sr-x 4 ssingh mlologins   4096 Dec 17 02:55 \u001b[0m\u001b[01;34m.\u001b[0m/\r\n",
      "drwxr-sr-x 3 ssingh mlologins   4096 Dec 16 01:54 \u001b[01;34m..\u001b[0m/\r\n",
      "drwxr-sr-x 8 ssingh mlologins   4096 Dec 16 23:25 \u001b[01;34m.git\u001b[0m/\r\n",
      "-rw-r--r-- 1 ssingh mlologins      6 Dec 16 01:54 .gitignore\r\n",
      "-rw-r--r-- 1 ssingh mlologins   1559 Dec 16 01:54 grid_search.py\r\n",
      "drwxr-sr-x 2 ssingh mlologins   4096 Dec 17 01:29 \u001b[01;34m.ipynb_checkpoints\u001b[0m/\r\n",
      "-rw-r--r-- 1 ssingh mlologins 264092 Dec 17 01:29 markov_chain_fastest-Copy1.ipynb\r\n",
      "-rw-r--r-- 1 ssingh mlologins 302856 Dec 17 02:55 markov_chain_fastest.ipynb\r\n",
      "-rw-r--r-- 1 ssingh mlologins  76420 Dec 16 01:54 markov_chain.ipynb\r\n",
      "-rw-r--r-- 1 ssingh mlologins    148 Dec 16 01:54 README.md\r\n",
      "-rw-r--r-- 1 ssingh mlologins   3458 Dec 16 01:54 test.py\r\n"
     ]
    }
   ],
   "source": [
    "ls -la"
   ]
  },
  {
   "cell_type": "code",
   "execution_count": 296,
   "metadata": {},
   "outputs": [],
   "source": [
    "pool.close()"
   ]
  },
  {
   "cell_type": "code",
   "execution_count": null,
   "metadata": {},
   "outputs": [],
   "source": []
  }
 ],
 "metadata": {
  "kernelspec": {
   "display_name": "Python 3",
   "language": "python",
   "name": "python3"
  },
  "language_info": {
   "codemirror_mode": {
    "name": "ipython",
    "version": 2
   },
   "file_extension": ".py",
   "mimetype": "text/x-python",
   "name": "python",
   "nbconvert_exporter": "python",
   "pygments_lexer": "ipython2",
   "version": "2.7.14"
  }
 },
 "nbformat": 4,
 "nbformat_minor": 2
}
