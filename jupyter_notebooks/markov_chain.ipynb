{
 "cells": [
  {
   "cell_type": "code",
   "execution_count": 1,
   "metadata": {},
   "outputs": [],
   "source": [
    "import numpy as np\n",
    "import matplotlib.pyplot as plt\n",
    "%matplotlib inline"
   ]
  },
  {
   "cell_type": "code",
   "execution_count": 2,
   "metadata": {},
   "outputs": [],
   "source": [
    "'''\n",
    "Returns the sum of 2 vectors of not necesseraly the same length by appending 0's to the shorter vector.\n",
    "'''\n",
    "def sum_two_vec_pad(a, b):\n",
    "    if len(a) < len(b):\n",
    "        c = b.copy()\n",
    "        c[:len(a)] += a\n",
    "    else:\n",
    "        c = a.copy()\n",
    "        c[:len(b)] += b\n",
    "    return c\n",
    "\n",
    "'''\n",
    "returns the energy for an estimated weight vector omega, with data (X, Y)\n",
    "'''\n",
    "def energy(w, X, Y):\n",
    "    Y_est = np.sign(np.dot(X, w))\n",
    "    return 0.5 * np.sum((Y - Y_est)**2)\n",
    "\n",
    "def accept_prob(wp, w, beta, X, Y):\n",
    "    return min(1, np.exp(-beta*(energy(wp, X, Y) - energy(w, X, Y))))\n",
    "\n",
    "def overlap(wp, w):\n",
    "    return 1.0 / (w.shape[0]) * np.dot(w, wp)"
   ]
  },
  {
   "cell_type": "code",
   "execution_count": 3,
   "metadata": {},
   "outputs": [],
   "source": [
    "###\n",
    "\n",
    "### Part 1\n",
    "\n",
    "###\n",
    "\n",
    "\n",
    "################ 1.\n",
    "\n",
    "def metropolis(w_init, beta, X, Y, epsilon=0):\n",
    "\n",
    "    N = w_init.shape[0]\n",
    "    w = np.copy(w_init)\n",
    "    wp = np.copy(w)\n",
    "\n",
    "    energy_record = np.array([])\n",
    "    energy_record = np.append(energy_record, energy(w_init, X, Y))\n",
    "    accep_p = []\n",
    "    while (energy(w, X, Y) > epsilon):\n",
    "        accep_p.append(accept_prob(wp, w, beta, X, Y))\n",
    "        index_rand = np.random.randint(0, N)\n",
    "        wp = np.copy(w)\n",
    "        wp[index_rand] = -1 * wp[index_rand]\n",
    "\n",
    "        if np.random.uniform() < accept_prob(wp, w, beta, X, Y):\n",
    "            w = np.copy(wp)\n",
    "\n",
    "        energy_record= np.append(energy_record, energy(w, X, Y))\n",
    "\n",
    "    return w, energy_record, accep_p\n",
    "\n",
    "def metropolis_mult(nb_runs, beta, X, Y, epsilon=0):\n",
    "    N = X.shape[1]\n",
    "    energy_record_acc = np.zeros(N)\n",
    "\n",
    "    for k in range(0, nb_runs):\n",
    "        w_init =  2 * np.random.random_integers(0, 1, N) - 1\n",
    "        _, energy_record = metropolis(w_init, beta, X, Y, epsilon)\n",
    "        energy_record_acc = sum_two_vec_pad(energy_record_acc, energy_record)\n",
    "\n",
    "\n",
    "    return energy_record_acc / nb_runs"
   ]
  },
  {
   "cell_type": "code",
   "execution_count": 51,
   "metadata": {},
   "outputs": [
    {
     "name": "stderr",
     "output_type": "stream",
     "text": [
      "/usr/local/lib/python2.7/site-packages/ipykernel_launcher.py:10: DeprecationWarning: This function is deprecated. Please call randint(0, 1 + 1) instead\n",
      "  # Remove the CWD from sys.path while we load stuff.\n",
      "/usr/local/lib/python2.7/site-packages/ipykernel_launcher.py:11: DeprecationWarning: This function is deprecated. Please call randint(0, 1 + 1) instead\n",
      "  # This is added back by InteractiveShellApp.init_path()\n"
     ]
    },
    {
     "ename": "KeyboardInterrupt",
     "evalue": "",
     "output_type": "error",
     "traceback": [
      "\u001b[0;31m---------------------------------------------------------------------------\u001b[0m",
      "\u001b[0;31mKeyboardInterrupt\u001b[0m                         Traceback (most recent call last)",
      "\u001b[0;32m<ipython-input-51-34967eafb2a3>\u001b[0m in \u001b[0;36m<module>\u001b[0;34m()\u001b[0m\n\u001b[1;32m     12\u001b[0m \u001b[0mX\u001b[0m \u001b[0;34m=\u001b[0m \u001b[0mnp\u001b[0m\u001b[0;34m.\u001b[0m\u001b[0mrandom\u001b[0m\u001b[0;34m.\u001b[0m\u001b[0mrandn\u001b[0m\u001b[0;34m(\u001b[0m\u001b[0mM\u001b[0m\u001b[0;34m,\u001b[0m \u001b[0mN\u001b[0m\u001b[0;34m)\u001b[0m\u001b[0;34m\u001b[0m\u001b[0m\n\u001b[1;32m     13\u001b[0m \u001b[0mY\u001b[0m \u001b[0;34m=\u001b[0m \u001b[0mnp\u001b[0m\u001b[0;34m.\u001b[0m\u001b[0msign\u001b[0m\u001b[0;34m(\u001b[0m\u001b[0mnp\u001b[0m\u001b[0;34m.\u001b[0m\u001b[0mdot\u001b[0m\u001b[0;34m(\u001b[0m\u001b[0mX\u001b[0m\u001b[0;34m,\u001b[0m \u001b[0mw\u001b[0m\u001b[0;34m)\u001b[0m\u001b[0;34m)\u001b[0m\u001b[0;34m\u001b[0m\u001b[0m\n\u001b[0;32m---> 14\u001b[0;31m \u001b[0mw\u001b[0m\u001b[0;34m,\u001b[0m \u001b[0menergy_record\u001b[0m\u001b[0;34m,\u001b[0m \u001b[0maccep_p\u001b[0m \u001b[0;34m=\u001b[0m \u001b[0mmetropolis\u001b[0m\u001b[0;34m(\u001b[0m\u001b[0mw_init\u001b[0m\u001b[0;34m,\u001b[0m \u001b[0mbeta\u001b[0m\u001b[0;34m,\u001b[0m \u001b[0mX\u001b[0m\u001b[0;34m,\u001b[0m \u001b[0mY\u001b[0m\u001b[0;34m,\u001b[0m \u001b[0mepsilon\u001b[0m\u001b[0;34m=\u001b[0m\u001b[0;36m0\u001b[0m\u001b[0;34m)\u001b[0m\u001b[0;34m\u001b[0m\u001b[0m\n\u001b[0m\u001b[1;32m     15\u001b[0m \u001b[0;34m\u001b[0m\u001b[0m\n\u001b[1;32m     16\u001b[0m \u001b[0;31m#plt.plot(accep_p);\u001b[0m\u001b[0;34m\u001b[0m\u001b[0;34m\u001b[0m\u001b[0m\n",
      "\u001b[0;32m<ipython-input-25-3e83fb277cea>\u001b[0m in \u001b[0;36mmetropolis\u001b[0;34m(w_init, beta, X, Y, epsilon)\u001b[0m\n\u001b[1;32m     26\u001b[0m             \u001b[0mw\u001b[0m \u001b[0;34m=\u001b[0m \u001b[0mnp\u001b[0m\u001b[0;34m.\u001b[0m\u001b[0mcopy\u001b[0m\u001b[0;34m(\u001b[0m\u001b[0mwp\u001b[0m\u001b[0;34m)\u001b[0m\u001b[0;34m\u001b[0m\u001b[0m\n\u001b[1;32m     27\u001b[0m \u001b[0;34m\u001b[0m\u001b[0m\n\u001b[0;32m---> 28\u001b[0;31m         \u001b[0menergy_record\u001b[0m\u001b[0;34m=\u001b[0m \u001b[0mnp\u001b[0m\u001b[0;34m.\u001b[0m\u001b[0mappend\u001b[0m\u001b[0;34m(\u001b[0m\u001b[0menergy_record\u001b[0m\u001b[0;34m,\u001b[0m \u001b[0menergy\u001b[0m\u001b[0;34m(\u001b[0m\u001b[0mw\u001b[0m\u001b[0;34m,\u001b[0m \u001b[0mX\u001b[0m\u001b[0;34m,\u001b[0m \u001b[0mY\u001b[0m\u001b[0;34m)\u001b[0m\u001b[0;34m)\u001b[0m\u001b[0;34m\u001b[0m\u001b[0m\n\u001b[0m\u001b[1;32m     29\u001b[0m \u001b[0;34m\u001b[0m\u001b[0m\n\u001b[1;32m     30\u001b[0m     \u001b[0;32mreturn\u001b[0m \u001b[0mw\u001b[0m\u001b[0;34m,\u001b[0m \u001b[0menergy_record\u001b[0m\u001b[0;34m,\u001b[0m \u001b[0maccep_p\u001b[0m\u001b[0;34m\u001b[0m\u001b[0m\n",
      "\u001b[0;31mKeyboardInterrupt\u001b[0m: "
     ]
    }
   ],
   "source": [
    "# Tests for part accep p.\n",
    "\n",
    "# alpha and beta in [0.5, 5], for 'interesting' results as per paper.\n",
    "N = 40\n",
    "M = 200\n",
    "alpha = M / N\n",
    "beta = 0.1\n",
    "nb_runs = 100\n",
    "\n",
    "w = 2 * np.random.random_integers(0, 1, N) - 1\n",
    "w_init = 2 * np.random.random_integers(0, 1, N) - 1\n",
    "X = np.random.randn(M, N)\n",
    "Y = np.sign(np.dot(X, w))\n",
    "w, energy_record, accep_p = metropolis(w_init, beta, X, Y, epsilon=0)\n",
    "\n",
    "#plt.plot(accep_p);\n",
    "accep_p = np.asarray(accep_p)\n",
    "plt.hist(accep_p, bins=20);\n",
    "print(len(accep_p))"
   ]
  },
  {
   "cell_type": "code",
   "execution_count": null,
   "metadata": {},
   "outputs": [],
   "source": [
    "# Beta exploration:\n",
    "\n"
   ]
  },
  {
   "cell_type": "code",
   "execution_count": 49,
   "metadata": {},
   "outputs": [
    {
     "name": "stderr",
     "output_type": "stream",
     "text": [
      "/usr/local/lib/python2.7/site-packages/ipykernel_launcher.py:10: DeprecationWarning: This function is deprecated. Please call randint(0, 1 + 1) instead\n",
      "  # Remove the CWD from sys.path while we load stuff.\n",
      "/usr/local/lib/python2.7/site-packages/ipykernel_launcher.py:37: DeprecationWarning: This function is deprecated. Please call randint(0, 1 + 1) instead\n"
     ]
    },
    {
     "ename": "ValueError",
     "evalue": "too many values to unpack",
     "output_type": "error",
     "traceback": [
      "\u001b[0;31m---------------------------------------------------------------------------\u001b[0m",
      "\u001b[0;31mValueError\u001b[0m                                Traceback (most recent call last)",
      "\u001b[0;32m<ipython-input-49-1d4e194dd185>\u001b[0m in \u001b[0;36m<module>\u001b[0;34m()\u001b[0m\n\u001b[1;32m     13\u001b[0m \u001b[0mY\u001b[0m \u001b[0;34m=\u001b[0m \u001b[0mnp\u001b[0m\u001b[0;34m.\u001b[0m\u001b[0msign\u001b[0m\u001b[0;34m(\u001b[0m\u001b[0mnp\u001b[0m\u001b[0;34m.\u001b[0m\u001b[0mdot\u001b[0m\u001b[0;34m(\u001b[0m\u001b[0mX\u001b[0m\u001b[0;34m,\u001b[0m \u001b[0mw\u001b[0m\u001b[0;34m)\u001b[0m\u001b[0;34m)\u001b[0m\u001b[0;34m\u001b[0m\u001b[0m\n\u001b[1;32m     14\u001b[0m \u001b[0;34m\u001b[0m\u001b[0m\n\u001b[0;32m---> 15\u001b[0;31m \u001b[0mpart1_1\u001b[0m \u001b[0;34m=\u001b[0m \u001b[0mmetropolis_mult\u001b[0m\u001b[0;34m(\u001b[0m\u001b[0mnb_runs\u001b[0m\u001b[0;34m,\u001b[0m \u001b[0mbeta\u001b[0m\u001b[0;34m,\u001b[0m \u001b[0mX\u001b[0m\u001b[0;34m,\u001b[0m \u001b[0mY\u001b[0m\u001b[0;34m,\u001b[0m \u001b[0mepsilon\u001b[0m\u001b[0;34m=\u001b[0m\u001b[0;36m0\u001b[0m\u001b[0;34m)\u001b[0m\u001b[0;34m\u001b[0m\u001b[0m\n\u001b[0m\u001b[1;32m     16\u001b[0m \u001b[0mplt\u001b[0m\u001b[0;34m.\u001b[0m\u001b[0mplot\u001b[0m\u001b[0;34m(\u001b[0m\u001b[0mpart1_1\u001b[0m\u001b[0;34m)\u001b[0m\u001b[0;34m;\u001b[0m\u001b[0;34m\u001b[0m\u001b[0m\n",
      "\u001b[0;32m<ipython-input-25-3e83fb277cea>\u001b[0m in \u001b[0;36mmetropolis_mult\u001b[0;34m(nb_runs, beta, X, Y, epsilon)\u001b[0m\n\u001b[1;32m     36\u001b[0m     \u001b[0;32mfor\u001b[0m \u001b[0mk\u001b[0m \u001b[0;32min\u001b[0m \u001b[0mrange\u001b[0m\u001b[0;34m(\u001b[0m\u001b[0;36m0\u001b[0m\u001b[0;34m,\u001b[0m \u001b[0mnb_runs\u001b[0m\u001b[0;34m)\u001b[0m\u001b[0;34m:\u001b[0m\u001b[0;34m\u001b[0m\u001b[0m\n\u001b[1;32m     37\u001b[0m         \u001b[0mw_init\u001b[0m \u001b[0;34m=\u001b[0m  \u001b[0;36m2\u001b[0m \u001b[0;34m*\u001b[0m \u001b[0mnp\u001b[0m\u001b[0;34m.\u001b[0m\u001b[0mrandom\u001b[0m\u001b[0;34m.\u001b[0m\u001b[0mrandom_integers\u001b[0m\u001b[0;34m(\u001b[0m\u001b[0;36m0\u001b[0m\u001b[0;34m,\u001b[0m \u001b[0;36m1\u001b[0m\u001b[0;34m,\u001b[0m \u001b[0mN\u001b[0m\u001b[0;34m)\u001b[0m \u001b[0;34m-\u001b[0m \u001b[0;36m1\u001b[0m\u001b[0;34m\u001b[0m\u001b[0m\n\u001b[0;32m---> 38\u001b[0;31m         \u001b[0m_\u001b[0m\u001b[0;34m,\u001b[0m \u001b[0menergy_record\u001b[0m \u001b[0;34m=\u001b[0m \u001b[0mmetropolis\u001b[0m\u001b[0;34m(\u001b[0m\u001b[0mw_init\u001b[0m\u001b[0;34m,\u001b[0m \u001b[0mbeta\u001b[0m\u001b[0;34m,\u001b[0m \u001b[0mX\u001b[0m\u001b[0;34m,\u001b[0m \u001b[0mY\u001b[0m\u001b[0;34m,\u001b[0m \u001b[0mepsilon\u001b[0m\u001b[0;34m)\u001b[0m\u001b[0;34m\u001b[0m\u001b[0m\n\u001b[0m\u001b[1;32m     39\u001b[0m         \u001b[0menergy_record_acc\u001b[0m \u001b[0;34m=\u001b[0m \u001b[0msum_two_vec_pad\u001b[0m\u001b[0;34m(\u001b[0m\u001b[0menergy_record_acc\u001b[0m\u001b[0;34m,\u001b[0m \u001b[0menergy_record\u001b[0m\u001b[0;34m)\u001b[0m\u001b[0;34m\u001b[0m\u001b[0m\n\u001b[1;32m     40\u001b[0m \u001b[0;34m\u001b[0m\u001b[0m\n",
      "\u001b[0;31mValueError\u001b[0m: too many values to unpack"
     ]
    }
   ],
   "source": [
    "# Tests for part 1.\n",
    "\n",
    "# alpha and beta in [0.5, 5], for 'interesting' results as per paper.\n",
    "N = 40\n",
    "M = 200\n",
    "alpha = M / N\n",
    "beta = 1\n",
    "nb_runs = 100\n",
    "\n",
    "w = 2 * np.random.random_integers(0, 1, N) - 1\n",
    "\n",
    "X = np.random.randn(M, N)\n",
    "Y = np.sign(np.dot(X, w))\n",
    "\n",
    "part1_1 = metropolis_mult(nb_runs, beta, X, Y, epsilon=0)\n",
    "plt.plot(part1_1);"
   ]
  },
  {
   "cell_type": "code",
   "execution_count": 6,
   "metadata": {},
   "outputs": [],
   "source": [
    "###\n",
    "\n",
    "### Part 1\n",
    "\n",
    "###\n",
    "\n",
    "\n",
    "################ 2.\n",
    "\n",
    "def metropolis2(w_init, beta, X, Y, T=10):\n",
    "\n",
    "    N = w_init.shape[0]\n",
    "    M = X.shape[0]\n",
    "    w = np.copy(w_init)\n",
    "    wp = np.copy(w)\n",
    "\n",
    "    for _ in range(0, T):\n",
    "\n",
    "        index_rand = np.random.randint(0, N)\n",
    "        wp = np.copy(w)\n",
    "        wp[index_rand] = -1 * wp[index_rand]\n",
    "\n",
    "        if np.random.uniform() < accept_prob(wp, w, beta, X, Y):\n",
    "            w = np.copy(wp)\n",
    "\n",
    "    energy_record = energy(w, X, Y)\n",
    "\n",
    "    return (1.0/M) * energy_record\n",
    "\n",
    "def metropolis_mult2(nb_runs, N, alpha_list, beta, T):\n",
    "\n",
    "    normalized_energies_per_alpha = np.array([])\n",
    "\n",
    "    for alpha in alpha_list:\n",
    "\n",
    "        M = int(round(alpha * N))\n",
    "\n",
    "        energy_record_acc = np.zeros(nb_runs)\n",
    "        \n",
    "        for i in range(nb_runs):\n",
    "\n",
    "            w = 2 * np.random.random_integers(0, 1, N) - 1\n",
    "            X = np.random.randn(M, N)\n",
    "            Y = np.sign(np.dot(X, w))\n",
    "\n",
    "            w_init = 2 * np.random.random_integers(0, 1, N) - 1\n",
    "\n",
    "            energy_record_acc[i] = metropolis2(w_init, beta, X, Y, T)\n",
    "\n",
    "        normalized_energies_per_alpha = np.append(normalized_energies_per_alpha, np.mean(energy_record_acc))\n",
    "\n",
    "    return normalized_energies_per_alpha"
   ]
  },
  {
   "cell_type": "code",
   "execution_count": 12,
   "metadata": {},
   "outputs": [
    {
     "name": "stderr",
     "output_type": "stream",
     "text": [
      "/usr/local/lib/python2.7/site-packages/ipykernel_launcher.py:42: DeprecationWarning: This function is deprecated. Please call randint(0, 1 + 1) instead\n",
      "/usr/local/lib/python2.7/site-packages/ipykernel_launcher.py:46: DeprecationWarning: This function is deprecated. Please call randint(0, 1 + 1) instead\n"
     ]
    },
    {
     "data": {
      "image/png": "[encoded data removed]",
      "text/plain": [
       "<matplotlib.figure.Figure at 0x10ad38310>"
      ]
     },
     "metadata": {},
     "output_type": "display_data"
    }
   ],
   "source": [
    "################\n",
    "\n",
    "# Tests for part 2.\n",
    "\n",
    "# alpha and beta in [0.5, 5], for 'interesting' results as per paper.\n",
    "N = 40\n",
    "beta = 1\n",
    "\n",
    "alpha_list = np.linspace(0.5,5,10)\n",
    "T = 200\n",
    "nb_runs = 500\n",
    "part1_2 = metropolis_mult2(nb_runs, N, alpha_list, beta, T)\n",
    "\n",
    "plt.plot(alpha_list, part1_2);"
   ]
  },
  {
   "cell_type": "code",
   "execution_count": 13,
   "metadata": {},
   "outputs": [],
   "source": [
    "###\n",
    "\n",
    "### Part 1\n",
    "\n",
    "###\n",
    "\n",
    "\n",
    "################ 3.\n",
    "\n",
    "def metropolis3(w_init, beta, X, Y, epsilon=0):\n",
    "\n",
    "    N = w_init.shape[0]\n",
    "    w = np.copy(w_init)\n",
    "    wp = np.copy(w)\n",
    "\n",
    "    while (energy(w, X, Y) > epsilon):\n",
    "\n",
    "        index_rand = np.random.randint(0, N)\n",
    "        wp = np.copy(w)\n",
    "        wp[index_rand] = -1 * wp[index_rand]\n",
    "\n",
    "        if np.random.uniform() < accept_prob(wp, w, beta, X, Y):\n",
    "            w = np.copy(wp)\n",
    "\n",
    "    return w\n",
    "\n",
    "def metropolis_mult3(nb_runs, N, alpha_list, beta, epsilon=0):\n",
    "\n",
    "    overlap_per_alpha = np.array([])\n",
    "\n",
    "    for alpha in alpha_list:\n",
    "\n",
    "        M = int(round(alpha * N))\n",
    "\n",
    "        overlap_acc = np.zeros(nb_runs)\n",
    "        \n",
    "        for i in range(nb_runs):\n",
    "\n",
    "            w = 2 * np.random.random_integers(0, 1, N) - 1\n",
    "            X = np.random.randn(M, N)\n",
    "            Y = np.sign(np.dot(X, w))\n",
    "\n",
    "            w_init = 2 * np.random.random_integers(0, 1, N) - 1\n",
    "            \n",
    "            wp = metropolis3(w_init, beta, X, Y, epsilon)\n",
    "            \n",
    "            overlap_acc[i] = overlap(wp, w)\n",
    "\n",
    "        overlap_per_alpha = np.append(overlap_per_alpha, np.mean(overlap_acc))\n",
    "\n",
    "    return overlap_per_alpha"
   ]
  },
  {
   "cell_type": "code",
   "execution_count": 8,
   "metadata": {},
   "outputs": [
    {
     "name": "stderr",
     "output_type": "stream",
     "text": [
      "/usr/local/lib/python2.7/site-packages/ipykernel_launcher.py:39: DeprecationWarning: This function is deprecated. Please call randint(0, 1 + 1) instead\n",
      "/usr/local/lib/python2.7/site-packages/ipykernel_launcher.py:43: DeprecationWarning: This function is deprecated. Please call randint(0, 1 + 1) instead\n"
     ]
    },
    {
     "data": {
      "image/png": "[encoded data removed]",
      "text/plain": [
       "<matplotlib.figure.Figure at 0x10e823a50>"
      ]
     },
     "metadata": {},
     "output_type": "display_data"
    }
   ],
   "source": [
    "################\n",
    "\n",
    "# Tests for part 3.\n",
    "\n",
    "# alpha and beta in [0.5, 5], for 'interesting' results as per paper.\n",
    "N = 20\n",
    "beta = 1\n",
    "\n",
    "alpha_list = np.linspace(0.5,5,20)\n",
    "nb_runs = 50\n",
    "part1_3 = metropolis_mult3(nb_runs, N, alpha_list, beta)\n",
    "\n",
    "plt.plot(alpha_list, part1_3);"
   ]
  },
  {
   "cell_type": "code",
   "execution_count": 14,
   "metadata": {},
   "outputs": [],
   "source": [
    "###\n",
    "\n",
    "### Part 2\n",
    "\n",
    "###\n",
    "\n",
    "\n",
    "################ 1.\n",
    "\n",
    "def metropolis4(w_init, beta_init, pace, step, is_pace, X, Y, T):\n",
    "\n",
    "    N = w_init.shape[0]\n",
    "    M = X.shape[0]\n",
    "    w = np.copy(w_init)\n",
    "    wp = np.copy(w)\n",
    "    \n",
    "    beta = beta_init\n",
    "    \n",
    "    for _ in range(0, T):\n",
    "\n",
    "        index_rand = np.random.randint(0, N)\n",
    "        wp = np.copy(w)\n",
    "        wp[index_rand] = -1 * wp[index_rand]\n",
    "\n",
    "        if np.random.uniform() < accept_prob(wp, w, beta, X, Y):\n",
    "            w = np.copy(wp)\n",
    "        \n",
    "        if is_pace:\n",
    "            beta *= pace\n",
    "        else:\n",
    "            beta += step\n",
    "    \n",
    "    energy_record = energy(w, X, Y)\n",
    "    \n",
    "    return w, (1.0/M) * energy_record\n",
    "\n",
    "\n",
    "def metropolis_mult4(nb_runs, N, alpha_list, beta_init, pace, step, is_pace, T):\n",
    "    \n",
    "    normalized_energies_per_alpha = np.array([])\n",
    "    overlap_per_alpha = np.array([])\n",
    "\n",
    "    for alpha in alpha_list:\n",
    "\n",
    "        M = int(round(alpha * N))\n",
    "\n",
    "        overlap_acc = np.zeros(nb_runs)\n",
    "        energy_record_acc = np.zeros(nb_runs)\n",
    "        \n",
    "        for i in range(nb_runs):\n",
    "\n",
    "            w = 2 * np.random.random_integers(0, 1, N) - 1\n",
    "            X = np.random.randn(M, N)\n",
    "            Y = np.sign(np.dot(X, w))\n",
    "\n",
    "            w_init = 2 * np.random.random_integers(0, 1, N) - 1\n",
    "            \n",
    "            wp, energy_record = metropolis4(w_init, beta_init, pace, step, is_pace, X, Y, T)\n",
    "            \n",
    "            energy_record_acc[i] = energy_record\n",
    "            overlap_acc[i] = overlap(wp, w)\n",
    "\n",
    "        overlap_per_alpha = np.append(overlap_per_alpha, np.mean(overlap_acc))\n",
    "        normalized_energies_per_alpha = np.append(normalized_energies_per_alpha, np.mean(energy_record_acc))\n",
    "        \n",
    "    return normalized_energies_per_alpha, overlap_per_alpha"
   ]
  },
  {
   "cell_type": "code",
   "execution_count": 22,
   "metadata": {},
   "outputs": [
    {
     "name": "stderr",
     "output_type": "stream",
     "text": [
      "/usr/local/lib/python2.7/site-packages/ipykernel_launcher.py:52: DeprecationWarning: This function is deprecated. Please call randint(0, 1 + 1) instead\n",
      "/usr/local/lib/python2.7/site-packages/ipykernel_launcher.py:56: DeprecationWarning: This function is deprecated. Please call randint(0, 1 + 1) instead\n",
      "/usr/local/lib/python2.7/site-packages/ipykernel_launcher.py:21: RuntimeWarning: overflow encountered in exp\n"
     ]
    }
   ],
   "source": [
    "################\n",
    "\n",
    "# Tests for part 1 and part 2\n",
    "\n",
    "# alpha and beta in [0.5, 5], for 'interesting' results as per paper.\n",
    "N = 40\n",
    "beta_init = 0.1\n",
    "pace = 1.02\n",
    "step = 0.1\n",
    "is_pace = True\n",
    "\n",
    "alpha_list = np.linspace(0.5,5,20)\n",
    "nb_runs = 100\n",
    "T = 1000\n",
    "\n",
    "part2_1, part2_2 = metropolis_mult4(nb_runs, N, alpha_list, beta_init, pace, step, is_pace, T)"
   ]
  },
  {
   "cell_type": "code",
   "execution_count": 23,
   "metadata": {},
   "outputs": [
    {
     "data": {
      "image/png": "[encoded data removed]",
      "text/plain": [
       "<matplotlib.figure.Figure at 0x10acfe650>"
      ]
     },
     "metadata": {},
     "output_type": "display_data"
    }
   ],
   "source": [
    "plt.plot(alpha_list, part2_1);"
   ]
  },
  {
   "cell_type": "code",
   "execution_count": 12,
   "metadata": {},
   "outputs": [
    {
     "data": {
      "image/png": "[encoded data removed]",
      "text/plain": [
       "<matplotlib.figure.Figure at 0x10f6eed90>"
      ]
     },
     "metadata": {},
     "output_type": "display_data"
    }
   ],
   "source": [
    "plt.plot(alpha_list, part2_2);"
   ]
  },
  {
   "cell_type": "code",
   "execution_count": 31,
   "metadata": {},
   "outputs": [
    {
     "name": "stdout",
     "output_type": "stream",
     "text": [
      "1.72702877558e-134\n"
     ]
    },
    {
     "name": "stderr",
     "output_type": "stream",
     "text": [
      "/usr/local/lib/python2.7/site-packages/ipykernel_launcher.py:7: DeprecationWarning: This function is deprecated. Please call randint(0, 1 + 1) instead\n",
      "  import sys\n",
      "/usr/local/lib/python2.7/site-packages/ipykernel_launcher.py:8: DeprecationWarning: This function is deprecated. Please call randint(0, 1 + 1) instead\n",
      "  \n"
     ]
    }
   ],
   "source": [
    "N = 40\n",
    "M = 200\n",
    "alpha = M / N\n",
    "beta = 2\n",
    "nb_runs = 100\n",
    "\n",
    "w = 2 * np.random.random_integers(0, 1, N) - 1\n",
    "wp = 2 * np.random.random_integers(0, 1, N) - 1\n",
    "X = np.random.randn(M, N)\n",
    "Y = np.sign(np.dot(X, w))\n",
    "\n",
    "def accept_prob(wp, w, beta, X, Y):\n",
    "    return np.exp(-beta*(energy(wp, X, Y) - energy(w, X, Y)))\n",
    "\n",
    "\n",
    "k = accept_prob(wp, w, beta, X, Y)\n",
    "print(k)"
   ]
  },
  {
   "cell_type": "code",
   "execution_count": 35,
   "metadata": {},
   "outputs": [],
   "source": [
    "def energy(w, X, Y):\n",
    "    Y_est = np.sign(np.dot(X, w))\n",
    "    return 0.5 * np.sum((Y - Y_est)**2) \n",
    "\n",
    "def accept_prob(wp, w, beta, X, Y):\n",
    "    return min(1, np.exp(-beta*(energy(wp, X, Y) - energy(w, X, Y))))\n",
    "\n",
    "def overlap(wp, w):\n",
    "    return 1.0 / (w.shape[0]) * np.dot(w, wp)\n",
    "\n",
    "def metropolis_sim_anneal(w_init, beta_init, beta_pace, X, Y, epsilon=0):\n",
    "    M = X.shape[0]\n",
    "    N = w_init.shape[0]\n",
    "    w_est = np.copy(w_init)\n",
    "    wp = np.copy(w_est)\n",
    "    beta = beta_init\n",
    "    energy_record = np.array([])\n",
    "    energy_record = np.append(energy_record, energy(w_init, X, Y))\n",
    "\n",
    "    while (energy(w_est, X, Y) / M > epsilon):\n",
    "\n",
    "        index_rand = np.random.randint(0, N)\n",
    "        wp = np.copy(w_est)\n",
    "        wp[index_rand] = -1 * wp[index_rand]\n",
    "\n",
    "        if np.random.uniform() < accept_prob(wp, w_est, beta, X, Y):\n",
    "            w_est = np.copy(wp)\n",
    "            \n",
    "        beta = beta * beta_pace\n",
    "        energy_record= np.append(energy_record, energy(w_est, X, Y))\n",
    "\n",
    "    return w_est, energy_record"
   ]
  },
  {
   "cell_type": "code",
   "execution_count": 79,
   "metadata": {},
   "outputs": [
    {
     "name": "stderr",
     "output_type": "stream",
     "text": [
      "/usr/local/lib/python2.7/site-packages/ipykernel_launcher.py:8: DeprecationWarning: This function is deprecated. Please call randint(0, 1 + 1) instead\n",
      "  \n",
      "/usr/local/lib/python2.7/site-packages/ipykernel_launcher.py:11: DeprecationWarning: This function is deprecated. Please call randint(0, 1 + 1) instead\n",
      "  # This is added back by InteractiveShellApp.init_path()\n"
     ]
    }
   ],
   "source": [
    "N = 40\n",
    "M =20000\n",
    "alpha = M / N\n",
    "beta_init = 0.01\n",
    "beta_pace = 1.01\n",
    "epsilon = 0.01\n",
    "\n",
    "w = 2 * np.random.random_integers(0, 1, N) - 1\n",
    "X = np.random.randn(M, N)\n",
    "Y = np.sign(np.dot(X, w))\n",
    "w_init = 2 * np.random.random_integers(0, 1, N) - 1\n",
    "\n"
   ]
  },
  {
   "cell_type": "code",
   "execution_count": 81,
   "metadata": {},
   "outputs": [
    {
     "data": {
      "text/plain": [
       "[<matplotlib.lines.Line2D at 0x10cc35490>]"
      ]
     },
     "execution_count": 81,
     "metadata": {},
     "output_type": "execute_result"
    },
    {
     "data": {
      "image/png": "[encoded data removed]",
      "text/plain": [
       "<matplotlib.figure.Figure at 0x10d87dbd0>"
      ]
     },
     "metadata": {},
     "output_type": "display_data"
    }
   ],
   "source": [
    "w_est, energy_record = metropolis_sim_anneal(w_init, beta_init, beta_pace, X, Y, epsilon)\n",
    "\n",
    "plt.plot(energy_record)"
   ]
  },
  {
   "cell_type": "markdown",
   "metadata": {},
   "source": [
    "# Questions:\n",
    "\n",
    "1. How do we update beta?\n",
    "\n",
    "At which pace you increase the value\n",
    "of β and 3) by how much you increase the value of β at each step\n",
    "\n",
    "2. What to include in the Report?\n",
    "\n",
    "3. Storing previous minima.\n",
    "\n",
    "4. When to generate the Data\n"
   ]
  },
  {
   "cell_type": "code",
   "execution_count": null,
   "metadata": {},
   "outputs": [],
   "source": []
  }
 ],
 "metadata": {
  "kernelspec": {
   "display_name": "Python 3",
   "language": "python",
   "name": "python3"
  },
  "language_info": {
   "codemirror_mode": {
    "name": "ipython",
    "version": 2
   },
   "file_extension": ".py",
   "mimetype": "text/x-python",
   "name": "python",
   "nbconvert_exporter": "python",
   "pygments_lexer": "ipython2",
   "version": "2.7.14"
  }
 },
 "nbformat": 4,
 "nbformat_minor": 2
}
