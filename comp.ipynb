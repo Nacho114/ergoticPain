{
 "cells": [
  {
   "cell_type": "code",
   "execution_count": 1,
   "metadata": {},
   "outputs": [],
   "source": [
    "import numpy as np\n",
    "import matplotlib.pyplot as plt\n",
    "%matplotlib inline\n",
    "import scipy.io"
   ]
  },
  {
   "cell_type": "code",
   "execution_count": 2,
   "metadata": {},
   "outputs": [],
   "source": [
    "\n",
    "\n",
    "'''\n",
    "Returns the sum of 2 vectors of not necesseraly the same length by appending 0's to the shorter vector.\n",
    "'''\n",
    "def sum_two_vec_pad(a, b):\n",
    "    if len(a) < len(b):\n",
    "        c = b.copy()\n",
    "        c[:len(a)] += a\n",
    "    else:\n",
    "        c = a.copy()\n",
    "        c[:len(b)] += b\n",
    "    return c\n",
    "\n",
    "'''\n",
    "returns the energy for an estimated weight vector omega, with data (X, Y)\n",
    "'''\n",
    "def energy(w, X, Y):\n",
    "    Y_est = np.sign(np.dot(X, w))\n",
    "    return 0.5 * np.sum((Y - Y_est)**2)\n",
    "\n",
    "def accept_prob(wp, w, beta, X, Y):\n",
    "    return min(1, np.exp(-beta*(energy(wp, X, Y) - energy(w, X, Y))))\n",
    "\n",
    "def accept_prob_with_energy(wp, w, beta, X, Y):\n",
    "    next_energy = energy(wp, X, Y)\n",
    "    return (min(1, np.exp(-beta*(next_energy - energy(w, X, Y)))), next_energy)\n",
    "\n",
    "def accept_prob_with_energy_using_energy(wp, prev_energy, beta, X, Y):\n",
    "    next_energy = energy(wp, X, Y)\n",
    "    return (min(1.0, np.exp(-beta*(next_energy - prev_energy))), next_energy)\n",
    "\n",
    "def overlap(wp, w):\n",
    "    return 1.0 / (w.shape[0]) * np.dot(w, wp)\n",
    "\n",
    "def delta_energy_fast(w, wp, idx, X, Y):\n",
    "    Xw = np.dot(X, w)\n",
    "    w_tmp = np.zeros(w.shape[0])\n",
    "    w_tmp[idx] = wp[idx] - w[idx]\n",
    "    Xwp = Xw + np.dot(X, w_tmp)\n",
    "    Y_est = np.sign(Xw)\n",
    "    Y_estp = np.sign(Xwp)\n",
    "    return 0.5 * np.sum((Y - Y_estp)**2),  0.5*np.sum((Y - Y_est)**2)\n",
    "\n",
    "def accept_prob_fast(wp, w, beta, X, Y, idx):\n",
    "    e_next, e = delta_energy_fast(w, wp, idx, X, Y)\n",
    "    return min(1, np.exp(-beta*(e_next - e))), e_next\n"
   ]
  },
  {
   "cell_type": "code",
   "execution_count": 25,
   "metadata": {},
   "outputs": [],
   "source": [
    "def metropolis_fastest(nb_iter, w_init, beta, beta_pace, X, Y, epsilon=0):\n",
    "\n",
    "    N = w_init.shape[0]\n",
    "    w = np.copy(w_init)\n",
    "\n",
    "    energy_record = np.array([])\n",
    "    current_energy = energy(w, X, Y)\n",
    "    energy_record = np.append(energy_record, current_energy)\n",
    "    ctr = 0\n",
    "    while (current_energy > epsilon and ctr < nb_iter):\n",
    "        ctr += 1\n",
    "        index_rand = np.random.randint(0, N)\n",
    "        wp = np.copy(w)\n",
    "        wp[index_rand] = -1 * wp[index_rand]\n",
    "        \n",
    "        accept_probability, next_energy = accept_prob_with_energy_using_energy(wp, current_energy, beta, X, Y)\n",
    "        if np.random.uniform() < accept_probability:\n",
    "            # accept the move, update the weights and the current energy\n",
    "            w = wp \n",
    "            current_energy = next_energy\n",
    "        \n",
    "        energy_record= np.append(energy_record, current_energy)\n",
    "        beta = beta * beta_pace\n",
    "        \n",
    "    return w, energy_record\n",
    "\n",
    "def metropolis_mult_fastest(nb_iter, nb_runs, beta, beta_pace, N, M, X, Y, epsilon=0):\n",
    "    energy_record_acc = np.zeros(N)\n",
    "\n",
    "    for k in range(0, nb_runs):\n",
    "        w_init =  2 * np.random.randint(0, 2, N) - 1\n",
    "        _, energy_record = metropolis_fastest(nb_iter, w_init, beta, beta_pace, X, Y, epsilon)\n",
    "        energy_record_acc = sum_two_vec_pad(energy_record_acc, energy_record)\n",
    "        \n",
    "\n",
    "    return energy_record_acc / nb_runs"
   ]
  },
  {
   "cell_type": "code",
   "execution_count": 32,
   "metadata": {},
   "outputs": [],
   "source": [
    "# Import .mat files\n",
    "\n",
    "file_name = 'competition/randomData.mat'\n",
    "var = scipy.io.loadmat(file_name)\n",
    "\n",
    "y = var['y']\n",
    "X = var['X']\n",
    "M = int(var['M'])\n",
    "N = int(var['N'])\n",
    "M_test = int(var['M_test'])\n",
    "X_test = var['X_test']\n",
    "\n",
    "beta = 0.3\n",
    "beta_pace = 1.001\n",
    "nb_iter = 10000\n",
    "nb_runs = 1"
   ]
  },
  {
   "cell_type": "code",
   "execution_count": 33,
   "metadata": {},
   "outputs": [
    {
     "data": {
      "text/plain": [
       "[<matplotlib.lines.Line2D at 0x10cb38090>]"
      ]
     },
     "execution_count": 33,
     "metadata": {},
     "output_type": "execute_result"
    },
    {
     "data": {
      "image/png": "[encoded data removed]",
      "text/plain": [
       "<matplotlib.figure.Figure at 0x10c730610>"
      ]
     },
     "metadata": {},
     "output_type": "display_data"
    }
   ],
   "source": [
    "e_records = metropolis_mult_fastest(nb_iter, nb_runs, beta, beta_pace, N, M, X, y, epsilon=0);\n",
    "plt.plot(e_records)"
   ]
  },
  {
   "cell_type": "code",
   "execution_count": null,
   "metadata": {},
   "outputs": [],
   "source": []
  }
 ],
 "metadata": {
  "kernelspec": {
   "display_name": "Python 3",
   "language": "python",
   "name": "python3"
  },
  "language_info": {
   "codemirror_mode": {
    "name": "ipython",
    "version": 2
   },
   "file_extension": ".py",
   "mimetype": "text/x-python",
   "name": "python",
   "nbconvert_exporter": "python",
   "pygments_lexer": "ipython2",
   "version": "2.7.14"
  }
 },
 "nbformat": 4,
 "nbformat_minor": 2
}
