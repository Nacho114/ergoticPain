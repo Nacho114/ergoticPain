{
 "cells": [
  {
   "cell_type": "code",
   "execution_count": 1,
   "metadata": {},
   "outputs": [],
   "source": [
    "import numpy as np\n",
    "import matplotlib.pyplot as plt\n",
    "%matplotlib inline"
   ]
  },
  {
   "cell_type": "code",
   "execution_count": 65,
   "metadata": {},
   "outputs": [],
   "source": [
    "'''\n",
    "Returns the sum of 2 vectors of not necesseraly the same length by appending 0's to the shorter vector.\n",
    "'''\n",
    "def sum_two_vec_pad(a, b):\n",
    "    if len(a) < len(b):\n",
    "        c = b.copy()\n",
    "        c[:len(a)] += a\n",
    "    else:\n",
    "        c = a.copy()\n",
    "        c[:len(b)] += b\n",
    "    return c\n",
    "\n",
    "'''\n",
    "returns the energy for an estimated weight vector omega, with data (X, Y)\n",
    "'''\n",
    "def energy(w, X, Y):\n",
    "    Y_est = np.sign(np.dot(X, w))\n",
    "    return 0.5 * np.sum((Y - Y_est)**2)\n",
    "\n",
    "def accept_prob(wp, w, beta, X, Y):\n",
    "    return min(1, np.exp(-beta*(energy(wp, X, Y) - energy(w, X, Y))))\n",
    "\n",
    "def accept_prob_with_energy(wp, w, beta, X, Y):\n",
    "    next_energy = energy(wp, X, Y)\n",
    "    return (min(1, np.exp(-beta*(next_energy - energy(w, X, Y)))), next_energy)\n",
    "\n",
    "def accept_prob_with_energy_using_energy(wp, prev_energy, beta, X, Y):\n",
    "    next_energy = energy(wp, X, Y)\n",
    "    return (min(1, np.exp(-beta*(next_energy - prev_energy))), next_energy)\n",
    "\n",
    "def overlap(wp, w):\n",
    "    return 1.0 / (w.shape[0]) * np.dot(w, wp)"
   ]
  },
  {
   "cell_type": "code",
   "execution_count": 49,
   "metadata": {},
   "outputs": [],
   "source": [
    "def delta_energy_fast(w, wp, idx, X, Y):\n",
    "    Xw = np.dot(X, w)\n",
    "    w_tmp = np.zeros(w.shape[0])\n",
    "    w_tmp[idx] = wp[idx] - w[idx] \n",
    "    Xwp = Xw + np.dot(X, w_tmp)\n",
    "    Y_est = np.sign(Xw)\n",
    "    Y_estp = np.sign(Xwp)\n",
    "    return 0.5 * np.sum((Y - Y_estp)**2),  0.5*np.sum((Y - Y_est)**2)\n",
    "\n",
    "\n",
    "def accept_prob_fast(wp, w, beta, X, Y, idx):\n",
    "    e_next, e = delta_energy_fast(w, wp, idx, X, Y)\n",
    "    return min(1, np.exp(-beta*(e_next - e))), e_next"
   ]
  },
  {
   "cell_type": "code",
   "execution_count": 6,
   "metadata": {},
   "outputs": [],
   "source": [
    "np.random.seed(2121)"
   ]
  },
  {
   "cell_type": "code",
   "execution_count": 23,
   "metadata": {},
   "outputs": [
    {
     "data": {
      "text/plain": [
       "array([ 1, -1, -1,  1,  1,  1])"
      ]
     },
     "execution_count": 23,
     "metadata": {},
     "output_type": "execute_result"
    }
   ],
   "source": [
    "2*np.random.randint(0, 2, 6) -1"
   ]
  },
  {
   "cell_type": "code",
   "execution_count": 24,
   "metadata": {},
   "outputs": [
    {
     "data": {
      "text/plain": [
       "array([-1, -1, -1,  1, -1,  1])"
      ]
     },
     "execution_count": 24,
     "metadata": {},
     "output_type": "execute_result"
    }
   ],
   "source": [
    "2*np.random.randint(0, 2, 6) -1"
   ]
  },
  {
   "cell_type": "code",
   "execution_count": 25,
   "metadata": {},
   "outputs": [
    {
     "data": {
      "text/plain": [
       "array([ 1,  1,  1,  1,  1, -1])"
      ]
     },
     "execution_count": 25,
     "metadata": {},
     "output_type": "execute_result"
    }
   ],
   "source": [
    "2*np.random.randint(0, 2, 6) -1"
   ]
  },
  {
   "cell_type": "code",
   "execution_count": 26,
   "metadata": {},
   "outputs": [],
   "source": [
    "def metropolis(w_init, beta, X, Y, epsilon=0):\n",
    "\n",
    "    N = w_init.shape[0]\n",
    "    w = np.copy(w_init)\n",
    "    wp = np.copy(w)\n",
    "\n",
    "    energy_record = np.array([])\n",
    "    energy_record = np.append(energy_record, energy(w_init, X, Y))\n",
    "\n",
    "    while (energy(w, X, Y) > epsilon):\n",
    "\n",
    "        index_rand = np.random.randint(0, N)\n",
    "        wp = np.copy(w)\n",
    "        wp[index_rand] = -1 * wp[index_rand]\n",
    "\n",
    "        if np.random.uniform() < accept_prob(wp, w, beta, X, Y):\n",
    "            w = np.copy(wp)\n",
    "\n",
    "        energy_record= np.append(energy_record, energy(w, X, Y))\n",
    "\n",
    "    return w, energy_record"
   ]
  },
  {
   "cell_type": "code",
   "execution_count": 32,
   "metadata": {},
   "outputs": [],
   "source": [
    "def metropolis_mult(nb_runs, beta, X, Y, epsilon=0):\n",
    "    N = X.shape[1]\n",
    "    # why of size N\n",
    "    energy_record_acc = np.zeros(N)\n",
    "\n",
    "    for k in range(0, nb_runs):\n",
    "        w_init =  2 * np.random.randint(0, 2, N) - 1\n",
    "        _, energy_record = metropolis(w_init, beta, X, Y, epsilon)\n",
    "        #print(energy_record, \" at run \", k)\n",
    "        energy_record_acc = sum_two_vec_pad(energy_record_acc, energy_record)\n",
    "\n",
    "\n",
    "    return energy_record_acc / nb_runs"
   ]
  },
  {
   "cell_type": "code",
   "execution_count": 33,
   "metadata": {},
   "outputs": [],
   "source": [
    "###\n",
    "\n",
    "### Part 1\n",
    "\n",
    "###\n",
    "\n",
    "\n",
    "################ 1.\n",
    "\n",
    "\n",
    "def metropolis_fast(w_init, beta, X, Y, epsilon=0):\n",
    "\n",
    "    N = w_init.shape[0]\n",
    "    w = np.copy(w_init)\n",
    "\n",
    "    energy_record = np.array([])\n",
    "    current_energy = energy(w, X, Y)\n",
    "    energy_record = np.append(energy_record, current_energy)\n",
    "\n",
    "    while (current_energy > epsilon):\n",
    "\n",
    "        index_rand = np.random.randint(0, N)\n",
    "        wp = np.copy(w)\n",
    "        wp[index_rand] = -1 * wp[index_rand]\n",
    "\n",
    "        if np.random.uniform() < accept_prob(wp, w, beta, X, Y):\n",
    "            # accept the move, update the weights and the current energy\n",
    "            # TODO: we can also optimize this as accept prob inherently computes this energy\n",
    "            w = wp \n",
    "            current_energy = energy(w, X, Y)\n",
    "        \n",
    "        energy_record= np.append(energy_record, current_energy)\n",
    "\n",
    "    return w, energy_record\n",
    "\n",
    "def metropolis_mult_fast(nb_runs, beta, X, Y, epsilon=0):\n",
    "    N = X.shape[1]\n",
    "    # why of size N\n",
    "    energy_record_acc = np.zeros(N)\n",
    "\n",
    "    for k in range(0, nb_runs):\n",
    "        w_init =  2 * np.random.randint(0, 2, N) - 1\n",
    "        _, energy_record = metropolis_fast(w_init, beta, X, Y, epsilon)\n",
    "        #print(energy_record, \" at run \", k)\n",
    "        energy_record_acc = sum_two_vec_pad(energy_record_acc, energy_record)\n",
    "\n",
    "\n",
    "    return energy_record_acc / nb_runs"
   ]
  },
  {
   "cell_type": "code",
   "execution_count": 52,
   "metadata": {},
   "outputs": [],
   "source": [
    "def metropolis_fast1(w_init, beta, X, Y, epsilon=0):\n",
    "\n",
    "    N = w_init.shape[0]\n",
    "    w = np.copy(w_init)\n",
    "\n",
    "    energy_record = np.array([])\n",
    "    current_energy = energy(w, X, Y)\n",
    "    energy_record = np.append(energy_record, current_energy)\n",
    "\n",
    "    while (current_energy > epsilon):\n",
    "\n",
    "        index_rand = np.random.randint(0, N)\n",
    "        wp = np.copy(w)\n",
    "        wp[index_rand] = -1 * wp[index_rand]\n",
    "        \n",
    "        accept_probability, next_energy = accept_prob_with_energy(wp, w, beta, X, Y)\n",
    "        if np.random.uniform() < accept_probability:\n",
    "            # accept the move, update the weights and the current energy\n",
    "            # TODO: we can also optimize this as accept prob inherently computes this energy\n",
    "            w = wp \n",
    "            current_energy = next_energy\n",
    "        \n",
    "        energy_record= np.append(energy_record, current_energy)\n",
    "\n",
    "    return w, energy_record\n",
    "\n",
    "def metropolis_mult_fast1(nb_runs, beta, X, Y, epsilon=0):\n",
    "    N = X.shape[1]\n",
    "    # why of size N\n",
    "    energy_record_acc = np.zeros(N)\n",
    "\n",
    "    for k in range(0, nb_runs):\n",
    "        w_init =  2 * np.random.randint(0, 2, N) - 1\n",
    "        _, energy_record = metropolis_fast1(w_init, beta, X, Y, epsilon)\n",
    "        #print(energy_record, \" at run \", k)\n",
    "        energy_record_acc = sum_two_vec_pad(energy_record_acc, energy_record)\n",
    "\n",
    "\n",
    "    return energy_record_acc / nb_runs"
   ]
  },
  {
   "cell_type": "code",
   "execution_count": 66,
   "metadata": {},
   "outputs": [],
   "source": [
    "def metropolis_fastest(w_init, beta, X, Y, epsilon=0):\n",
    "\n",
    "    N = w_init.shape[0]\n",
    "    w = np.copy(w_init)\n",
    "\n",
    "    energy_record = np.array([])\n",
    "    current_energy = energy(w, X, Y)\n",
    "    energy_record = np.append(energy_record, current_energy)\n",
    "\n",
    "    while (current_energy > epsilon):\n",
    "\n",
    "        index_rand = np.random.randint(0, N)\n",
    "        wp = np.copy(w)\n",
    "        wp[index_rand] = -1 * wp[index_rand]\n",
    "        \n",
    "        accept_probability, next_energy = accept_prob_with_energy_using_energy(wp, current_energy, beta, X, Y)\n",
    "        if np.random.uniform() < accept_probability:\n",
    "            # accept the move, update the weights and the current energy\n",
    "            # TODO: we can also optimize this as accept prob inherently computes this energy\n",
    "            w = wp \n",
    "            current_energy = next_energy\n",
    "        \n",
    "        energy_record= np.append(energy_record, current_energy)\n",
    "\n",
    "    return w, energy_record\n",
    "\n",
    "def metropolis_mult_fastest(nb_runs, beta, X, Y, epsilon=0):\n",
    "    N = X.shape[1]\n",
    "    # why of size N\n",
    "    energy_record_acc = np.zeros(N)\n",
    "\n",
    "    for k in range(0, nb_runs):\n",
    "        w_init =  2 * np.random.randint(0, 2, N) - 1\n",
    "        _, energy_record = metropolis_fastest(w_init, beta, X, Y, epsilon)\n",
    "        #print(energy_record, \" at run \", k)\n",
    "        energy_record_acc = sum_two_vec_pad(energy_record_acc, energy_record)\n",
    "\n",
    "\n",
    "    return energy_record_acc / nb_runs"
   ]
  },
  {
   "cell_type": "code",
   "execution_count": 50,
   "metadata": {},
   "outputs": [],
   "source": [
    "def metropolis_faster(w_init, beta, X, Y, epsilon=0):\n",
    "\n",
    "    N = w_init.shape[0]\n",
    "    w = np.copy(w_init)\n",
    "\n",
    "    energy_record = np.array([])\n",
    "    current_energy = energy(w, X, Y)\n",
    "    energy_record = np.append(energy_record, current_energy)\n",
    "\n",
    "    while (current_energy > epsilon):\n",
    "\n",
    "        index_rand = np.random.randint(0, N)\n",
    "        wp = np.copy(w)\n",
    "        wp[index_rand] = -1 * wp[index_rand]\n",
    "        accept_probability, next_energy = accept_prob_fast(wp, w, beta, X, Y, index_rand)\n",
    "        if np.random.uniform() < accept_probability:\n",
    "            # accept the move, update the weights and the current energy\n",
    "            w = wp \n",
    "            current_energy = next_energy\n",
    "        \n",
    "        energy_record= np.append(energy_record, current_energy)\n",
    "\n",
    "    return w, energy_record\n",
    "\n",
    "def metropolis_mult_faster(nb_runs, beta, X, Y, epsilon=0):\n",
    "    N = X.shape[1]\n",
    "    # why of size N\n",
    "    energy_record_acc = np.zeros(N)\n",
    "\n",
    "    for k in range(0, nb_runs):\n",
    "        w_init =  2 * np.random.randint(0, 2, N) - 1\n",
    "        _, energy_record = metropolis_faster(w_init, beta, X, Y, epsilon)\n",
    "        #print(energy_record, \" at run \", k)\n",
    "        energy_record_acc = sum_two_vec_pad(energy_record_acc, energy_record)\n",
    "\n",
    "\n",
    "    return energy_record_acc / nb_runs"
   ]
  },
  {
   "cell_type": "code",
   "execution_count": 74,
   "metadata": {},
   "outputs": [
    {
     "name": "stderr",
     "output_type": "stream",
     "text": [
      "/mlodata1/sidak/anaconda/envs/python3.6/lib/python3.6/site-packages/ipykernel_launcher.py:8: DeprecationWarning: This function is deprecated. Please call randint(0, 1 + 1) instead\n",
      "  \n"
     ]
    }
   ],
   "source": [
    "# alpha and beta in [0.5, 5], for 'interesting' results as per paper.\n",
    "N = 40\n",
    "M = 200\n",
    "alpha = M / N\n",
    "beta = 0.2\n",
    "\n",
    "w = 2 * np.random.random_integers(0, 1, N) - 1\n",
    "\n",
    "# matrix of shape (200, 40)\n",
    "X = np.random.randn(M, N)\n",
    "\n",
    "# vector of shape (200, )\n",
    "Y = np.sign(np.dot(X, w))\n"
   ]
  },
  {
   "cell_type": "code",
   "execution_count": 85,
   "metadata": {},
   "outputs": [],
   "source": [
    "nb_runs = 10\n"
   ]
  },
  {
   "cell_type": "code",
   "execution_count": 75,
   "metadata": {},
   "outputs": [
    {
     "name": "stdout",
     "output_type": "stream",
     "text": [
      "24.704967570956796\n"
     ]
    },
    {
     "data": {
      "image/png": "[encoded data removed]",
      "text/plain": [
       "<matplotlib.figure.Figure at 0x7f6d99bd0710>"
      ]
     },
     "metadata": {},
     "output_type": "display_data"
    }
   ],
   "source": [
    "# Tests for part 1.\n",
    "import timeit\n",
    "start_time = timeit.default_timer()\n",
    "\n",
    "\n",
    "part1_1 = metropolis_mult_fast(nb_runs, beta, X, Y, epsilon=0)\n",
    "plt.plot(part1_1);\n",
    "elapsed = timeit.default_timer() - start_time\n",
    "print(elapsed)"
   ]
  },
  {
   "cell_type": "code",
   "execution_count": 76,
   "metadata": {},
   "outputs": [
    {
     "name": "stdout",
     "output_type": "stream",
     "text": [
      "35.081297509837896\n"
     ]
    },
    {
     "data": {
      "image/png": "[encoded data removed]",
      "text/plain": [
       "<matplotlib.figure.Figure at 0x7f6d99eecb00>"
      ]
     },
     "metadata": {},
     "output_type": "display_data"
    }
   ],
   "source": [
    "# Tests for part 1.\n",
    "import timeit\n",
    "start_time = timeit.default_timer()\n",
    "\n",
    "part1_1 = metropolis_mult(nb_runs, beta, X, Y, epsilon=0)\n",
    "plt.plot(part1_1);\n",
    "elapsed = timeit.default_timer() - start_time\n",
    "print(elapsed)"
   ]
  },
  {
   "cell_type": "code",
   "execution_count": 77,
   "metadata": {},
   "outputs": [
    {
     "name": "stdout",
     "output_type": "stream",
     "text": [
      "17.854145042132586\n"
     ]
    },
    {
     "data": {
      "image/png": "[encoded data removed]",
      "text/plain": [
       "<matplotlib.figure.Figure at 0x7f6d99bcf908>"
      ]
     },
     "metadata": {},
     "output_type": "display_data"
    }
   ],
   "source": [
    "# Tests for part 1.\n",
    "import timeit\n",
    "start_time = timeit.default_timer()\n",
    "\n",
    "part1_1 = metropolis_mult_faster(nb_runs, beta, X, Y, epsilon=0)\n",
    "plt.plot(part1_1);\n",
    "elapsed = timeit.default_timer() - start_time\n",
    "print(elapsed)"
   ]
  },
  {
   "cell_type": "code",
   "execution_count": 78,
   "metadata": {},
   "outputs": [
    {
     "name": "stdout",
     "output_type": "stream",
     "text": [
      "28.527957543265074\n"
     ]
    },
    {
     "data": {
      "image/png": "[encoded data removed]",
      "text/plain": [
       "<matplotlib.figure.Figure at 0x7f6d99d38828>"
      ]
     },
     "metadata": {},
     "output_type": "display_data"
    }
   ],
   "source": [
    "# Tests for part 1.\n",
    "import timeit\n",
    "start_time = timeit.default_timer()\n",
    "\n",
    "part1_1 = metropolis_mult_fast1(nb_runs, beta, X, Y, epsilon=0)\n",
    "plt.plot(part1_1);\n",
    "elapsed = timeit.default_timer() - start_time\n",
    "print(elapsed)"
   ]
  },
  {
   "cell_type": "code",
   "execution_count": 79,
   "metadata": {},
   "outputs": [
    {
     "name": "stdout",
     "output_type": "stream",
     "text": [
      "16.982359893154353\n"
     ]
    },
    {
     "data": {
      "image/png": "[encoded data removed]",
      "text/plain": [
       "<matplotlib.figure.Figure at 0x7f6d99be3978>"
      ]
     },
     "metadata": {},
     "output_type": "display_data"
    }
   ],
   "source": [
    "# Tests for part 1.\n",
    "import timeit\n",
    "start_time = timeit.default_timer()\n",
    "\n",
    "part1_1 = metropolis_mult_fastest(nb_runs, beta, X, Y, epsilon=0)\n",
    "plt.plot(part1_1);\n",
    "elapsed = timeit.default_timer() - start_time\n",
    "print(elapsed)"
   ]
  },
  {
   "cell_type": "code",
   "execution_count": 86,
   "metadata": {},
   "outputs": [
    {
     "name": "stdout",
     "output_type": "stream",
     "text": [
      "1.525174472015351\n"
     ]
    },
    {
     "data": {
      "image/png": "[encoded data removed]",
      "text/plain": [
       "<matplotlib.figure.Figure at 0x7f6d99a6a5c0>"
      ]
     },
     "metadata": {},
     "output_type": "display_data"
    }
   ],
   "source": [
    "# Tests for part 1.\n",
    "import timeit\n",
    "start_time = timeit.default_timer()\n",
    "\n",
    "part1_1 = metropolis_mult_fastest(nb_runs, beta, X, Y, epsilon=0)\n",
    "plt.plot(part1_1);\n",
    "elapsed = timeit.default_timer() - start_time\n",
    "print(elapsed)"
   ]
  },
  {
   "cell_type": "code",
   "execution_count": 29,
   "metadata": {
    "collapsed": true
   },
   "outputs": [],
   "source": [
    "###\n",
    "\n",
    "### Part 1\n",
    "\n",
    "###\n",
    "\n",
    "\n",
    "################ 2.\n",
    "\n",
    "def metropolis2(w_init, beta, X, Y, T=10):\n",
    "\n",
    "    N = w_init.shape[0]\n",
    "    M = X.shape[0]\n",
    "    w = np.copy(w_init)\n",
    "    wp = np.copy(w)\n",
    "\n",
    "    for _ in range(0, T):\n",
    "\n",
    "        index_rand = np.random.randint(0, N)\n",
    "        wp = np.copy(w)\n",
    "        wp[index_rand] = -1 * wp[index_rand]\n",
    "\n",
    "        if np.random.uniform() < accept_prob(wp, w, beta, X, Y):\n",
    "            w = np.copy(wp)\n",
    "\n",
    "    energy_record = energy(w, X, Y)\n",
    "\n",
    "    return (1.0/M) * energy_record\n",
    "\n",
    "def metropolis_mult2(nb_runs, N, alpha_list, beta, T):\n",
    "\n",
    "    normalized_energies_per_alpha = np.array([])\n",
    "\n",
    "    for alpha in alpha_list:\n",
    "\n",
    "        M = int(round(alpha * N))\n",
    "\n",
    "        energy_record_acc = np.zeros(nb_runs)\n",
    "        \n",
    "        for i in range(nb_runs):\n",
    "\n",
    "            w = 2 * np.random.random_integers(0, 1, N) - 1\n",
    "            X = np.random.randn(M, N)\n",
    "            Y = np.sign(np.dot(X, w))\n",
    "\n",
    "            w_init = 2 * np.random.random_integers(0, 1, N) - 1\n",
    "\n",
    "            energy_record_acc[i] = metropolis2(w_init, beta, X, Y, T)\n",
    "\n",
    "        normalized_energies_per_alpha = np.append(normalized_energies_per_alpha, np.mean(energy_record_acc))\n",
    "\n",
    "    return normalized_energies_per_alpha"
   ]
  },
  {
   "cell_type": "code",
   "execution_count": 28,
   "metadata": {},
   "outputs": [
    {
     "name": "stderr",
     "output_type": "stream",
     "text": [
      "C:\\Users\\furkan\\Anaconda3\\lib\\site-packages\\ipykernel_launcher.py:41: DeprecationWarning: This function is deprecated. Please call randint(0, 1 + 1) instead\n",
      "C:\\Users\\furkan\\Anaconda3\\lib\\site-packages\\ipykernel_launcher.py:45: DeprecationWarning: This function is deprecated. Please call randint(0, 1 + 1) instead\n"
     ]
    },
    {
     "data": {
      "image/png": "[encoded data removed]",
      "text/plain": [
       "<matplotlib.figure.Figure at 0x241d1d53390>"
      ]
     },
     "metadata": {},
     "output_type": "display_data"
    }
   ],
   "source": [
    "################\n",
    "\n",
    "# Tests for part 2.\n",
    "\n",
    "# alpha and beta in [0.5, 5], for 'interesting' results as per paper.\n",
    "N = 20\n",
    "beta = 1\n",
    "\n",
    "alpha_list = np.linspace(0.5,5,10)\n",
    "T = 100\n",
    "nb_runs = 50\n",
    "part1_2 = metropolis_mult2(nb_runs, N, alpha_list, beta, T)\n",
    "\n",
    "plt.plot(alpha_list, part1_2);"
   ]
  },
  {
   "cell_type": "code",
   "execution_count": 19,
   "metadata": {
    "collapsed": true
   },
   "outputs": [],
   "source": [
    "###\n",
    "\n",
    "### Part 1\n",
    "\n",
    "###\n",
    "\n",
    "\n",
    "################ 3.\n",
    "\n",
    "def metropolis3(w_init, beta, X, Y, epsilon=0):\n",
    "\n",
    "    N = w_init.shape[0]\n",
    "    w = np.copy(w_init)\n",
    "    wp = np.copy(w)\n",
    "\n",
    "    while (energy(w, X, Y) > epsilon):\n",
    "\n",
    "        index_rand = np.random.randint(0, N)\n",
    "        wp = np.copy(w)\n",
    "        wp[index_rand] = -1 * wp[index_rand]\n",
    "\n",
    "        if np.random.uniform() < accept_prob(wp, w, beta, X, Y):\n",
    "            w = np.copy(wp)\n",
    "\n",
    "    return w\n",
    "\n",
    "def metropolis_mult3(nb_runs, N, alpha_list, beta, epsilon=0):\n",
    "\n",
    "    overlap_per_alpha = np.array([])\n",
    "\n",
    "    for alpha in alpha_list:\n",
    "\n",
    "        M = int(round(alpha * N))\n",
    "\n",
    "        overlap_acc = np.zeros(nb_runs)\n",
    "        \n",
    "        for i in range(nb_runs):\n",
    "\n",
    "            w = 2 * np.random.random_integers(0, 1, N) - 1\n",
    "            X = np.random.randn(M, N)\n",
    "            Y = np.sign(np.dot(X, w))\n",
    "\n",
    "            w_init = 2 * np.random.random_integers(0, 1, N) - 1\n",
    "            \n",
    "            wp = metropolis3(w_init, beta, X, Y, epsilon)\n",
    "            \n",
    "            overlap_acc[i] = overlap(wp, w)\n",
    "\n",
    "        overlap_per_alpha = np.append(overlap_per_alpha, np.mean(overlap_acc))\n",
    "\n",
    "    return overlap_per_alpha"
   ]
  },
  {
   "cell_type": "code",
   "execution_count": 21,
   "metadata": {},
   "outputs": [
    {
     "name": "stderr",
     "output_type": "stream",
     "text": [
      "C:\\Users\\furkan\\Anaconda3\\lib\\site-packages\\ipykernel_launcher.py:39: DeprecationWarning: This function is deprecated. Please call randint(0, 1 + 1) instead\n",
      "C:\\Users\\furkan\\Anaconda3\\lib\\site-packages\\ipykernel_launcher.py:43: DeprecationWarning: This function is deprecated. Please call randint(0, 1 + 1) instead\n"
     ]
    },
    {
     "data": {
      "image/png": "[encoded data removed]",
      "text/plain": [
       "<matplotlib.figure.Figure at 0x241d0757048>"
      ]
     },
     "metadata": {},
     "output_type": "display_data"
    }
   ],
   "source": [
    "################\n",
    "\n",
    "# Tests for part 3.\n",
    "\n",
    "# alpha and beta in [0.5, 5], for 'interesting' results as per paper.\n",
    "N = 20\n",
    "beta = 1\n",
    "\n",
    "alpha_list = np.linspace(0.5,5,20)\n",
    "nb_runs = 50\n",
    "part1_3 = metropolis_mult3(nb_runs, N, alpha_list, beta)\n",
    "\n",
    "plt.plot(alpha_list, part1_3);"
   ]
  },
  {
   "cell_type": "code",
   "execution_count": 46,
   "metadata": {
    "collapsed": true
   },
   "outputs": [],
   "source": [
    "###\n",
    "\n",
    "### Part 2\n",
    "\n",
    "###\n",
    "\n",
    "\n",
    "################ 1.\n",
    "\n",
    "def metropolis4(w_init, beta_init, pace, step, is_pace, X, Y, T):\n",
    "\n",
    "    N = w_init.shape[0]\n",
    "    M = X.shape[0]\n",
    "    w = np.copy(w_init)\n",
    "    wp = np.copy(w)\n",
    "    \n",
    "    beta = beta_init\n",
    "    \n",
    "    for _ in range(0, T):\n",
    "\n",
    "        index_rand = np.random.randint(0, N)\n",
    "        wp = np.copy(w)\n",
    "        wp[index_rand] = -1 * wp[index_rand]\n",
    "\n",
    "        if np.random.uniform() < accept_prob(wp, w, beta, X, Y):\n",
    "            w = np.copy(wp)\n",
    "        \n",
    "        if is_pace:\n",
    "            beta *= pace\n",
    "        else:\n",
    "            beta += step\n",
    "    \n",
    "    energy_record = energy(w, X, Y)\n",
    "    \n",
    "    return w, (1.0/M) * energy_record\n",
    "\n",
    "\n",
    "def metropolis_mult4(nb_runs, N, alpha_list, beta_init, pace, step, is_pace, T):\n",
    "    \n",
    "    normalized_energies_per_alpha = np.array([])\n",
    "    overlap_per_alpha = np.array([])\n",
    "\n",
    "    for alpha in alpha_list:\n",
    "\n",
    "        M = int(round(alpha * N))\n",
    "\n",
    "        overlap_acc = np.zeros(nb_runs)\n",
    "        energy_record_acc = np.zeros(nb_runs)\n",
    "        \n",
    "        for i in range(nb_runs):\n",
    "\n",
    "            w = 2 * np.random.random_integers(0, 1, N) - 1\n",
    "            X = np.random.randn(M, N)\n",
    "            Y = np.sign(np.dot(X, w))\n",
    "\n",
    "            w_init = 2 * np.random.random_integers(0, 1, N) - 1\n",
    "            \n",
    "            wp, energy_record = metropolis4(w_init, beta_init, pace, step, is_pace, X, Y, T)\n",
    "            \n",
    "            energy_record_acc[i] = energy_record\n",
    "            overlap_acc[i] = overlap(wp, w)\n",
    "\n",
    "        overlap_per_alpha = np.append(overlap_per_alpha, np.mean(overlap_acc))\n",
    "        normalized_energies_per_alpha = np.append(normalized_energies_per_alpha, np.mean(energy_record_acc))\n",
    "        \n",
    "    return normalized_energies_per_alpha, overlap_per_alpha"
   ]
  },
  {
   "cell_type": "code",
   "execution_count": 50,
   "metadata": {},
   "outputs": [
    {
     "name": "stderr",
     "output_type": "stream",
     "text": [
      "C:\\Users\\furkan\\Anaconda3\\lib\\site-packages\\ipykernel_launcher.py:52: DeprecationWarning: This function is deprecated. Please call randint(0, 1 + 1) instead\n",
      "C:\\Users\\furkan\\Anaconda3\\lib\\site-packages\\ipykernel_launcher.py:56: DeprecationWarning: This function is deprecated. Please call randint(0, 1 + 1) instead\n"
     ]
    }
   ],
   "source": [
    "################\n",
    "\n",
    "# Tests for part 1 and part 2\n",
    "\n",
    "# alpha and beta in [0.5, 5], for 'interesting' results as per paper.\n",
    "N = 20\n",
    "beta_init = 1\n",
    "pace = 1.02\n",
    "step = 0.1\n",
    "is_pace = True\n",
    "\n",
    "alpha_list = np.linspace(0.5,5,20)\n",
    "nb_runs = 50\n",
    "T = 100\n",
    "\n",
    "part2_1, part2_2 = metropolis_mult4(nb_runs, N, alpha_list, beta_init, pace, step, is_pace, T)"
   ]
  },
  {
   "cell_type": "code",
   "execution_count": 51,
   "metadata": {},
   "outputs": [
    {
     "data": {
      "image/png": "[encoded data removed]",
      "text/plain": [
       "<matplotlib.figure.Figure at 0x241d1d62208>"
      ]
     },
     "metadata": {},
     "output_type": "display_data"
    }
   ],
   "source": [
    "plt.plot(alpha_list, part2_1);"
   ]
  },
  {
   "cell_type": "code",
   "execution_count": 52,
   "metadata": {},
   "outputs": [
    {
     "data": {
      "image/png": "[encoded data removed]",
      "text/plain": [
       "<matplotlib.figure.Figure at 0x241d1c9e208>"
      ]
     },
     "metadata": {},
     "output_type": "display_data"
    }
   ],
   "source": [
    "plt.plot(alpha_list, part2_2);"
   ]
  },
  {
   "cell_type": "markdown",
   "metadata": {
    "collapsed": true
   },
   "source": [
    "### Grid Search Setting\n",
    "Beta : 0.1, 0.3, 0.5, 0.9\n",
    "Pace : 1.002, 1.001, 1.0002\n",
    "N : 40, 60, 75, 100\n",
    "alphas = 0. 5 : 5.0, 7.0, 10\n",
    "\n",
    "500-600 times \n",
    "\n",
    "In each of the nb_runs = 50\n",
    "\n",
    "Nb_runs = 50, 40, 30, 20 respectively for the N (i.e. the dimension) \n",
    "\n",
    "Put a time limit of 5 hrs"
   ]
  },
  {
   "cell_type": "code",
   "execution_count": null,
   "metadata": {},
   "outputs": [],
   "source": []
  }
 ],
 "metadata": {
  "kernelspec": {
   "display_name": "Python 3",
   "language": "python",
   "name": "python3"
  },
  "language_info": {
   "codemirror_mode": {
    "name": "ipython",
    "version": 3
   },
   "file_extension": ".py",
   "mimetype": "text/x-python",
   "name": "python",
   "nbconvert_exporter": "python",
   "pygments_lexer": "ipython3",
   "version": "3.6.3"
  }
 },
 "nbformat": 4,
 "nbformat_minor": 2
}
